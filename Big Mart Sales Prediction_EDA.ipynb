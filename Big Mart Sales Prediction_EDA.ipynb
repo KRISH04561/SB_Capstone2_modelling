{
 "cells": [
  {
   "cell_type": "code",
   "execution_count": 1,
   "metadata": {},
   "outputs": [],
   "source": [
    "import pandas as pd\n",
    "import numpy as np\n",
    "import matplotlib.pyplot as plt\n",
    "import seaborn as sns\n",
    "\n",
    "#ignore warning messages to ensure clean outputs\n",
    "import warnings\n",
    "warnings.filterwarnings('ignore')"
   ]
  },
  {
   "cell_type": "markdown",
   "metadata": {},
   "source": [
    "# Description of the variables"
   ]
  },
  {
   "cell_type": "markdown",
   "metadata": {},
   "source": [
    "Variable\t                Description\n",
    "Item_Identifier:            Unique product ID\n",
    "Item_Weight:                Weight of product\n",
    "Item_Fat_Content:           Whether the product is low fat or not\n",
    "Item_Visibility:            The % of total display area of all products in a store allocated to the particular product\n",
    "Item_Type:\t                The category to which the product belongs\n",
    "Item_MRP:\t                Maximum Retail Price (list price) of the product\n",
    "Outlet_Identifier:          Unique store ID\n",
    "Outlet_Establishment_Year:\tThe year in which store was established\n",
    "Outlet_Size:\t            The size of the store in terms of ground area covered\n",
    "Outlet_Location_Type:\t    The type of city in which the store is located\n",
    "Outlet_Type:\t            Whether the outlet is just a grocery store or some sort of supermarket\n",
    "Item_Outlet_Sales:\t        Sales of the product in the particular store. This is the outcome variable to be predicted."
   ]
  },
  {
   "cell_type": "code",
   "execution_count": 2,
   "metadata": {},
   "outputs": [
    {
     "data": {
      "text/html": [
       "<div>\n",
       "<style scoped>\n",
       "    .dataframe tbody tr th:only-of-type {\n",
       "        vertical-align: middle;\n",
       "    }\n",
       "\n",
       "    .dataframe tbody tr th {\n",
       "        vertical-align: top;\n",
       "    }\n",
       "\n",
       "    .dataframe thead th {\n",
       "        text-align: right;\n",
       "    }\n",
       "</style>\n",
       "<table border=\"1\" class=\"dataframe\">\n",
       "  <thead>\n",
       "    <tr style=\"text-align: right;\">\n",
       "      <th></th>\n",
       "      <th>Item_Identifier</th>\n",
       "      <th>Item_Weight</th>\n",
       "      <th>Item_Fat_Content</th>\n",
       "      <th>Item_Visibility</th>\n",
       "      <th>Item_Type</th>\n",
       "      <th>Item_MRP</th>\n",
       "      <th>Outlet_Identifier</th>\n",
       "      <th>Outlet_Establishment_Year</th>\n",
       "      <th>Outlet_Size</th>\n",
       "      <th>Outlet_Location_Type</th>\n",
       "      <th>Outlet_Type</th>\n",
       "      <th>Item_Outlet_Sales</th>\n",
       "    </tr>\n",
       "  </thead>\n",
       "  <tbody>\n",
       "    <tr>\n",
       "      <th>0</th>\n",
       "      <td>FDA15</td>\n",
       "      <td>9.300</td>\n",
       "      <td>Low Fat</td>\n",
       "      <td>0.016047</td>\n",
       "      <td>Dairy</td>\n",
       "      <td>249.8092</td>\n",
       "      <td>OUT049</td>\n",
       "      <td>1999</td>\n",
       "      <td>Medium</td>\n",
       "      <td>Tier 1</td>\n",
       "      <td>Supermarket Type1</td>\n",
       "      <td>3735.1380</td>\n",
       "    </tr>\n",
       "    <tr>\n",
       "      <th>1</th>\n",
       "      <td>DRC01</td>\n",
       "      <td>5.920</td>\n",
       "      <td>Regular</td>\n",
       "      <td>0.019278</td>\n",
       "      <td>Soft Drinks</td>\n",
       "      <td>48.2692</td>\n",
       "      <td>OUT018</td>\n",
       "      <td>2009</td>\n",
       "      <td>Medium</td>\n",
       "      <td>Tier 3</td>\n",
       "      <td>Supermarket Type2</td>\n",
       "      <td>443.4228</td>\n",
       "    </tr>\n",
       "    <tr>\n",
       "      <th>2</th>\n",
       "      <td>FDN15</td>\n",
       "      <td>17.500</td>\n",
       "      <td>Low Fat</td>\n",
       "      <td>0.016760</td>\n",
       "      <td>Meat</td>\n",
       "      <td>141.6180</td>\n",
       "      <td>OUT049</td>\n",
       "      <td>1999</td>\n",
       "      <td>Medium</td>\n",
       "      <td>Tier 1</td>\n",
       "      <td>Supermarket Type1</td>\n",
       "      <td>2097.2700</td>\n",
       "    </tr>\n",
       "    <tr>\n",
       "      <th>3</th>\n",
       "      <td>FDX07</td>\n",
       "      <td>19.200</td>\n",
       "      <td>Regular</td>\n",
       "      <td>0.000000</td>\n",
       "      <td>Fruits and Vegetables</td>\n",
       "      <td>182.0950</td>\n",
       "      <td>OUT010</td>\n",
       "      <td>1998</td>\n",
       "      <td>NaN</td>\n",
       "      <td>Tier 3</td>\n",
       "      <td>Grocery Store</td>\n",
       "      <td>732.3800</td>\n",
       "    </tr>\n",
       "    <tr>\n",
       "      <th>4</th>\n",
       "      <td>NCD19</td>\n",
       "      <td>8.930</td>\n",
       "      <td>Low Fat</td>\n",
       "      <td>0.000000</td>\n",
       "      <td>Household</td>\n",
       "      <td>53.8614</td>\n",
       "      <td>OUT013</td>\n",
       "      <td>1987</td>\n",
       "      <td>High</td>\n",
       "      <td>Tier 3</td>\n",
       "      <td>Supermarket Type1</td>\n",
       "      <td>994.7052</td>\n",
       "    </tr>\n",
       "    <tr>\n",
       "      <th>...</th>\n",
       "      <td>...</td>\n",
       "      <td>...</td>\n",
       "      <td>...</td>\n",
       "      <td>...</td>\n",
       "      <td>...</td>\n",
       "      <td>...</td>\n",
       "      <td>...</td>\n",
       "      <td>...</td>\n",
       "      <td>...</td>\n",
       "      <td>...</td>\n",
       "      <td>...</td>\n",
       "      <td>...</td>\n",
       "    </tr>\n",
       "    <tr>\n",
       "      <th>8518</th>\n",
       "      <td>FDF22</td>\n",
       "      <td>6.865</td>\n",
       "      <td>Low Fat</td>\n",
       "      <td>0.056783</td>\n",
       "      <td>Snack Foods</td>\n",
       "      <td>214.5218</td>\n",
       "      <td>OUT013</td>\n",
       "      <td>1987</td>\n",
       "      <td>High</td>\n",
       "      <td>Tier 3</td>\n",
       "      <td>Supermarket Type1</td>\n",
       "      <td>2778.3834</td>\n",
       "    </tr>\n",
       "    <tr>\n",
       "      <th>8519</th>\n",
       "      <td>FDS36</td>\n",
       "      <td>8.380</td>\n",
       "      <td>Regular</td>\n",
       "      <td>0.046982</td>\n",
       "      <td>Baking Goods</td>\n",
       "      <td>108.1570</td>\n",
       "      <td>OUT045</td>\n",
       "      <td>2002</td>\n",
       "      <td>NaN</td>\n",
       "      <td>Tier 2</td>\n",
       "      <td>Supermarket Type1</td>\n",
       "      <td>549.2850</td>\n",
       "    </tr>\n",
       "    <tr>\n",
       "      <th>8520</th>\n",
       "      <td>NCJ29</td>\n",
       "      <td>10.600</td>\n",
       "      <td>Low Fat</td>\n",
       "      <td>0.035186</td>\n",
       "      <td>Health and Hygiene</td>\n",
       "      <td>85.1224</td>\n",
       "      <td>OUT035</td>\n",
       "      <td>2004</td>\n",
       "      <td>Small</td>\n",
       "      <td>Tier 2</td>\n",
       "      <td>Supermarket Type1</td>\n",
       "      <td>1193.1136</td>\n",
       "    </tr>\n",
       "    <tr>\n",
       "      <th>8521</th>\n",
       "      <td>FDN46</td>\n",
       "      <td>7.210</td>\n",
       "      <td>Regular</td>\n",
       "      <td>0.145221</td>\n",
       "      <td>Snack Foods</td>\n",
       "      <td>103.1332</td>\n",
       "      <td>OUT018</td>\n",
       "      <td>2009</td>\n",
       "      <td>Medium</td>\n",
       "      <td>Tier 3</td>\n",
       "      <td>Supermarket Type2</td>\n",
       "      <td>1845.5976</td>\n",
       "    </tr>\n",
       "    <tr>\n",
       "      <th>8522</th>\n",
       "      <td>DRG01</td>\n",
       "      <td>14.800</td>\n",
       "      <td>Low Fat</td>\n",
       "      <td>0.044878</td>\n",
       "      <td>Soft Drinks</td>\n",
       "      <td>75.4670</td>\n",
       "      <td>OUT046</td>\n",
       "      <td>1997</td>\n",
       "      <td>Small</td>\n",
       "      <td>Tier 1</td>\n",
       "      <td>Supermarket Type1</td>\n",
       "      <td>765.6700</td>\n",
       "    </tr>\n",
       "  </tbody>\n",
       "</table>\n",
       "<p>8523 rows × 12 columns</p>\n",
       "</div>"
      ],
      "text/plain": [
       "     Item_Identifier  Item_Weight Item_Fat_Content  Item_Visibility  \\\n",
       "0              FDA15        9.300          Low Fat         0.016047   \n",
       "1              DRC01        5.920          Regular         0.019278   \n",
       "2              FDN15       17.500          Low Fat         0.016760   \n",
       "3              FDX07       19.200          Regular         0.000000   \n",
       "4              NCD19        8.930          Low Fat         0.000000   \n",
       "...              ...          ...              ...              ...   \n",
       "8518           FDF22        6.865          Low Fat         0.056783   \n",
       "8519           FDS36        8.380          Regular         0.046982   \n",
       "8520           NCJ29       10.600          Low Fat         0.035186   \n",
       "8521           FDN46        7.210          Regular         0.145221   \n",
       "8522           DRG01       14.800          Low Fat         0.044878   \n",
       "\n",
       "                  Item_Type  Item_MRP Outlet_Identifier  \\\n",
       "0                     Dairy  249.8092            OUT049   \n",
       "1               Soft Drinks   48.2692            OUT018   \n",
       "2                      Meat  141.6180            OUT049   \n",
       "3     Fruits and Vegetables  182.0950            OUT010   \n",
       "4                 Household   53.8614            OUT013   \n",
       "...                     ...       ...               ...   \n",
       "8518            Snack Foods  214.5218            OUT013   \n",
       "8519           Baking Goods  108.1570            OUT045   \n",
       "8520     Health and Hygiene   85.1224            OUT035   \n",
       "8521            Snack Foods  103.1332            OUT018   \n",
       "8522            Soft Drinks   75.4670            OUT046   \n",
       "\n",
       "      Outlet_Establishment_Year Outlet_Size Outlet_Location_Type  \\\n",
       "0                          1999      Medium               Tier 1   \n",
       "1                          2009      Medium               Tier 3   \n",
       "2                          1999      Medium               Tier 1   \n",
       "3                          1998         NaN               Tier 3   \n",
       "4                          1987        High               Tier 3   \n",
       "...                         ...         ...                  ...   \n",
       "8518                       1987        High               Tier 3   \n",
       "8519                       2002         NaN               Tier 2   \n",
       "8520                       2004       Small               Tier 2   \n",
       "8521                       2009      Medium               Tier 3   \n",
       "8522                       1997       Small               Tier 1   \n",
       "\n",
       "            Outlet_Type  Item_Outlet_Sales  \n",
       "0     Supermarket Type1          3735.1380  \n",
       "1     Supermarket Type2           443.4228  \n",
       "2     Supermarket Type1          2097.2700  \n",
       "3         Grocery Store           732.3800  \n",
       "4     Supermarket Type1           994.7052  \n",
       "...                 ...                ...  \n",
       "8518  Supermarket Type1          2778.3834  \n",
       "8519  Supermarket Type1           549.2850  \n",
       "8520  Supermarket Type1          1193.1136  \n",
       "8521  Supermarket Type2          1845.5976  \n",
       "8522  Supermarket Type1           765.6700  \n",
       "\n",
       "[8523 rows x 12 columns]"
      ]
     },
     "execution_count": 2,
     "metadata": {},
     "output_type": "execute_result"
    }
   ],
   "source": [
    "df_train=pd.read_csv(\"train_v9rqX0R.csv\")\n",
    "df_train"
   ]
  },
  {
   "cell_type": "code",
   "execution_count": 3,
   "metadata": {},
   "outputs": [
    {
     "name": "stdout",
     "output_type": "stream",
     "text": [
      "<class 'pandas.core.frame.DataFrame'>\n",
      "RangeIndex: 8523 entries, 0 to 8522\n",
      "Data columns (total 12 columns):\n",
      " #   Column                     Non-Null Count  Dtype  \n",
      "---  ------                     --------------  -----  \n",
      " 0   Item_Identifier            8523 non-null   object \n",
      " 1   Item_Weight                7060 non-null   float64\n",
      " 2   Item_Fat_Content           8523 non-null   object \n",
      " 3   Item_Visibility            8523 non-null   float64\n",
      " 4   Item_Type                  8523 non-null   object \n",
      " 5   Item_MRP                   8523 non-null   float64\n",
      " 6   Outlet_Identifier          8523 non-null   object \n",
      " 7   Outlet_Establishment_Year  8523 non-null   int64  \n",
      " 8   Outlet_Size                6113 non-null   object \n",
      " 9   Outlet_Location_Type       8523 non-null   object \n",
      " 10  Outlet_Type                8523 non-null   object \n",
      " 11  Item_Outlet_Sales          8523 non-null   float64\n",
      "dtypes: float64(4), int64(1), object(7)\n",
      "memory usage: 799.2+ KB\n"
     ]
    }
   ],
   "source": [
    "# check the info of the dataframe\n",
    "df_train.info()"
   ]
  },
  {
   "cell_type": "code",
   "execution_count": 4,
   "metadata": {},
   "outputs": [
    {
     "data": {
      "text/plain": [
       "Item_Fat_Content         5\n",
       "Item_Type               16\n",
       "Outlet_Size              3\n",
       "Outlet_Location_Type     3\n",
       "Outlet_Type              4\n",
       "dtype: int64"
      ]
     },
     "execution_count": 4,
     "metadata": {},
     "output_type": "execute_result"
    }
   ],
   "source": [
    "#check the number of unique values the following variables contain:\n",
    "#Item_Fat_Content\n",
    "#Item_Type\n",
    "#Outlet_Size\n",
    "#Outlet_Location_Type\n",
    "#Outlet_Type\n",
    "\n",
    "df_train[['Item_Fat_Content', 'Item_Type', 'Outlet_Size','Outlet_Location_Type','Outlet_Type']].nunique()"
   ]
  },
  {
   "cell_type": "code",
   "execution_count": 5,
   "metadata": {},
   "outputs": [
    {
     "data": {
      "text/plain": [
       "array(['Dairy', 'Soft Drinks', 'Meat', 'Fruits and Vegetables',\n",
       "       'Household', 'Baking Goods', 'Snack Foods', 'Frozen Foods',\n",
       "       'Breakfast', 'Health and Hygiene', 'Hard Drinks', 'Canned',\n",
       "       'Breads', 'Starchy Foods', 'Others', 'Seafood'], dtype=object)"
      ]
     },
     "execution_count": 5,
     "metadata": {},
     "output_type": "execute_result"
    }
   ],
   "source": [
    "# Checking the types of item we have in our dataset\n",
    "df_train['Item_Type'].unique()"
   ]
  },
  {
   "cell_type": "code",
   "execution_count": 6,
   "metadata": {},
   "outputs": [
    {
     "data": {
      "text/plain": [
       "array([ 9.3  ,  5.92 , 17.5  , 19.2  ,  8.93 , 10.395, 13.65 ,    nan,\n",
       "       16.2  , 11.8  , 18.5  , 15.1  , 17.6  , 16.35 ,  9.   , 13.35 ,\n",
       "       18.85 , 14.6  , 13.85 , 13.   ,  7.645, 11.65 ,  5.925, 19.25 ,\n",
       "       18.6  , 18.7  , 17.85 , 10.   ,  8.85 ,  9.8  , 13.6  , 21.35 ,\n",
       "       12.15 ,  6.42 , 19.6  , 15.85 ,  7.39 , 10.195,  9.895, 10.895,\n",
       "        7.905,  9.195,  8.365,  7.97 , 17.7  , 19.35 ,  8.645, 15.6  ,\n",
       "       18.25 ,  7.855,  7.825,  8.39 , 12.85 , 19.   ,  5.905,  7.76 ,\n",
       "       16.75 , 15.5  ,  6.055,  6.305, 20.85 , 20.75 ,  8.895, 19.7  ,\n",
       "        8.75 , 13.3  ,  8.31 , 19.75 , 17.1  , 10.5  ,  6.635, 14.15 ,\n",
       "        8.89 ,  9.1  ,  7.5  , 16.85 ,  7.485, 11.6  , 12.65 , 20.25 ,\n",
       "        8.6  , 12.6  ,  8.88 , 20.5  , 13.5  ,  7.235,  6.92 ,  8.02 ,\n",
       "       12.8  , 16.6  , 14.   , 16.   , 21.25 ,  7.365, 18.35 ,  5.465,\n",
       "        7.27 ,  6.155, 19.5  , 15.2  , 14.5  , 13.1  , 12.3  , 11.1  ,\n",
       "       11.3  ,  5.75 , 11.35 ,  6.525, 10.3  ,  5.78 , 11.85 , 18.75 ,\n",
       "        5.26 , 16.1  ,  9.5  , 13.8  , 14.65 ,  6.67 ,  6.11 , 17.2  ,\n",
       "        6.32 ,  4.88 ,  5.425, 14.1  ,  7.55 , 17.25 , 12.   , 10.1  ,\n",
       "        7.785, 13.15 ,  8.5  ,  7.63 ,  9.285,  7.975, 15.7  ,  8.985,\n",
       "       20.35 ,  6.59 , 19.85 ,  6.26 , 18.2  ,  8.695,  7.075,  8.195,\n",
       "        7.09 ,  6.095,  6.15 ,  9.395, 15.75 ,  7.475,  6.445, 19.1  ,\n",
       "       15.   , 16.7  ,  7.07 ,  6.48 ,  9.695, 11.15 ,  9.6  , 20.7  ,\n",
       "        5.5  ,  7.895, 17.35 ,  7.285,  6.17 , 11.395,  7.71 , 12.1  ,\n",
       "       14.35 ,  8.1  ,  8.05 , 16.5  ,  6.785,  7.575,  7.47 , 15.25 ,\n",
       "        7.605, 18.   , 21.2  ,  8.97 , 10.6  ,  6.865, 10.8  , 15.15 ,\n",
       "       18.1  ,  6.655, 20.1  ,  7.935, 15.35 , 12.35 ,  6.85 ,  8.775,\n",
       "       14.85 ,  7.84 , 12.5  ,  8.325,  5.765,  5.985, 14.3  ,  6.135,\n",
       "        8.51 ,  6.65 ,  5.695,  6.36 ,  8.3  ,  7.56 ,  8.71 ,  6.695,\n",
       "       14.8  , 17.75 ,  8.575,  6.57 ,  8.68 ,  5.63 ,  9.13 ,  6.715,\n",
       "        5.82 ,  7.93 ,  5.   ,  7.445,  6.675,  8.18 ,  6.98 ,  7.435,\n",
       "       20.6  ,  8.355,  8.975, 20.2  ,  5.655,  5.175, 20.   ,  7.67 ,\n",
       "        4.785,  8.395,  6.175,  8.21 ,  5.845,  7.17 ,  8.785,  7.89 ,\n",
       "        5.32 ,  5.03 ,  8.945,  6.28 ,  7.565,  9.31 ,  7.02 ,  5.46 ,\n",
       "        6.13 ,  6.55 , 17.   , 16.25 ,  5.15 ,  7.865,  6.575,  7.06 ,\n",
       "        5.785,  7.42 ,  6.235,  6.75 ,  5.86 ,  5.035,  6.38 ,  5.675,\n",
       "       11.5  , 21.   , 21.1  ,  4.61 ,  7.   ,  6.405, 14.7  ,  7.68 ,\n",
       "        8.185,  8.655, 10.85 ,  8.42 ,  7.85 ,  4.59 ,  7.51 , 11.   ,\n",
       "        6.71 , 14.75 ,  7.59 ,  5.155,  6.365,  8.235,  5.365,  8.485,\n",
       "        7.535,  4.92 ,  6.385,  8.26 ,  7.945,  8.63 ,  9.21 ,  6.965,\n",
       "        8.905,  7.21 ,  7.3  ,  9.27 , 10.695,  6.215,  7.405,  7.72 ,\n",
       "        6.115,  6.035,  6.78 , 15.3  ,  7.105,  7.52 ,  4.805,  6.425,\n",
       "        7.6  ,  6.61 ,  7.325,  8.115,  5.94 ,  5.635,  7.35 ,  5.825,\n",
       "        6.63 ,  7.05 ,  8.315,  6.8  ,  7.035,  8.96 ,  5.51 ,  8.43 ,\n",
       "        8.27 ,  7.81 ,  6.885,  5.44 ,  5.405,  4.635, 10.65 ,  5.735,\n",
       "        6.465,  8.84 ,  7.75 ,  6.765,  9.065,  7.655,  4.615,  8.76 ,\n",
       "        7.1  ,  6.195,  5.615,  8.52 ,  7.26 ,  6.825,  5.325,  5.59 ,\n",
       "        5.88 ,  5.19 ,  6.985,  9.06 ,  6.69 ,  8.615,  7.275,  6.96 ,\n",
       "        9.17 ,  8.155,  5.73 ,  8.935,  8.92 ,  7.36 ,  7.64 ,  5.34 ,\n",
       "        7.22 ,  6.615,  6.76 ,  6.3  ,  5.98 ,  8.06 ,  6.44 ,  5.095,\n",
       "        8.8  ,  6.325,  7.31 ,  9.035,  9.105,  7.145,  4.905,  4.555,\n",
       "        8.   ,  7.315,  6.89 ,  5.945,  6.86 ,  6.935,  6.03 ,  7.725,\n",
       "        5.885,  7.155,  6.46 ,  5.48 ,  8.01 ,  5.8  ,  5.305,  6.905,\n",
       "        7.96 ,  5.11 ,  8.77 ,  7.685,  8.275,  8.38 ,  8.35 ,  9.42 ,\n",
       "        6.775,  6.4  ,  6.895,  5.485,  6.52 ,  8.67 ,  5.21 ,  5.4  ])"
      ]
     },
     "execution_count": 6,
     "metadata": {},
     "output_type": "execute_result"
    }
   ],
   "source": [
    "df_train['Item_Weight'].unique()"
   ]
  },
  {
   "cell_type": "code",
   "execution_count": 10,
   "metadata": {},
   "outputs": [
    {
     "data": {
      "text/plain": [
       "415"
      ]
     },
     "execution_count": 10,
     "metadata": {},
     "output_type": "execute_result"
    }
   ],
   "source": [
    "df_train['Item_Weight'].nunique()"
   ]
  },
  {
   "cell_type": "code",
   "execution_count": 11,
   "metadata": {},
   "outputs": [
    {
     "data": {
      "text/plain": [
       "dtype('float64')"
      ]
     },
     "execution_count": 11,
     "metadata": {},
     "output_type": "execute_result"
    }
   ],
   "source": [
    "df_train['Item_Weight'].dtype"
   ]
  },
  {
   "cell_type": "code",
   "execution_count": 12,
   "metadata": {},
   "outputs": [
    {
     "data": {
      "text/html": [
       "<div>\n",
       "<style scoped>\n",
       "    .dataframe tbody tr th:only-of-type {\n",
       "        vertical-align: middle;\n",
       "    }\n",
       "\n",
       "    .dataframe tbody tr th {\n",
       "        vertical-align: top;\n",
       "    }\n",
       "\n",
       "    .dataframe thead th {\n",
       "        text-align: right;\n",
       "    }\n",
       "</style>\n",
       "<table border=\"1\" class=\"dataframe\">\n",
       "  <thead>\n",
       "    <tr style=\"text-align: right;\">\n",
       "      <th></th>\n",
       "      <th>Item_Identifier</th>\n",
       "      <th>Item_Weight</th>\n",
       "      <th>Item_Fat_Content</th>\n",
       "      <th>Item_Visibility</th>\n",
       "      <th>Item_Type</th>\n",
       "      <th>Item_MRP</th>\n",
       "      <th>Outlet_Identifier</th>\n",
       "      <th>Outlet_Establishment_Year</th>\n",
       "      <th>Outlet_Size</th>\n",
       "      <th>Outlet_Location_Type</th>\n",
       "      <th>Outlet_Type</th>\n",
       "      <th>Item_Outlet_Sales</th>\n",
       "    </tr>\n",
       "  </thead>\n",
       "  <tbody>\n",
       "    <tr>\n",
       "      <th>7</th>\n",
       "      <td>FDP10</td>\n",
       "      <td>NaN</td>\n",
       "      <td>Low Fat</td>\n",
       "      <td>0.127470</td>\n",
       "      <td>Snack Foods</td>\n",
       "      <td>107.7622</td>\n",
       "      <td>OUT027</td>\n",
       "      <td>1985</td>\n",
       "      <td>Medium</td>\n",
       "      <td>Tier 3</td>\n",
       "      <td>Supermarket Type3</td>\n",
       "      <td>4022.7636</td>\n",
       "    </tr>\n",
       "    <tr>\n",
       "      <th>18</th>\n",
       "      <td>DRI11</td>\n",
       "      <td>NaN</td>\n",
       "      <td>Low Fat</td>\n",
       "      <td>0.034238</td>\n",
       "      <td>Hard Drinks</td>\n",
       "      <td>113.2834</td>\n",
       "      <td>OUT027</td>\n",
       "      <td>1985</td>\n",
       "      <td>Medium</td>\n",
       "      <td>Tier 3</td>\n",
       "      <td>Supermarket Type3</td>\n",
       "      <td>2303.6680</td>\n",
       "    </tr>\n",
       "    <tr>\n",
       "      <th>21</th>\n",
       "      <td>FDW12</td>\n",
       "      <td>NaN</td>\n",
       "      <td>Regular</td>\n",
       "      <td>0.035400</td>\n",
       "      <td>Baking Goods</td>\n",
       "      <td>144.5444</td>\n",
       "      <td>OUT027</td>\n",
       "      <td>1985</td>\n",
       "      <td>Medium</td>\n",
       "      <td>Tier 3</td>\n",
       "      <td>Supermarket Type3</td>\n",
       "      <td>4064.0432</td>\n",
       "    </tr>\n",
       "    <tr>\n",
       "      <th>23</th>\n",
       "      <td>FDC37</td>\n",
       "      <td>NaN</td>\n",
       "      <td>Low Fat</td>\n",
       "      <td>0.057557</td>\n",
       "      <td>Baking Goods</td>\n",
       "      <td>107.6938</td>\n",
       "      <td>OUT019</td>\n",
       "      <td>1985</td>\n",
       "      <td>Small</td>\n",
       "      <td>Tier 1</td>\n",
       "      <td>Grocery Store</td>\n",
       "      <td>214.3876</td>\n",
       "    </tr>\n",
       "    <tr>\n",
       "      <th>29</th>\n",
       "      <td>FDC14</td>\n",
       "      <td>NaN</td>\n",
       "      <td>Regular</td>\n",
       "      <td>0.072222</td>\n",
       "      <td>Canned</td>\n",
       "      <td>43.6454</td>\n",
       "      <td>OUT019</td>\n",
       "      <td>1985</td>\n",
       "      <td>Small</td>\n",
       "      <td>Tier 1</td>\n",
       "      <td>Grocery Store</td>\n",
       "      <td>125.8362</td>\n",
       "    </tr>\n",
       "    <tr>\n",
       "      <th>...</th>\n",
       "      <td>...</td>\n",
       "      <td>...</td>\n",
       "      <td>...</td>\n",
       "      <td>...</td>\n",
       "      <td>...</td>\n",
       "      <td>...</td>\n",
       "      <td>...</td>\n",
       "      <td>...</td>\n",
       "      <td>...</td>\n",
       "      <td>...</td>\n",
       "      <td>...</td>\n",
       "      <td>...</td>\n",
       "    </tr>\n",
       "    <tr>\n",
       "      <th>8485</th>\n",
       "      <td>DRK37</td>\n",
       "      <td>NaN</td>\n",
       "      <td>Low Fat</td>\n",
       "      <td>0.043792</td>\n",
       "      <td>Soft Drinks</td>\n",
       "      <td>189.0530</td>\n",
       "      <td>OUT027</td>\n",
       "      <td>1985</td>\n",
       "      <td>Medium</td>\n",
       "      <td>Tier 3</td>\n",
       "      <td>Supermarket Type3</td>\n",
       "      <td>6261.8490</td>\n",
       "    </tr>\n",
       "    <tr>\n",
       "      <th>8487</th>\n",
       "      <td>DRG13</td>\n",
       "      <td>NaN</td>\n",
       "      <td>Low Fat</td>\n",
       "      <td>0.037006</td>\n",
       "      <td>Soft Drinks</td>\n",
       "      <td>164.7526</td>\n",
       "      <td>OUT027</td>\n",
       "      <td>1985</td>\n",
       "      <td>Medium</td>\n",
       "      <td>Tier 3</td>\n",
       "      <td>Supermarket Type3</td>\n",
       "      <td>4111.3150</td>\n",
       "    </tr>\n",
       "    <tr>\n",
       "      <th>8488</th>\n",
       "      <td>NCN14</td>\n",
       "      <td>NaN</td>\n",
       "      <td>Low Fat</td>\n",
       "      <td>0.091473</td>\n",
       "      <td>Others</td>\n",
       "      <td>184.6608</td>\n",
       "      <td>OUT027</td>\n",
       "      <td>1985</td>\n",
       "      <td>Medium</td>\n",
       "      <td>Tier 3</td>\n",
       "      <td>Supermarket Type3</td>\n",
       "      <td>2756.4120</td>\n",
       "    </tr>\n",
       "    <tr>\n",
       "      <th>8490</th>\n",
       "      <td>FDU44</td>\n",
       "      <td>NaN</td>\n",
       "      <td>Regular</td>\n",
       "      <td>0.102296</td>\n",
       "      <td>Fruits and Vegetables</td>\n",
       "      <td>162.3552</td>\n",
       "      <td>OUT019</td>\n",
       "      <td>1985</td>\n",
       "      <td>Small</td>\n",
       "      <td>Tier 1</td>\n",
       "      <td>Grocery Store</td>\n",
       "      <td>487.3656</td>\n",
       "    </tr>\n",
       "    <tr>\n",
       "      <th>8504</th>\n",
       "      <td>NCN18</td>\n",
       "      <td>NaN</td>\n",
       "      <td>Low Fat</td>\n",
       "      <td>0.124111</td>\n",
       "      <td>Household</td>\n",
       "      <td>111.7544</td>\n",
       "      <td>OUT027</td>\n",
       "      <td>1985</td>\n",
       "      <td>Medium</td>\n",
       "      <td>Tier 3</td>\n",
       "      <td>Supermarket Type3</td>\n",
       "      <td>4138.6128</td>\n",
       "    </tr>\n",
       "  </tbody>\n",
       "</table>\n",
       "<p>1463 rows × 12 columns</p>\n",
       "</div>"
      ],
      "text/plain": [
       "     Item_Identifier  Item_Weight Item_Fat_Content  Item_Visibility  \\\n",
       "7              FDP10          NaN          Low Fat         0.127470   \n",
       "18             DRI11          NaN          Low Fat         0.034238   \n",
       "21             FDW12          NaN          Regular         0.035400   \n",
       "23             FDC37          NaN          Low Fat         0.057557   \n",
       "29             FDC14          NaN          Regular         0.072222   \n",
       "...              ...          ...              ...              ...   \n",
       "8485           DRK37          NaN          Low Fat         0.043792   \n",
       "8487           DRG13          NaN          Low Fat         0.037006   \n",
       "8488           NCN14          NaN          Low Fat         0.091473   \n",
       "8490           FDU44          NaN          Regular         0.102296   \n",
       "8504           NCN18          NaN          Low Fat         0.124111   \n",
       "\n",
       "                  Item_Type  Item_MRP Outlet_Identifier  \\\n",
       "7               Snack Foods  107.7622            OUT027   \n",
       "18              Hard Drinks  113.2834            OUT027   \n",
       "21             Baking Goods  144.5444            OUT027   \n",
       "23             Baking Goods  107.6938            OUT019   \n",
       "29                   Canned   43.6454            OUT019   \n",
       "...                     ...       ...               ...   \n",
       "8485            Soft Drinks  189.0530            OUT027   \n",
       "8487            Soft Drinks  164.7526            OUT027   \n",
       "8488                 Others  184.6608            OUT027   \n",
       "8490  Fruits and Vegetables  162.3552            OUT019   \n",
       "8504              Household  111.7544            OUT027   \n",
       "\n",
       "      Outlet_Establishment_Year Outlet_Size Outlet_Location_Type  \\\n",
       "7                          1985      Medium               Tier 3   \n",
       "18                         1985      Medium               Tier 3   \n",
       "21                         1985      Medium               Tier 3   \n",
       "23                         1985       Small               Tier 1   \n",
       "29                         1985       Small               Tier 1   \n",
       "...                         ...         ...                  ...   \n",
       "8485                       1985      Medium               Tier 3   \n",
       "8487                       1985      Medium               Tier 3   \n",
       "8488                       1985      Medium               Tier 3   \n",
       "8490                       1985       Small               Tier 1   \n",
       "8504                       1985      Medium               Tier 3   \n",
       "\n",
       "            Outlet_Type  Item_Outlet_Sales  \n",
       "7     Supermarket Type3          4022.7636  \n",
       "18    Supermarket Type3          2303.6680  \n",
       "21    Supermarket Type3          4064.0432  \n",
       "23        Grocery Store           214.3876  \n",
       "29        Grocery Store           125.8362  \n",
       "...                 ...                ...  \n",
       "8485  Supermarket Type3          6261.8490  \n",
       "8487  Supermarket Type3          4111.3150  \n",
       "8488  Supermarket Type3          2756.4120  \n",
       "8490      Grocery Store           487.3656  \n",
       "8504  Supermarket Type3          4138.6128  \n",
       "\n",
       "[1463 rows x 12 columns]"
      ]
     },
     "execution_count": 12,
     "metadata": {},
     "output_type": "execute_result"
    }
   ],
   "source": [
    "#Checking for \"NaN\" in \"Item_Weight\" column\n",
    "df_train[df_train['Item_Weight'].isna()]"
   ]
  },
  {
   "cell_type": "code",
   "execution_count": 13,
   "metadata": {},
   "outputs": [],
   "source": [
    "# replacing \"NaN\" of the following columns with suitable measures so that the model designing can be done smoothly\n",
    "# Item_Weight with \"Mean of all other available values\"\n",
    "# Outlet_Type with \"Median of all other available values\"\n",
    "df_train['Item_Weight']=df_train[\"Item_Weight\"].replace('nan',np.nan)"
   ]
  },
  {
   "cell_type": "code",
   "execution_count": 14,
   "metadata": {},
   "outputs": [],
   "source": [
    "df_train[\"Item_Weight\"]=df_train[\"Item_Weight\"].fillna(df_train[\"Item_Weight\"].mean())"
   ]
  },
  {
   "cell_type": "code",
   "execution_count": 15,
   "metadata": {},
   "outputs": [
    {
     "data": {
      "text/plain": [
       "12.857645184136409"
      ]
     },
     "execution_count": 15,
     "metadata": {},
     "output_type": "execute_result"
    }
   ],
   "source": [
    "df_train[\"Item_Weight\"].mean()"
   ]
  },
  {
   "cell_type": "code",
   "execution_count": 16,
   "metadata": {},
   "outputs": [
    {
     "data": {
      "text/plain": [
       "0"
      ]
     },
     "execution_count": 16,
     "metadata": {},
     "output_type": "execute_result"
    }
   ],
   "source": [
    "df_train[\"Item_Weight\"].isna().sum()"
   ]
  },
  {
   "cell_type": "code",
   "execution_count": 17,
   "metadata": {},
   "outputs": [
    {
     "data": {
      "text/plain": [
       "array([ 9.3       ,  5.92      , 17.5       , 19.2       ,  8.93      ,\n",
       "       10.395     , 13.65      , 12.85764518, 16.2       , 11.8       ,\n",
       "       18.5       , 15.1       , 17.6       , 16.35      ,  9.        ,\n",
       "       13.35      , 18.85      , 14.6       , 13.85      , 13.        ,\n",
       "        7.645     , 11.65      ,  5.925     , 19.25      , 18.6       ,\n",
       "       18.7       , 17.85      , 10.        ,  8.85      ,  9.8       ,\n",
       "       13.6       , 21.35      , 12.15      ,  6.42      , 19.6       ,\n",
       "       15.85      ,  7.39      , 10.195     ,  9.895     , 10.895     ,\n",
       "        7.905     ,  9.195     ,  8.365     ,  7.97      , 17.7       ,\n",
       "       19.35      ,  8.645     , 15.6       , 18.25      ,  7.855     ,\n",
       "        7.825     ,  8.39      , 12.85      , 19.        ,  5.905     ,\n",
       "        7.76      , 16.75      , 15.5       ,  6.055     ,  6.305     ,\n",
       "       20.85      , 20.75      ,  8.895     , 19.7       ,  8.75      ,\n",
       "       13.3       ,  8.31      , 19.75      , 17.1       , 10.5       ,\n",
       "        6.635     , 14.15      ,  8.89      ,  9.1       ,  7.5       ,\n",
       "       16.85      ,  7.485     , 11.6       , 12.65      , 20.25      ,\n",
       "        8.6       , 12.6       ,  8.88      , 20.5       , 13.5       ,\n",
       "        7.235     ,  6.92      ,  8.02      , 12.8       , 16.6       ,\n",
       "       14.        , 16.        , 21.25      ,  7.365     , 18.35      ,\n",
       "        5.465     ,  7.27      ,  6.155     , 19.5       , 15.2       ,\n",
       "       14.5       , 13.1       , 12.3       , 11.1       , 11.3       ,\n",
       "        5.75      , 11.35      ,  6.525     , 10.3       ,  5.78      ,\n",
       "       11.85      , 18.75      ,  5.26      , 16.1       ,  9.5       ,\n",
       "       13.8       , 14.65      ,  6.67      ,  6.11      , 17.2       ,\n",
       "        6.32      ,  4.88      ,  5.425     , 14.1       ,  7.55      ,\n",
       "       17.25      , 12.        , 10.1       ,  7.785     , 13.15      ,\n",
       "        8.5       ,  7.63      ,  9.285     ,  7.975     , 15.7       ,\n",
       "        8.985     , 20.35      ,  6.59      , 19.85      ,  6.26      ,\n",
       "       18.2       ,  8.695     ,  7.075     ,  8.195     ,  7.09      ,\n",
       "        6.095     ,  6.15      ,  9.395     , 15.75      ,  7.475     ,\n",
       "        6.445     , 19.1       , 15.        , 16.7       ,  7.07      ,\n",
       "        6.48      ,  9.695     , 11.15      ,  9.6       , 20.7       ,\n",
       "        5.5       ,  7.895     , 17.35      ,  7.285     ,  6.17      ,\n",
       "       11.395     ,  7.71      , 12.1       , 14.35      ,  8.1       ,\n",
       "        8.05      , 16.5       ,  6.785     ,  7.575     ,  7.47      ,\n",
       "       15.25      ,  7.605     , 18.        , 21.2       ,  8.97      ,\n",
       "       10.6       ,  6.865     , 10.8       , 15.15      , 18.1       ,\n",
       "        6.655     , 20.1       ,  7.935     , 15.35      , 12.35      ,\n",
       "        6.85      ,  8.775     , 14.85      ,  7.84      , 12.5       ,\n",
       "        8.325     ,  5.765     ,  5.985     , 14.3       ,  6.135     ,\n",
       "        8.51      ,  6.65      ,  5.695     ,  6.36      ,  8.3       ,\n",
       "        7.56      ,  8.71      ,  6.695     , 14.8       , 17.75      ,\n",
       "        8.575     ,  6.57      ,  8.68      ,  5.63      ,  9.13      ,\n",
       "        6.715     ,  5.82      ,  7.93      ,  5.        ,  7.445     ,\n",
       "        6.675     ,  8.18      ,  6.98      ,  7.435     , 20.6       ,\n",
       "        8.355     ,  8.975     , 20.2       ,  5.655     ,  5.175     ,\n",
       "       20.        ,  7.67      ,  4.785     ,  8.395     ,  6.175     ,\n",
       "        8.21      ,  5.845     ,  7.17      ,  8.785     ,  7.89      ,\n",
       "        5.32      ,  5.03      ,  8.945     ,  6.28      ,  7.565     ,\n",
       "        9.31      ,  7.02      ,  5.46      ,  6.13      ,  6.55      ,\n",
       "       17.        , 16.25      ,  5.15      ,  7.865     ,  6.575     ,\n",
       "        7.06      ,  5.785     ,  7.42      ,  6.235     ,  6.75      ,\n",
       "        5.86      ,  5.035     ,  6.38      ,  5.675     , 11.5       ,\n",
       "       21.        , 21.1       ,  4.61      ,  7.        ,  6.405     ,\n",
       "       14.7       ,  7.68      ,  8.185     ,  8.655     , 10.85      ,\n",
       "        8.42      ,  7.85      ,  4.59      ,  7.51      , 11.        ,\n",
       "        6.71      , 14.75      ,  7.59      ,  5.155     ,  6.365     ,\n",
       "        8.235     ,  5.365     ,  8.485     ,  7.535     ,  4.92      ,\n",
       "        6.385     ,  8.26      ,  7.945     ,  8.63      ,  9.21      ,\n",
       "        6.965     ,  8.905     ,  7.21      ,  7.3       ,  9.27      ,\n",
       "       10.695     ,  6.215     ,  7.405     ,  7.72      ,  6.115     ,\n",
       "        6.035     ,  6.78      , 15.3       ,  7.105     ,  7.52      ,\n",
       "        4.805     ,  6.425     ,  7.6       ,  6.61      ,  7.325     ,\n",
       "        8.115     ,  5.94      ,  5.635     ,  7.35      ,  5.825     ,\n",
       "        6.63      ,  7.05      ,  8.315     ,  6.8       ,  7.035     ,\n",
       "        8.96      ,  5.51      ,  8.43      ,  8.27      ,  7.81      ,\n",
       "        6.885     ,  5.44      ,  5.405     ,  4.635     , 10.65      ,\n",
       "        5.735     ,  6.465     ,  8.84      ,  7.75      ,  6.765     ,\n",
       "        9.065     ,  7.655     ,  4.615     ,  8.76      ,  7.1       ,\n",
       "        6.195     ,  5.615     ,  8.52      ,  7.26      ,  6.825     ,\n",
       "        5.325     ,  5.59      ,  5.88      ,  5.19      ,  6.985     ,\n",
       "        9.06      ,  6.69      ,  8.615     ,  7.275     ,  6.96      ,\n",
       "        9.17      ,  8.155     ,  5.73      ,  8.935     ,  8.92      ,\n",
       "        7.36      ,  7.64      ,  5.34      ,  7.22      ,  6.615     ,\n",
       "        6.76      ,  6.3       ,  5.98      ,  8.06      ,  6.44      ,\n",
       "        5.095     ,  8.8       ,  6.325     ,  7.31      ,  9.035     ,\n",
       "        9.105     ,  7.145     ,  4.905     ,  4.555     ,  8.        ,\n",
       "        7.315     ,  6.89      ,  5.945     ,  6.86      ,  6.935     ,\n",
       "        6.03      ,  7.725     ,  5.885     ,  7.155     ,  6.46      ,\n",
       "        5.48      ,  8.01      ,  5.8       ,  5.305     ,  6.905     ,\n",
       "        7.96      ,  5.11      ,  8.77      ,  7.685     ,  8.275     ,\n",
       "        8.38      ,  8.35      ,  9.42      ,  6.775     ,  6.4       ,\n",
       "        6.895     ,  5.485     ,  6.52      ,  8.67      ,  5.21      ,\n",
       "        5.4       ])"
      ]
     },
     "execution_count": 17,
     "metadata": {},
     "output_type": "execute_result"
    }
   ],
   "source": [
    "df_train[\"Item_Weight\"].unique()"
   ]
  },
  {
   "cell_type": "code",
   "execution_count": 18,
   "metadata": {},
   "outputs": [
    {
     "data": {
      "text/html": [
       "<div>\n",
       "<style scoped>\n",
       "    .dataframe tbody tr th:only-of-type {\n",
       "        vertical-align: middle;\n",
       "    }\n",
       "\n",
       "    .dataframe tbody tr th {\n",
       "        vertical-align: top;\n",
       "    }\n",
       "\n",
       "    .dataframe thead th {\n",
       "        text-align: right;\n",
       "    }\n",
       "</style>\n",
       "<table border=\"1\" class=\"dataframe\">\n",
       "  <thead>\n",
       "    <tr style=\"text-align: right;\">\n",
       "      <th></th>\n",
       "      <th>Item_Identifier</th>\n",
       "      <th>Item_Weight</th>\n",
       "      <th>Item_Fat_Content</th>\n",
       "      <th>Item_Visibility</th>\n",
       "      <th>Item_Type</th>\n",
       "      <th>Item_MRP</th>\n",
       "      <th>Outlet_Identifier</th>\n",
       "      <th>Outlet_Establishment_Year</th>\n",
       "      <th>Outlet_Size</th>\n",
       "      <th>Outlet_Location_Type</th>\n",
       "      <th>Outlet_Type</th>\n",
       "      <th>Item_Outlet_Sales</th>\n",
       "    </tr>\n",
       "  </thead>\n",
       "  <tbody>\n",
       "    <tr>\n",
       "      <th>3</th>\n",
       "      <td>FDX07</td>\n",
       "      <td>19.200</td>\n",
       "      <td>Regular</td>\n",
       "      <td>0.000000</td>\n",
       "      <td>Fruits and Vegetables</td>\n",
       "      <td>182.0950</td>\n",
       "      <td>OUT010</td>\n",
       "      <td>1998</td>\n",
       "      <td>NaN</td>\n",
       "      <td>Tier 3</td>\n",
       "      <td>Grocery Store</td>\n",
       "      <td>732.3800</td>\n",
       "    </tr>\n",
       "    <tr>\n",
       "      <th>8</th>\n",
       "      <td>FDH17</td>\n",
       "      <td>16.200</td>\n",
       "      <td>Regular</td>\n",
       "      <td>0.016687</td>\n",
       "      <td>Frozen Foods</td>\n",
       "      <td>96.9726</td>\n",
       "      <td>OUT045</td>\n",
       "      <td>2002</td>\n",
       "      <td>NaN</td>\n",
       "      <td>Tier 2</td>\n",
       "      <td>Supermarket Type1</td>\n",
       "      <td>1076.5986</td>\n",
       "    </tr>\n",
       "    <tr>\n",
       "      <th>9</th>\n",
       "      <td>FDU28</td>\n",
       "      <td>19.200</td>\n",
       "      <td>Regular</td>\n",
       "      <td>0.094450</td>\n",
       "      <td>Frozen Foods</td>\n",
       "      <td>187.8214</td>\n",
       "      <td>OUT017</td>\n",
       "      <td>2007</td>\n",
       "      <td>NaN</td>\n",
       "      <td>Tier 2</td>\n",
       "      <td>Supermarket Type1</td>\n",
       "      <td>4710.5350</td>\n",
       "    </tr>\n",
       "    <tr>\n",
       "      <th>25</th>\n",
       "      <td>NCD06</td>\n",
       "      <td>13.000</td>\n",
       "      <td>Low Fat</td>\n",
       "      <td>0.099887</td>\n",
       "      <td>Household</td>\n",
       "      <td>45.9060</td>\n",
       "      <td>OUT017</td>\n",
       "      <td>2007</td>\n",
       "      <td>NaN</td>\n",
       "      <td>Tier 2</td>\n",
       "      <td>Supermarket Type1</td>\n",
       "      <td>838.9080</td>\n",
       "    </tr>\n",
       "    <tr>\n",
       "      <th>28</th>\n",
       "      <td>FDE51</td>\n",
       "      <td>5.925</td>\n",
       "      <td>Regular</td>\n",
       "      <td>0.161467</td>\n",
       "      <td>Dairy</td>\n",
       "      <td>45.5086</td>\n",
       "      <td>OUT010</td>\n",
       "      <td>1998</td>\n",
       "      <td>NaN</td>\n",
       "      <td>Tier 3</td>\n",
       "      <td>Grocery Store</td>\n",
       "      <td>178.4344</td>\n",
       "    </tr>\n",
       "    <tr>\n",
       "      <th>...</th>\n",
       "      <td>...</td>\n",
       "      <td>...</td>\n",
       "      <td>...</td>\n",
       "      <td>...</td>\n",
       "      <td>...</td>\n",
       "      <td>...</td>\n",
       "      <td>...</td>\n",
       "      <td>...</td>\n",
       "      <td>...</td>\n",
       "      <td>...</td>\n",
       "      <td>...</td>\n",
       "      <td>...</td>\n",
       "    </tr>\n",
       "    <tr>\n",
       "      <th>8502</th>\n",
       "      <td>NCH43</td>\n",
       "      <td>8.420</td>\n",
       "      <td>Low Fat</td>\n",
       "      <td>0.070712</td>\n",
       "      <td>Household</td>\n",
       "      <td>216.4192</td>\n",
       "      <td>OUT045</td>\n",
       "      <td>2002</td>\n",
       "      <td>NaN</td>\n",
       "      <td>Tier 2</td>\n",
       "      <td>Supermarket Type1</td>\n",
       "      <td>3020.0688</td>\n",
       "    </tr>\n",
       "    <tr>\n",
       "      <th>8508</th>\n",
       "      <td>FDW31</td>\n",
       "      <td>11.350</td>\n",
       "      <td>Regular</td>\n",
       "      <td>0.043246</td>\n",
       "      <td>Fruits and Vegetables</td>\n",
       "      <td>199.4742</td>\n",
       "      <td>OUT045</td>\n",
       "      <td>2002</td>\n",
       "      <td>NaN</td>\n",
       "      <td>Tier 2</td>\n",
       "      <td>Supermarket Type1</td>\n",
       "      <td>2587.9646</td>\n",
       "    </tr>\n",
       "    <tr>\n",
       "      <th>8509</th>\n",
       "      <td>FDG45</td>\n",
       "      <td>8.100</td>\n",
       "      <td>Low Fat</td>\n",
       "      <td>0.214306</td>\n",
       "      <td>Fruits and Vegetables</td>\n",
       "      <td>213.9902</td>\n",
       "      <td>OUT010</td>\n",
       "      <td>1998</td>\n",
       "      <td>NaN</td>\n",
       "      <td>Tier 3</td>\n",
       "      <td>Grocery Store</td>\n",
       "      <td>424.7804</td>\n",
       "    </tr>\n",
       "    <tr>\n",
       "      <th>8514</th>\n",
       "      <td>FDA01</td>\n",
       "      <td>15.000</td>\n",
       "      <td>Regular</td>\n",
       "      <td>0.054489</td>\n",
       "      <td>Canned</td>\n",
       "      <td>57.5904</td>\n",
       "      <td>OUT045</td>\n",
       "      <td>2002</td>\n",
       "      <td>NaN</td>\n",
       "      <td>Tier 2</td>\n",
       "      <td>Supermarket Type1</td>\n",
       "      <td>468.7232</td>\n",
       "    </tr>\n",
       "    <tr>\n",
       "      <th>8519</th>\n",
       "      <td>FDS36</td>\n",
       "      <td>8.380</td>\n",
       "      <td>Regular</td>\n",
       "      <td>0.046982</td>\n",
       "      <td>Baking Goods</td>\n",
       "      <td>108.1570</td>\n",
       "      <td>OUT045</td>\n",
       "      <td>2002</td>\n",
       "      <td>NaN</td>\n",
       "      <td>Tier 2</td>\n",
       "      <td>Supermarket Type1</td>\n",
       "      <td>549.2850</td>\n",
       "    </tr>\n",
       "  </tbody>\n",
       "</table>\n",
       "<p>2410 rows × 12 columns</p>\n",
       "</div>"
      ],
      "text/plain": [
       "     Item_Identifier  Item_Weight Item_Fat_Content  Item_Visibility  \\\n",
       "3              FDX07       19.200          Regular         0.000000   \n",
       "8              FDH17       16.200          Regular         0.016687   \n",
       "9              FDU28       19.200          Regular         0.094450   \n",
       "25             NCD06       13.000          Low Fat         0.099887   \n",
       "28             FDE51        5.925          Regular         0.161467   \n",
       "...              ...          ...              ...              ...   \n",
       "8502           NCH43        8.420          Low Fat         0.070712   \n",
       "8508           FDW31       11.350          Regular         0.043246   \n",
       "8509           FDG45        8.100          Low Fat         0.214306   \n",
       "8514           FDA01       15.000          Regular         0.054489   \n",
       "8519           FDS36        8.380          Regular         0.046982   \n",
       "\n",
       "                  Item_Type  Item_MRP Outlet_Identifier  \\\n",
       "3     Fruits and Vegetables  182.0950            OUT010   \n",
       "8              Frozen Foods   96.9726            OUT045   \n",
       "9              Frozen Foods  187.8214            OUT017   \n",
       "25                Household   45.9060            OUT017   \n",
       "28                    Dairy   45.5086            OUT010   \n",
       "...                     ...       ...               ...   \n",
       "8502              Household  216.4192            OUT045   \n",
       "8508  Fruits and Vegetables  199.4742            OUT045   \n",
       "8509  Fruits and Vegetables  213.9902            OUT010   \n",
       "8514                 Canned   57.5904            OUT045   \n",
       "8519           Baking Goods  108.1570            OUT045   \n",
       "\n",
       "      Outlet_Establishment_Year Outlet_Size Outlet_Location_Type  \\\n",
       "3                          1998         NaN               Tier 3   \n",
       "8                          2002         NaN               Tier 2   \n",
       "9                          2007         NaN               Tier 2   \n",
       "25                         2007         NaN               Tier 2   \n",
       "28                         1998         NaN               Tier 3   \n",
       "...                         ...         ...                  ...   \n",
       "8502                       2002         NaN               Tier 2   \n",
       "8508                       2002         NaN               Tier 2   \n",
       "8509                       1998         NaN               Tier 3   \n",
       "8514                       2002         NaN               Tier 2   \n",
       "8519                       2002         NaN               Tier 2   \n",
       "\n",
       "            Outlet_Type  Item_Outlet_Sales  \n",
       "3         Grocery Store           732.3800  \n",
       "8     Supermarket Type1          1076.5986  \n",
       "9     Supermarket Type1          4710.5350  \n",
       "25    Supermarket Type1           838.9080  \n",
       "28        Grocery Store           178.4344  \n",
       "...                 ...                ...  \n",
       "8502  Supermarket Type1          3020.0688  \n",
       "8508  Supermarket Type1          2587.9646  \n",
       "8509      Grocery Store           424.7804  \n",
       "8514  Supermarket Type1           468.7232  \n",
       "8519  Supermarket Type1           549.2850  \n",
       "\n",
       "[2410 rows x 12 columns]"
      ]
     },
     "execution_count": 18,
     "metadata": {},
     "output_type": "execute_result"
    }
   ],
   "source": [
    "#Checking for \"NaN\" values in \"Outlet_Size\" column\n",
    "df_train[df_train[\"Outlet_Size\"].isna()==True]"
   ]
  },
  {
   "cell_type": "code",
   "execution_count": 19,
   "metadata": {},
   "outputs": [
    {
     "data": {
      "text/plain": [
       "array(['Medium', nan, 'High', 'Small'], dtype=object)"
      ]
     },
     "execution_count": 19,
     "metadata": {},
     "output_type": "execute_result"
    }
   ],
   "source": [
    "df_train[\"Outlet_Size\"].unique()"
   ]
  },
  {
   "cell_type": "code",
   "execution_count": 20,
   "metadata": {},
   "outputs": [
    {
     "data": {
      "text/html": [
       "<div>\n",
       "<style scoped>\n",
       "    .dataframe tbody tr th:only-of-type {\n",
       "        vertical-align: middle;\n",
       "    }\n",
       "\n",
       "    .dataframe tbody tr th {\n",
       "        vertical-align: top;\n",
       "    }\n",
       "\n",
       "    .dataframe thead th {\n",
       "        text-align: right;\n",
       "    }\n",
       "</style>\n",
       "<table border=\"1\" class=\"dataframe\">\n",
       "  <thead>\n",
       "    <tr style=\"text-align: right;\">\n",
       "      <th></th>\n",
       "      <th>Item_Identifier</th>\n",
       "      <th>Item_Weight</th>\n",
       "      <th>Item_Fat_Content</th>\n",
       "      <th>Item_Visibility</th>\n",
       "      <th>Item_Type</th>\n",
       "      <th>Item_MRP</th>\n",
       "      <th>Outlet_Identifier</th>\n",
       "      <th>Outlet_Establishment_Year</th>\n",
       "      <th>Outlet_Size</th>\n",
       "      <th>Outlet_Location_Type</th>\n",
       "      <th>Outlet_Type</th>\n",
       "      <th>Item_Outlet_Sales</th>\n",
       "    </tr>\n",
       "  </thead>\n",
       "  <tbody>\n",
       "    <tr>\n",
       "      <th>3</th>\n",
       "      <td>FDX07</td>\n",
       "      <td>19.200</td>\n",
       "      <td>Regular</td>\n",
       "      <td>0.000000</td>\n",
       "      <td>Fruits and Vegetables</td>\n",
       "      <td>182.0950</td>\n",
       "      <td>OUT010</td>\n",
       "      <td>1998</td>\n",
       "      <td>NaN</td>\n",
       "      <td>Tier 3</td>\n",
       "      <td>Grocery Store</td>\n",
       "      <td>732.3800</td>\n",
       "    </tr>\n",
       "    <tr>\n",
       "      <th>8</th>\n",
       "      <td>FDH17</td>\n",
       "      <td>16.200</td>\n",
       "      <td>Regular</td>\n",
       "      <td>0.016687</td>\n",
       "      <td>Frozen Foods</td>\n",
       "      <td>96.9726</td>\n",
       "      <td>OUT045</td>\n",
       "      <td>2002</td>\n",
       "      <td>NaN</td>\n",
       "      <td>Tier 2</td>\n",
       "      <td>Supermarket Type1</td>\n",
       "      <td>1076.5986</td>\n",
       "    </tr>\n",
       "    <tr>\n",
       "      <th>9</th>\n",
       "      <td>FDU28</td>\n",
       "      <td>19.200</td>\n",
       "      <td>Regular</td>\n",
       "      <td>0.094450</td>\n",
       "      <td>Frozen Foods</td>\n",
       "      <td>187.8214</td>\n",
       "      <td>OUT017</td>\n",
       "      <td>2007</td>\n",
       "      <td>NaN</td>\n",
       "      <td>Tier 2</td>\n",
       "      <td>Supermarket Type1</td>\n",
       "      <td>4710.5350</td>\n",
       "    </tr>\n",
       "    <tr>\n",
       "      <th>25</th>\n",
       "      <td>NCD06</td>\n",
       "      <td>13.000</td>\n",
       "      <td>Low Fat</td>\n",
       "      <td>0.099887</td>\n",
       "      <td>Household</td>\n",
       "      <td>45.9060</td>\n",
       "      <td>OUT017</td>\n",
       "      <td>2007</td>\n",
       "      <td>NaN</td>\n",
       "      <td>Tier 2</td>\n",
       "      <td>Supermarket Type1</td>\n",
       "      <td>838.9080</td>\n",
       "    </tr>\n",
       "    <tr>\n",
       "      <th>28</th>\n",
       "      <td>FDE51</td>\n",
       "      <td>5.925</td>\n",
       "      <td>Regular</td>\n",
       "      <td>0.161467</td>\n",
       "      <td>Dairy</td>\n",
       "      <td>45.5086</td>\n",
       "      <td>OUT010</td>\n",
       "      <td>1998</td>\n",
       "      <td>NaN</td>\n",
       "      <td>Tier 3</td>\n",
       "      <td>Grocery Store</td>\n",
       "      <td>178.4344</td>\n",
       "    </tr>\n",
       "    <tr>\n",
       "      <th>...</th>\n",
       "      <td>...</td>\n",
       "      <td>...</td>\n",
       "      <td>...</td>\n",
       "      <td>...</td>\n",
       "      <td>...</td>\n",
       "      <td>...</td>\n",
       "      <td>...</td>\n",
       "      <td>...</td>\n",
       "      <td>...</td>\n",
       "      <td>...</td>\n",
       "      <td>...</td>\n",
       "      <td>...</td>\n",
       "    </tr>\n",
       "    <tr>\n",
       "      <th>8502</th>\n",
       "      <td>NCH43</td>\n",
       "      <td>8.420</td>\n",
       "      <td>Low Fat</td>\n",
       "      <td>0.070712</td>\n",
       "      <td>Household</td>\n",
       "      <td>216.4192</td>\n",
       "      <td>OUT045</td>\n",
       "      <td>2002</td>\n",
       "      <td>NaN</td>\n",
       "      <td>Tier 2</td>\n",
       "      <td>Supermarket Type1</td>\n",
       "      <td>3020.0688</td>\n",
       "    </tr>\n",
       "    <tr>\n",
       "      <th>8508</th>\n",
       "      <td>FDW31</td>\n",
       "      <td>11.350</td>\n",
       "      <td>Regular</td>\n",
       "      <td>0.043246</td>\n",
       "      <td>Fruits and Vegetables</td>\n",
       "      <td>199.4742</td>\n",
       "      <td>OUT045</td>\n",
       "      <td>2002</td>\n",
       "      <td>NaN</td>\n",
       "      <td>Tier 2</td>\n",
       "      <td>Supermarket Type1</td>\n",
       "      <td>2587.9646</td>\n",
       "    </tr>\n",
       "    <tr>\n",
       "      <th>8509</th>\n",
       "      <td>FDG45</td>\n",
       "      <td>8.100</td>\n",
       "      <td>Low Fat</td>\n",
       "      <td>0.214306</td>\n",
       "      <td>Fruits and Vegetables</td>\n",
       "      <td>213.9902</td>\n",
       "      <td>OUT010</td>\n",
       "      <td>1998</td>\n",
       "      <td>NaN</td>\n",
       "      <td>Tier 3</td>\n",
       "      <td>Grocery Store</td>\n",
       "      <td>424.7804</td>\n",
       "    </tr>\n",
       "    <tr>\n",
       "      <th>8514</th>\n",
       "      <td>FDA01</td>\n",
       "      <td>15.000</td>\n",
       "      <td>Regular</td>\n",
       "      <td>0.054489</td>\n",
       "      <td>Canned</td>\n",
       "      <td>57.5904</td>\n",
       "      <td>OUT045</td>\n",
       "      <td>2002</td>\n",
       "      <td>NaN</td>\n",
       "      <td>Tier 2</td>\n",
       "      <td>Supermarket Type1</td>\n",
       "      <td>468.7232</td>\n",
       "    </tr>\n",
       "    <tr>\n",
       "      <th>8519</th>\n",
       "      <td>FDS36</td>\n",
       "      <td>8.380</td>\n",
       "      <td>Regular</td>\n",
       "      <td>0.046982</td>\n",
       "      <td>Baking Goods</td>\n",
       "      <td>108.1570</td>\n",
       "      <td>OUT045</td>\n",
       "      <td>2002</td>\n",
       "      <td>NaN</td>\n",
       "      <td>Tier 2</td>\n",
       "      <td>Supermarket Type1</td>\n",
       "      <td>549.2850</td>\n",
       "    </tr>\n",
       "  </tbody>\n",
       "</table>\n",
       "<p>2410 rows × 12 columns</p>\n",
       "</div>"
      ],
      "text/plain": [
       "     Item_Identifier  Item_Weight Item_Fat_Content  Item_Visibility  \\\n",
       "3              FDX07       19.200          Regular         0.000000   \n",
       "8              FDH17       16.200          Regular         0.016687   \n",
       "9              FDU28       19.200          Regular         0.094450   \n",
       "25             NCD06       13.000          Low Fat         0.099887   \n",
       "28             FDE51        5.925          Regular         0.161467   \n",
       "...              ...          ...              ...              ...   \n",
       "8502           NCH43        8.420          Low Fat         0.070712   \n",
       "8508           FDW31       11.350          Regular         0.043246   \n",
       "8509           FDG45        8.100          Low Fat         0.214306   \n",
       "8514           FDA01       15.000          Regular         0.054489   \n",
       "8519           FDS36        8.380          Regular         0.046982   \n",
       "\n",
       "                  Item_Type  Item_MRP Outlet_Identifier  \\\n",
       "3     Fruits and Vegetables  182.0950            OUT010   \n",
       "8              Frozen Foods   96.9726            OUT045   \n",
       "9              Frozen Foods  187.8214            OUT017   \n",
       "25                Household   45.9060            OUT017   \n",
       "28                    Dairy   45.5086            OUT010   \n",
       "...                     ...       ...               ...   \n",
       "8502              Household  216.4192            OUT045   \n",
       "8508  Fruits and Vegetables  199.4742            OUT045   \n",
       "8509  Fruits and Vegetables  213.9902            OUT010   \n",
       "8514                 Canned   57.5904            OUT045   \n",
       "8519           Baking Goods  108.1570            OUT045   \n",
       "\n",
       "      Outlet_Establishment_Year Outlet_Size Outlet_Location_Type  \\\n",
       "3                          1998         NaN               Tier 3   \n",
       "8                          2002         NaN               Tier 2   \n",
       "9                          2007         NaN               Tier 2   \n",
       "25                         2007         NaN               Tier 2   \n",
       "28                         1998         NaN               Tier 3   \n",
       "...                         ...         ...                  ...   \n",
       "8502                       2002         NaN               Tier 2   \n",
       "8508                       2002         NaN               Tier 2   \n",
       "8509                       1998         NaN               Tier 3   \n",
       "8514                       2002         NaN               Tier 2   \n",
       "8519                       2002         NaN               Tier 2   \n",
       "\n",
       "            Outlet_Type  Item_Outlet_Sales  \n",
       "3         Grocery Store           732.3800  \n",
       "8     Supermarket Type1          1076.5986  \n",
       "9     Supermarket Type1          4710.5350  \n",
       "25    Supermarket Type1           838.9080  \n",
       "28        Grocery Store           178.4344  \n",
       "...                 ...                ...  \n",
       "8502  Supermarket Type1          3020.0688  \n",
       "8508  Supermarket Type1          2587.9646  \n",
       "8509      Grocery Store           424.7804  \n",
       "8514  Supermarket Type1           468.7232  \n",
       "8519  Supermarket Type1           549.2850  \n",
       "\n",
       "[2410 rows x 12 columns]"
      ]
     },
     "execution_count": 20,
     "metadata": {},
     "output_type": "execute_result"
    }
   ],
   "source": [
    "df_train[df_train[\"Outlet_Size\"].isna()== True]"
   ]
  },
  {
   "cell_type": "code",
   "execution_count": 21,
   "metadata": {},
   "outputs": [
    {
     "data": {
      "text/plain": [
       "array(['Supermarket Type1', 'Supermarket Type2', 'Grocery Store',\n",
       "       'Supermarket Type3'], dtype=object)"
      ]
     },
     "execution_count": 21,
     "metadata": {},
     "output_type": "execute_result"
    }
   ],
   "source": [
    "df_train[\"Outlet_Type\"].unique()"
   ]
  },
  {
   "cell_type": "code",
   "execution_count": 22,
   "metadata": {},
   "outputs": [],
   "source": [
    "#Replacing the string \"nan\" with np.nan values\n",
    "df_train[\"Outlet_Size\"]=df_train['Outlet_Size'].replace(\"nan\", np.nan)"
   ]
  },
  {
   "cell_type": "code",
   "execution_count": 23,
   "metadata": {},
   "outputs": [],
   "source": [
    "#Replacing the missing values \n",
    "df_train[\"Outlet_Size\"]=df_train[\"Outlet_Size\"].fillna(df_train[\"Outlet_Size\"].mode().iat[0])"
   ]
  },
  {
   "cell_type": "code",
   "execution_count": 24,
   "metadata": {},
   "outputs": [
    {
     "data": {
      "text/plain": [
       "Medium    5203\n",
       "Small     2388\n",
       "High       932\n",
       "Name: Outlet_Size, dtype: int64"
      ]
     },
     "execution_count": 24,
     "metadata": {},
     "output_type": "execute_result"
    }
   ],
   "source": [
    "df_train[\"Outlet_Size\"].value_counts()"
   ]
  },
  {
   "cell_type": "code",
   "execution_count": 25,
   "metadata": {},
   "outputs": [
    {
     "data": {
      "text/plain": [
       "'Medium'"
      ]
     },
     "execution_count": 25,
     "metadata": {},
     "output_type": "execute_result"
    }
   ],
   "source": [
    "df_train[\"Outlet_Size\"].mode().iat[0]"
   ]
  },
  {
   "cell_type": "code",
   "execution_count": 26,
   "metadata": {},
   "outputs": [
    {
     "data": {
      "text/plain": [
       "1559"
      ]
     },
     "execution_count": 26,
     "metadata": {},
     "output_type": "execute_result"
    }
   ],
   "source": [
    "df_train[\"Item_Identifier\"].nunique()"
   ]
  },
  {
   "cell_type": "code",
   "execution_count": 27,
   "metadata": {},
   "outputs": [],
   "source": [
    "#creating dummy variables out of \"Item_Identifier\" column\n",
    "df_dum2=pd.get_dummies(df_train[\"Item_Identifier\"])"
   ]
  },
  {
   "cell_type": "code",
   "execution_count": 28,
   "metadata": {},
   "outputs": [],
   "source": [
    "df_train=pd.concat([df_train,df_dum2], axis=1)"
   ]
  },
  {
   "cell_type": "code",
   "execution_count": 29,
   "metadata": {},
   "outputs": [
    {
     "data": {
      "text/html": [
       "<div>\n",
       "<style scoped>\n",
       "    .dataframe tbody tr th:only-of-type {\n",
       "        vertical-align: middle;\n",
       "    }\n",
       "\n",
       "    .dataframe tbody tr th {\n",
       "        vertical-align: top;\n",
       "    }\n",
       "\n",
       "    .dataframe thead th {\n",
       "        text-align: right;\n",
       "    }\n",
       "</style>\n",
       "<table border=\"1\" class=\"dataframe\">\n",
       "  <thead>\n",
       "    <tr style=\"text-align: right;\">\n",
       "      <th></th>\n",
       "      <th>Item_Identifier</th>\n",
       "      <th>Item_Weight</th>\n",
       "      <th>Item_Fat_Content</th>\n",
       "      <th>Item_Visibility</th>\n",
       "      <th>Item_Type</th>\n",
       "      <th>Item_MRP</th>\n",
       "      <th>Outlet_Identifier</th>\n",
       "      <th>Outlet_Establishment_Year</th>\n",
       "      <th>Outlet_Size</th>\n",
       "      <th>Outlet_Location_Type</th>\n",
       "      <th>...</th>\n",
       "      <th>NCZ05</th>\n",
       "      <th>NCZ06</th>\n",
       "      <th>NCZ17</th>\n",
       "      <th>NCZ18</th>\n",
       "      <th>NCZ29</th>\n",
       "      <th>NCZ30</th>\n",
       "      <th>NCZ41</th>\n",
       "      <th>NCZ42</th>\n",
       "      <th>NCZ53</th>\n",
       "      <th>NCZ54</th>\n",
       "    </tr>\n",
       "  </thead>\n",
       "  <tbody>\n",
       "    <tr>\n",
       "      <th>0</th>\n",
       "      <td>FDA15</td>\n",
       "      <td>9.30</td>\n",
       "      <td>Low Fat</td>\n",
       "      <td>0.016047</td>\n",
       "      <td>Dairy</td>\n",
       "      <td>249.8092</td>\n",
       "      <td>OUT049</td>\n",
       "      <td>1999</td>\n",
       "      <td>Medium</td>\n",
       "      <td>Tier 1</td>\n",
       "      <td>...</td>\n",
       "      <td>0</td>\n",
       "      <td>0</td>\n",
       "      <td>0</td>\n",
       "      <td>0</td>\n",
       "      <td>0</td>\n",
       "      <td>0</td>\n",
       "      <td>0</td>\n",
       "      <td>0</td>\n",
       "      <td>0</td>\n",
       "      <td>0</td>\n",
       "    </tr>\n",
       "    <tr>\n",
       "      <th>1</th>\n",
       "      <td>DRC01</td>\n",
       "      <td>5.92</td>\n",
       "      <td>Regular</td>\n",
       "      <td>0.019278</td>\n",
       "      <td>Soft Drinks</td>\n",
       "      <td>48.2692</td>\n",
       "      <td>OUT018</td>\n",
       "      <td>2009</td>\n",
       "      <td>Medium</td>\n",
       "      <td>Tier 3</td>\n",
       "      <td>...</td>\n",
       "      <td>0</td>\n",
       "      <td>0</td>\n",
       "      <td>0</td>\n",
       "      <td>0</td>\n",
       "      <td>0</td>\n",
       "      <td>0</td>\n",
       "      <td>0</td>\n",
       "      <td>0</td>\n",
       "      <td>0</td>\n",
       "      <td>0</td>\n",
       "    </tr>\n",
       "    <tr>\n",
       "      <th>2</th>\n",
       "      <td>FDN15</td>\n",
       "      <td>17.50</td>\n",
       "      <td>Low Fat</td>\n",
       "      <td>0.016760</td>\n",
       "      <td>Meat</td>\n",
       "      <td>141.6180</td>\n",
       "      <td>OUT049</td>\n",
       "      <td>1999</td>\n",
       "      <td>Medium</td>\n",
       "      <td>Tier 1</td>\n",
       "      <td>...</td>\n",
       "      <td>0</td>\n",
       "      <td>0</td>\n",
       "      <td>0</td>\n",
       "      <td>0</td>\n",
       "      <td>0</td>\n",
       "      <td>0</td>\n",
       "      <td>0</td>\n",
       "      <td>0</td>\n",
       "      <td>0</td>\n",
       "      <td>0</td>\n",
       "    </tr>\n",
       "    <tr>\n",
       "      <th>3</th>\n",
       "      <td>FDX07</td>\n",
       "      <td>19.20</td>\n",
       "      <td>Regular</td>\n",
       "      <td>0.000000</td>\n",
       "      <td>Fruits and Vegetables</td>\n",
       "      <td>182.0950</td>\n",
       "      <td>OUT010</td>\n",
       "      <td>1998</td>\n",
       "      <td>Medium</td>\n",
       "      <td>Tier 3</td>\n",
       "      <td>...</td>\n",
       "      <td>0</td>\n",
       "      <td>0</td>\n",
       "      <td>0</td>\n",
       "      <td>0</td>\n",
       "      <td>0</td>\n",
       "      <td>0</td>\n",
       "      <td>0</td>\n",
       "      <td>0</td>\n",
       "      <td>0</td>\n",
       "      <td>0</td>\n",
       "    </tr>\n",
       "    <tr>\n",
       "      <th>4</th>\n",
       "      <td>NCD19</td>\n",
       "      <td>8.93</td>\n",
       "      <td>Low Fat</td>\n",
       "      <td>0.000000</td>\n",
       "      <td>Household</td>\n",
       "      <td>53.8614</td>\n",
       "      <td>OUT013</td>\n",
       "      <td>1987</td>\n",
       "      <td>High</td>\n",
       "      <td>Tier 3</td>\n",
       "      <td>...</td>\n",
       "      <td>0</td>\n",
       "      <td>0</td>\n",
       "      <td>0</td>\n",
       "      <td>0</td>\n",
       "      <td>0</td>\n",
       "      <td>0</td>\n",
       "      <td>0</td>\n",
       "      <td>0</td>\n",
       "      <td>0</td>\n",
       "      <td>0</td>\n",
       "    </tr>\n",
       "  </tbody>\n",
       "</table>\n",
       "<p>5 rows × 1571 columns</p>\n",
       "</div>"
      ],
      "text/plain": [
       "  Item_Identifier  Item_Weight Item_Fat_Content  Item_Visibility  \\\n",
       "0           FDA15         9.30          Low Fat         0.016047   \n",
       "1           DRC01         5.92          Regular         0.019278   \n",
       "2           FDN15        17.50          Low Fat         0.016760   \n",
       "3           FDX07        19.20          Regular         0.000000   \n",
       "4           NCD19         8.93          Low Fat         0.000000   \n",
       "\n",
       "               Item_Type  Item_MRP Outlet_Identifier  \\\n",
       "0                  Dairy  249.8092            OUT049   \n",
       "1            Soft Drinks   48.2692            OUT018   \n",
       "2                   Meat  141.6180            OUT049   \n",
       "3  Fruits and Vegetables  182.0950            OUT010   \n",
       "4              Household   53.8614            OUT013   \n",
       "\n",
       "   Outlet_Establishment_Year Outlet_Size Outlet_Location_Type  ... NCZ05  \\\n",
       "0                       1999      Medium               Tier 1  ...     0   \n",
       "1                       2009      Medium               Tier 3  ...     0   \n",
       "2                       1999      Medium               Tier 1  ...     0   \n",
       "3                       1998      Medium               Tier 3  ...     0   \n",
       "4                       1987        High               Tier 3  ...     0   \n",
       "\n",
       "   NCZ06  NCZ17  NCZ18  NCZ29  NCZ30  NCZ41  NCZ42  NCZ53  NCZ54  \n",
       "0      0      0      0      0      0      0      0      0      0  \n",
       "1      0      0      0      0      0      0      0      0      0  \n",
       "2      0      0      0      0      0      0      0      0      0  \n",
       "3      0      0      0      0      0      0      0      0      0  \n",
       "4      0      0      0      0      0      0      0      0      0  \n",
       "\n",
       "[5 rows x 1571 columns]"
      ]
     },
     "execution_count": 29,
     "metadata": {},
     "output_type": "execute_result"
    }
   ],
   "source": [
    "df_train.head()"
   ]
  },
  {
   "cell_type": "code",
   "execution_count": 30,
   "metadata": {},
   "outputs": [
    {
     "data": {
      "text/plain": [
       "0"
      ]
     },
     "execution_count": 30,
     "metadata": {},
     "output_type": "execute_result"
    }
   ],
   "source": [
    "df_train['Outlet_Size'].isna().sum()"
   ]
  },
  {
   "cell_type": "code",
   "execution_count": 31,
   "metadata": {},
   "outputs": [],
   "source": [
    "df_train[\"Item_Fat_Content\"]=df_train[\"Item_Fat_Content\"].replace(\"Low_Fat\", \"low fat\")"
   ]
  },
  {
   "cell_type": "code",
   "execution_count": 32,
   "metadata": {},
   "outputs": [],
   "source": [
    "df_train[\"Item_Fat_Content\"]=df_train[\"Item_Fat_Content\"].replace(\"LF\", \"low fat\")"
   ]
  },
  {
   "cell_type": "code",
   "execution_count": 33,
   "metadata": {},
   "outputs": [],
   "source": [
    "df_train[\"Item_Fat_Content\"]=df_train[\"Item_Fat_Content\"].replace(\"reg\", \"Regular\")"
   ]
  },
  {
   "cell_type": "code",
   "execution_count": 34,
   "metadata": {},
   "outputs": [],
   "source": [
    "df_train[\"Item_Fat_Content\"]=df_train[\"Item_Fat_Content\"].replace(\"low fat\", \"Low Fat\")"
   ]
  },
  {
   "cell_type": "code",
   "execution_count": 35,
   "metadata": {},
   "outputs": [
    {
     "data": {
      "text/plain": [
       "Low Fat    5517\n",
       "Regular    3006\n",
       "Name: Item_Fat_Content, dtype: int64"
      ]
     },
     "execution_count": 35,
     "metadata": {},
     "output_type": "execute_result"
    }
   ],
   "source": [
    "#Finding out the unique values the column \"Item_Fat_Content\" contains\n",
    "#label encoding the \"Item_Fat_Content\" column\n",
    "df_train[\"Item_Fat_Content\"].value_counts()"
   ]
  },
  {
   "cell_type": "code",
   "execution_count": 36,
   "metadata": {},
   "outputs": [
    {
     "data": {
      "text/plain": [
       "0       0\n",
       "1       1\n",
       "2       0\n",
       "3       1\n",
       "4       0\n",
       "       ..\n",
       "8518    0\n",
       "8519    1\n",
       "8520    0\n",
       "8521    1\n",
       "8522    0\n",
       "Name: Item_Fat_Content, Length: 8523, dtype: int32"
      ]
     },
     "execution_count": 36,
     "metadata": {},
     "output_type": "execute_result"
    }
   ],
   "source": [
    "from sklearn.preprocessing import LabelEncoder\n",
    "le=LabelEncoder()\n",
    "le.fit(df_train[\"Item_Fat_Content\"])\n",
    "le.classes_\n",
    "df_train[\"Item_Fat_Content\"]=le.transform(df_train[\"Item_Fat_Content\"])\n",
    "df_train[\"Item_Fat_Content\"]"
   ]
  },
  {
   "cell_type": "code",
   "execution_count": 37,
   "metadata": {},
   "outputs": [
    {
     "name": "stdout",
     "output_type": "stream",
     "text": [
      "<class 'pandas.core.frame.DataFrame'>\n",
      "RangeIndex: 8523 entries, 0 to 8522\n",
      "Columns: 1571 entries, Item_Identifier to NCZ54\n",
      "dtypes: float64(4), int32(1), int64(1), object(6), uint8(1559)\n",
      "memory usage: 13.4+ MB\n"
     ]
    }
   ],
   "source": [
    "#Checking the datatypes of all the variables\n",
    "df_train.info()"
   ]
  },
  {
   "cell_type": "code",
   "execution_count": 38,
   "metadata": {},
   "outputs": [
    {
     "data": {
      "text/plain": [
       "Fruits and Vegetables    1232\n",
       "Snack Foods              1200\n",
       "Household                 910\n",
       "Frozen Foods              856\n",
       "Dairy                     682\n",
       "Canned                    649\n",
       "Baking Goods              648\n",
       "Health and Hygiene        520\n",
       "Soft Drinks               445\n",
       "Meat                      425\n",
       "Breads                    251\n",
       "Hard Drinks               214\n",
       "Others                    169\n",
       "Starchy Foods             148\n",
       "Breakfast                 110\n",
       "Seafood                    64\n",
       "Name: Item_Type, dtype: int64"
      ]
     },
     "execution_count": 38,
     "metadata": {},
     "output_type": "execute_result"
    }
   ],
   "source": [
    "#checking out the number of unique values present in the column \"Item_Type\"\n",
    "df_train[\"Item_Type\"].value_counts()"
   ]
  },
  {
   "cell_type": "code",
   "execution_count": 39,
   "metadata": {
    "scrolled": true
   },
   "outputs": [
    {
     "data": {
      "text/html": [
       "<div>\n",
       "<style scoped>\n",
       "    .dataframe tbody tr th:only-of-type {\n",
       "        vertical-align: middle;\n",
       "    }\n",
       "\n",
       "    .dataframe tbody tr th {\n",
       "        vertical-align: top;\n",
       "    }\n",
       "\n",
       "    .dataframe thead th {\n",
       "        text-align: right;\n",
       "    }\n",
       "</style>\n",
       "<table border=\"1\" class=\"dataframe\">\n",
       "  <thead>\n",
       "    <tr style=\"text-align: right;\">\n",
       "      <th></th>\n",
       "      <th>Item_Type_Baking Goods</th>\n",
       "      <th>Item_Type_Breads</th>\n",
       "      <th>Item_Type_Breakfast</th>\n",
       "      <th>Item_Type_Canned</th>\n",
       "      <th>Item_Type_Dairy</th>\n",
       "      <th>Item_Type_Frozen Foods</th>\n",
       "      <th>Item_Type_Fruits and Vegetables</th>\n",
       "      <th>Item_Type_Hard Drinks</th>\n",
       "      <th>Item_Type_Health and Hygiene</th>\n",
       "      <th>Item_Type_Household</th>\n",
       "      <th>Item_Type_Meat</th>\n",
       "      <th>Item_Type_Others</th>\n",
       "      <th>Item_Type_Seafood</th>\n",
       "      <th>Item_Type_Snack Foods</th>\n",
       "      <th>Item_Type_Soft Drinks</th>\n",
       "      <th>Item_Type_Starchy Foods</th>\n",
       "    </tr>\n",
       "  </thead>\n",
       "  <tbody>\n",
       "    <tr>\n",
       "      <th>0</th>\n",
       "      <td>0</td>\n",
       "      <td>0</td>\n",
       "      <td>0</td>\n",
       "      <td>0</td>\n",
       "      <td>1</td>\n",
       "      <td>0</td>\n",
       "      <td>0</td>\n",
       "      <td>0</td>\n",
       "      <td>0</td>\n",
       "      <td>0</td>\n",
       "      <td>0</td>\n",
       "      <td>0</td>\n",
       "      <td>0</td>\n",
       "      <td>0</td>\n",
       "      <td>0</td>\n",
       "      <td>0</td>\n",
       "    </tr>\n",
       "    <tr>\n",
       "      <th>1</th>\n",
       "      <td>0</td>\n",
       "      <td>0</td>\n",
       "      <td>0</td>\n",
       "      <td>0</td>\n",
       "      <td>0</td>\n",
       "      <td>0</td>\n",
       "      <td>0</td>\n",
       "      <td>0</td>\n",
       "      <td>0</td>\n",
       "      <td>0</td>\n",
       "      <td>0</td>\n",
       "      <td>0</td>\n",
       "      <td>0</td>\n",
       "      <td>0</td>\n",
       "      <td>1</td>\n",
       "      <td>0</td>\n",
       "    </tr>\n",
       "    <tr>\n",
       "      <th>2</th>\n",
       "      <td>0</td>\n",
       "      <td>0</td>\n",
       "      <td>0</td>\n",
       "      <td>0</td>\n",
       "      <td>0</td>\n",
       "      <td>0</td>\n",
       "      <td>0</td>\n",
       "      <td>0</td>\n",
       "      <td>0</td>\n",
       "      <td>0</td>\n",
       "      <td>1</td>\n",
       "      <td>0</td>\n",
       "      <td>0</td>\n",
       "      <td>0</td>\n",
       "      <td>0</td>\n",
       "      <td>0</td>\n",
       "    </tr>\n",
       "    <tr>\n",
       "      <th>3</th>\n",
       "      <td>0</td>\n",
       "      <td>0</td>\n",
       "      <td>0</td>\n",
       "      <td>0</td>\n",
       "      <td>0</td>\n",
       "      <td>0</td>\n",
       "      <td>1</td>\n",
       "      <td>0</td>\n",
       "      <td>0</td>\n",
       "      <td>0</td>\n",
       "      <td>0</td>\n",
       "      <td>0</td>\n",
       "      <td>0</td>\n",
       "      <td>0</td>\n",
       "      <td>0</td>\n",
       "      <td>0</td>\n",
       "    </tr>\n",
       "    <tr>\n",
       "      <th>4</th>\n",
       "      <td>0</td>\n",
       "      <td>0</td>\n",
       "      <td>0</td>\n",
       "      <td>0</td>\n",
       "      <td>0</td>\n",
       "      <td>0</td>\n",
       "      <td>0</td>\n",
       "      <td>0</td>\n",
       "      <td>0</td>\n",
       "      <td>1</td>\n",
       "      <td>0</td>\n",
       "      <td>0</td>\n",
       "      <td>0</td>\n",
       "      <td>0</td>\n",
       "      <td>0</td>\n",
       "      <td>0</td>\n",
       "    </tr>\n",
       "    <tr>\n",
       "      <th>...</th>\n",
       "      <td>...</td>\n",
       "      <td>...</td>\n",
       "      <td>...</td>\n",
       "      <td>...</td>\n",
       "      <td>...</td>\n",
       "      <td>...</td>\n",
       "      <td>...</td>\n",
       "      <td>...</td>\n",
       "      <td>...</td>\n",
       "      <td>...</td>\n",
       "      <td>...</td>\n",
       "      <td>...</td>\n",
       "      <td>...</td>\n",
       "      <td>...</td>\n",
       "      <td>...</td>\n",
       "      <td>...</td>\n",
       "    </tr>\n",
       "    <tr>\n",
       "      <th>8518</th>\n",
       "      <td>0</td>\n",
       "      <td>0</td>\n",
       "      <td>0</td>\n",
       "      <td>0</td>\n",
       "      <td>0</td>\n",
       "      <td>0</td>\n",
       "      <td>0</td>\n",
       "      <td>0</td>\n",
       "      <td>0</td>\n",
       "      <td>0</td>\n",
       "      <td>0</td>\n",
       "      <td>0</td>\n",
       "      <td>0</td>\n",
       "      <td>1</td>\n",
       "      <td>0</td>\n",
       "      <td>0</td>\n",
       "    </tr>\n",
       "    <tr>\n",
       "      <th>8519</th>\n",
       "      <td>1</td>\n",
       "      <td>0</td>\n",
       "      <td>0</td>\n",
       "      <td>0</td>\n",
       "      <td>0</td>\n",
       "      <td>0</td>\n",
       "      <td>0</td>\n",
       "      <td>0</td>\n",
       "      <td>0</td>\n",
       "      <td>0</td>\n",
       "      <td>0</td>\n",
       "      <td>0</td>\n",
       "      <td>0</td>\n",
       "      <td>0</td>\n",
       "      <td>0</td>\n",
       "      <td>0</td>\n",
       "    </tr>\n",
       "    <tr>\n",
       "      <th>8520</th>\n",
       "      <td>0</td>\n",
       "      <td>0</td>\n",
       "      <td>0</td>\n",
       "      <td>0</td>\n",
       "      <td>0</td>\n",
       "      <td>0</td>\n",
       "      <td>0</td>\n",
       "      <td>0</td>\n",
       "      <td>1</td>\n",
       "      <td>0</td>\n",
       "      <td>0</td>\n",
       "      <td>0</td>\n",
       "      <td>0</td>\n",
       "      <td>0</td>\n",
       "      <td>0</td>\n",
       "      <td>0</td>\n",
       "    </tr>\n",
       "    <tr>\n",
       "      <th>8521</th>\n",
       "      <td>0</td>\n",
       "      <td>0</td>\n",
       "      <td>0</td>\n",
       "      <td>0</td>\n",
       "      <td>0</td>\n",
       "      <td>0</td>\n",
       "      <td>0</td>\n",
       "      <td>0</td>\n",
       "      <td>0</td>\n",
       "      <td>0</td>\n",
       "      <td>0</td>\n",
       "      <td>0</td>\n",
       "      <td>0</td>\n",
       "      <td>1</td>\n",
       "      <td>0</td>\n",
       "      <td>0</td>\n",
       "    </tr>\n",
       "    <tr>\n",
       "      <th>8522</th>\n",
       "      <td>0</td>\n",
       "      <td>0</td>\n",
       "      <td>0</td>\n",
       "      <td>0</td>\n",
       "      <td>0</td>\n",
       "      <td>0</td>\n",
       "      <td>0</td>\n",
       "      <td>0</td>\n",
       "      <td>0</td>\n",
       "      <td>0</td>\n",
       "      <td>0</td>\n",
       "      <td>0</td>\n",
       "      <td>0</td>\n",
       "      <td>0</td>\n",
       "      <td>1</td>\n",
       "      <td>0</td>\n",
       "    </tr>\n",
       "  </tbody>\n",
       "</table>\n",
       "<p>8523 rows × 16 columns</p>\n",
       "</div>"
      ],
      "text/plain": [
       "      Item_Type_Baking Goods  Item_Type_Breads  Item_Type_Breakfast  \\\n",
       "0                          0                 0                    0   \n",
       "1                          0                 0                    0   \n",
       "2                          0                 0                    0   \n",
       "3                          0                 0                    0   \n",
       "4                          0                 0                    0   \n",
       "...                      ...               ...                  ...   \n",
       "8518                       0                 0                    0   \n",
       "8519                       1                 0                    0   \n",
       "8520                       0                 0                    0   \n",
       "8521                       0                 0                    0   \n",
       "8522                       0                 0                    0   \n",
       "\n",
       "      Item_Type_Canned  Item_Type_Dairy  Item_Type_Frozen Foods  \\\n",
       "0                    0                1                       0   \n",
       "1                    0                0                       0   \n",
       "2                    0                0                       0   \n",
       "3                    0                0                       0   \n",
       "4                    0                0                       0   \n",
       "...                ...              ...                     ...   \n",
       "8518                 0                0                       0   \n",
       "8519                 0                0                       0   \n",
       "8520                 0                0                       0   \n",
       "8521                 0                0                       0   \n",
       "8522                 0                0                       0   \n",
       "\n",
       "      Item_Type_Fruits and Vegetables  Item_Type_Hard Drinks  \\\n",
       "0                                   0                      0   \n",
       "1                                   0                      0   \n",
       "2                                   0                      0   \n",
       "3                                   1                      0   \n",
       "4                                   0                      0   \n",
       "...                               ...                    ...   \n",
       "8518                                0                      0   \n",
       "8519                                0                      0   \n",
       "8520                                0                      0   \n",
       "8521                                0                      0   \n",
       "8522                                0                      0   \n",
       "\n",
       "      Item_Type_Health and Hygiene  Item_Type_Household  Item_Type_Meat  \\\n",
       "0                                0                    0               0   \n",
       "1                                0                    0               0   \n",
       "2                                0                    0               1   \n",
       "3                                0                    0               0   \n",
       "4                                0                    1               0   \n",
       "...                            ...                  ...             ...   \n",
       "8518                             0                    0               0   \n",
       "8519                             0                    0               0   \n",
       "8520                             1                    0               0   \n",
       "8521                             0                    0               0   \n",
       "8522                             0                    0               0   \n",
       "\n",
       "      Item_Type_Others  Item_Type_Seafood  Item_Type_Snack Foods  \\\n",
       "0                    0                  0                      0   \n",
       "1                    0                  0                      0   \n",
       "2                    0                  0                      0   \n",
       "3                    0                  0                      0   \n",
       "4                    0                  0                      0   \n",
       "...                ...                ...                    ...   \n",
       "8518                 0                  0                      1   \n",
       "8519                 0                  0                      0   \n",
       "8520                 0                  0                      0   \n",
       "8521                 0                  0                      1   \n",
       "8522                 0                  0                      0   \n",
       "\n",
       "      Item_Type_Soft Drinks  Item_Type_Starchy Foods  \n",
       "0                         0                        0  \n",
       "1                         1                        0  \n",
       "2                         0                        0  \n",
       "3                         0                        0  \n",
       "4                         0                        0  \n",
       "...                     ...                      ...  \n",
       "8518                      0                        0  \n",
       "8519                      0                        0  \n",
       "8520                      0                        0  \n",
       "8521                      0                        0  \n",
       "8522                      1                        0  \n",
       "\n",
       "[8523 rows x 16 columns]"
      ]
     },
     "execution_count": 39,
     "metadata": {},
     "output_type": "execute_result"
    }
   ],
   "source": [
    "# creating dummy variables for the values present in the column \"Item_Type\"\n",
    "df_dum=pd.get_dummies(df_train[\"Item_Type\"],prefix=\"Item_Type\")\n",
    "df_dum"
   ]
  },
  {
   "cell_type": "code",
   "execution_count": 40,
   "metadata": {},
   "outputs": [],
   "source": [
    "# withConcatenating the original dataframe \"df_train\" and dummy dataframe \"df_dum\"\n",
    "df_train=pd.concat([df_train,df_dum], axis=1)"
   ]
  },
  {
   "cell_type": "code",
   "execution_count": 41,
   "metadata": {},
   "outputs": [
    {
     "data": {
      "text/html": [
       "<div>\n",
       "<style scoped>\n",
       "    .dataframe tbody tr th:only-of-type {\n",
       "        vertical-align: middle;\n",
       "    }\n",
       "\n",
       "    .dataframe tbody tr th {\n",
       "        vertical-align: top;\n",
       "    }\n",
       "\n",
       "    .dataframe thead th {\n",
       "        text-align: right;\n",
       "    }\n",
       "</style>\n",
       "<table border=\"1\" class=\"dataframe\">\n",
       "  <thead>\n",
       "    <tr style=\"text-align: right;\">\n",
       "      <th></th>\n",
       "      <th>Item_Identifier</th>\n",
       "      <th>Item_Weight</th>\n",
       "      <th>Item_Fat_Content</th>\n",
       "      <th>Item_Visibility</th>\n",
       "      <th>Item_Type</th>\n",
       "      <th>Item_MRP</th>\n",
       "      <th>Outlet_Identifier</th>\n",
       "      <th>Outlet_Establishment_Year</th>\n",
       "      <th>Outlet_Size</th>\n",
       "      <th>Outlet_Location_Type</th>\n",
       "      <th>...</th>\n",
       "      <th>Item_Type_Fruits and Vegetables</th>\n",
       "      <th>Item_Type_Hard Drinks</th>\n",
       "      <th>Item_Type_Health and Hygiene</th>\n",
       "      <th>Item_Type_Household</th>\n",
       "      <th>Item_Type_Meat</th>\n",
       "      <th>Item_Type_Others</th>\n",
       "      <th>Item_Type_Seafood</th>\n",
       "      <th>Item_Type_Snack Foods</th>\n",
       "      <th>Item_Type_Soft Drinks</th>\n",
       "      <th>Item_Type_Starchy Foods</th>\n",
       "    </tr>\n",
       "  </thead>\n",
       "  <tbody>\n",
       "    <tr>\n",
       "      <th>0</th>\n",
       "      <td>FDA15</td>\n",
       "      <td>9.30</td>\n",
       "      <td>0</td>\n",
       "      <td>0.016047</td>\n",
       "      <td>Dairy</td>\n",
       "      <td>249.8092</td>\n",
       "      <td>OUT049</td>\n",
       "      <td>1999</td>\n",
       "      <td>Medium</td>\n",
       "      <td>Tier 1</td>\n",
       "      <td>...</td>\n",
       "      <td>0</td>\n",
       "      <td>0</td>\n",
       "      <td>0</td>\n",
       "      <td>0</td>\n",
       "      <td>0</td>\n",
       "      <td>0</td>\n",
       "      <td>0</td>\n",
       "      <td>0</td>\n",
       "      <td>0</td>\n",
       "      <td>0</td>\n",
       "    </tr>\n",
       "    <tr>\n",
       "      <th>1</th>\n",
       "      <td>DRC01</td>\n",
       "      <td>5.92</td>\n",
       "      <td>1</td>\n",
       "      <td>0.019278</td>\n",
       "      <td>Soft Drinks</td>\n",
       "      <td>48.2692</td>\n",
       "      <td>OUT018</td>\n",
       "      <td>2009</td>\n",
       "      <td>Medium</td>\n",
       "      <td>Tier 3</td>\n",
       "      <td>...</td>\n",
       "      <td>0</td>\n",
       "      <td>0</td>\n",
       "      <td>0</td>\n",
       "      <td>0</td>\n",
       "      <td>0</td>\n",
       "      <td>0</td>\n",
       "      <td>0</td>\n",
       "      <td>0</td>\n",
       "      <td>1</td>\n",
       "      <td>0</td>\n",
       "    </tr>\n",
       "    <tr>\n",
       "      <th>2</th>\n",
       "      <td>FDN15</td>\n",
       "      <td>17.50</td>\n",
       "      <td>0</td>\n",
       "      <td>0.016760</td>\n",
       "      <td>Meat</td>\n",
       "      <td>141.6180</td>\n",
       "      <td>OUT049</td>\n",
       "      <td>1999</td>\n",
       "      <td>Medium</td>\n",
       "      <td>Tier 1</td>\n",
       "      <td>...</td>\n",
       "      <td>0</td>\n",
       "      <td>0</td>\n",
       "      <td>0</td>\n",
       "      <td>0</td>\n",
       "      <td>1</td>\n",
       "      <td>0</td>\n",
       "      <td>0</td>\n",
       "      <td>0</td>\n",
       "      <td>0</td>\n",
       "      <td>0</td>\n",
       "    </tr>\n",
       "    <tr>\n",
       "      <th>3</th>\n",
       "      <td>FDX07</td>\n",
       "      <td>19.20</td>\n",
       "      <td>1</td>\n",
       "      <td>0.000000</td>\n",
       "      <td>Fruits and Vegetables</td>\n",
       "      <td>182.0950</td>\n",
       "      <td>OUT010</td>\n",
       "      <td>1998</td>\n",
       "      <td>Medium</td>\n",
       "      <td>Tier 3</td>\n",
       "      <td>...</td>\n",
       "      <td>1</td>\n",
       "      <td>0</td>\n",
       "      <td>0</td>\n",
       "      <td>0</td>\n",
       "      <td>0</td>\n",
       "      <td>0</td>\n",
       "      <td>0</td>\n",
       "      <td>0</td>\n",
       "      <td>0</td>\n",
       "      <td>0</td>\n",
       "    </tr>\n",
       "    <tr>\n",
       "      <th>4</th>\n",
       "      <td>NCD19</td>\n",
       "      <td>8.93</td>\n",
       "      <td>0</td>\n",
       "      <td>0.000000</td>\n",
       "      <td>Household</td>\n",
       "      <td>53.8614</td>\n",
       "      <td>OUT013</td>\n",
       "      <td>1987</td>\n",
       "      <td>High</td>\n",
       "      <td>Tier 3</td>\n",
       "      <td>...</td>\n",
       "      <td>0</td>\n",
       "      <td>0</td>\n",
       "      <td>0</td>\n",
       "      <td>1</td>\n",
       "      <td>0</td>\n",
       "      <td>0</td>\n",
       "      <td>0</td>\n",
       "      <td>0</td>\n",
       "      <td>0</td>\n",
       "      <td>0</td>\n",
       "    </tr>\n",
       "  </tbody>\n",
       "</table>\n",
       "<p>5 rows × 1587 columns</p>\n",
       "</div>"
      ],
      "text/plain": [
       "  Item_Identifier  Item_Weight  Item_Fat_Content  Item_Visibility  \\\n",
       "0           FDA15         9.30                 0         0.016047   \n",
       "1           DRC01         5.92                 1         0.019278   \n",
       "2           FDN15        17.50                 0         0.016760   \n",
       "3           FDX07        19.20                 1         0.000000   \n",
       "4           NCD19         8.93                 0         0.000000   \n",
       "\n",
       "               Item_Type  Item_MRP Outlet_Identifier  \\\n",
       "0                  Dairy  249.8092            OUT049   \n",
       "1            Soft Drinks   48.2692            OUT018   \n",
       "2                   Meat  141.6180            OUT049   \n",
       "3  Fruits and Vegetables  182.0950            OUT010   \n",
       "4              Household   53.8614            OUT013   \n",
       "\n",
       "   Outlet_Establishment_Year Outlet_Size Outlet_Location_Type  ...  \\\n",
       "0                       1999      Medium               Tier 1  ...   \n",
       "1                       2009      Medium               Tier 3  ...   \n",
       "2                       1999      Medium               Tier 1  ...   \n",
       "3                       1998      Medium               Tier 3  ...   \n",
       "4                       1987        High               Tier 3  ...   \n",
       "\n",
       "  Item_Type_Fruits and Vegetables  Item_Type_Hard Drinks  \\\n",
       "0                               0                      0   \n",
       "1                               0                      0   \n",
       "2                               0                      0   \n",
       "3                               1                      0   \n",
       "4                               0                      0   \n",
       "\n",
       "   Item_Type_Health and Hygiene  Item_Type_Household  Item_Type_Meat  \\\n",
       "0                             0                    0               0   \n",
       "1                             0                    0               0   \n",
       "2                             0                    0               1   \n",
       "3                             0                    0               0   \n",
       "4                             0                    1               0   \n",
       "\n",
       "   Item_Type_Others  Item_Type_Seafood  Item_Type_Snack Foods  \\\n",
       "0                 0                  0                      0   \n",
       "1                 0                  0                      0   \n",
       "2                 0                  0                      0   \n",
       "3                 0                  0                      0   \n",
       "4                 0                  0                      0   \n",
       "\n",
       "   Item_Type_Soft Drinks  Item_Type_Starchy Foods  \n",
       "0                      0                        0  \n",
       "1                      1                        0  \n",
       "2                      0                        0  \n",
       "3                      0                        0  \n",
       "4                      0                        0  \n",
       "\n",
       "[5 rows x 1587 columns]"
      ]
     },
     "execution_count": 41,
     "metadata": {},
     "output_type": "execute_result"
    }
   ],
   "source": [
    "df_train.head()"
   ]
  },
  {
   "cell_type": "code",
   "execution_count": 42,
   "metadata": {},
   "outputs": [
    {
     "data": {
      "text/plain": [
       "OUT027    935\n",
       "OUT013    932\n",
       "OUT046    930\n",
       "OUT035    930\n",
       "OUT049    930\n",
       "OUT045    929\n",
       "OUT018    928\n",
       "OUT017    926\n",
       "OUT010    555\n",
       "OUT019    528\n",
       "Name: Outlet_Identifier, dtype: int64"
      ]
     },
     "execution_count": 42,
     "metadata": {},
     "output_type": "execute_result"
    }
   ],
   "source": [
    "df_train[\"Outlet_Identifier\"].value_counts()"
   ]
  },
  {
   "cell_type": "code",
   "execution_count": 43,
   "metadata": {},
   "outputs": [],
   "source": [
    "#Creating dummy variables out of \"Outlet_Identifier\" column\n",
    "df_dum1=pd.get_dummies(df_train['Outlet_Identifier'], prefix=\"Outlet_Identity\")"
   ]
  },
  {
   "cell_type": "code",
   "execution_count": 44,
   "metadata": {},
   "outputs": [],
   "source": [
    "#concatenating \"df_train\" and \"df_dum1\" to get a consolidated dataframe\n",
    "df_train=pd.concat([df_train,df_dum1], axis=1)"
   ]
  },
  {
   "cell_type": "code",
   "execution_count": 45,
   "metadata": {},
   "outputs": [
    {
     "data": {
      "text/html": [
       "<div>\n",
       "<style scoped>\n",
       "    .dataframe tbody tr th:only-of-type {\n",
       "        vertical-align: middle;\n",
       "    }\n",
       "\n",
       "    .dataframe tbody tr th {\n",
       "        vertical-align: top;\n",
       "    }\n",
       "\n",
       "    .dataframe thead th {\n",
       "        text-align: right;\n",
       "    }\n",
       "</style>\n",
       "<table border=\"1\" class=\"dataframe\">\n",
       "  <thead>\n",
       "    <tr style=\"text-align: right;\">\n",
       "      <th></th>\n",
       "      <th>Item_Identifier</th>\n",
       "      <th>Item_Weight</th>\n",
       "      <th>Item_Fat_Content</th>\n",
       "      <th>Item_Visibility</th>\n",
       "      <th>Item_Type</th>\n",
       "      <th>Item_MRP</th>\n",
       "      <th>Outlet_Identifier</th>\n",
       "      <th>Outlet_Establishment_Year</th>\n",
       "      <th>Outlet_Size</th>\n",
       "      <th>Outlet_Location_Type</th>\n",
       "      <th>...</th>\n",
       "      <th>Outlet_Identity_OUT010</th>\n",
       "      <th>Outlet_Identity_OUT013</th>\n",
       "      <th>Outlet_Identity_OUT017</th>\n",
       "      <th>Outlet_Identity_OUT018</th>\n",
       "      <th>Outlet_Identity_OUT019</th>\n",
       "      <th>Outlet_Identity_OUT027</th>\n",
       "      <th>Outlet_Identity_OUT035</th>\n",
       "      <th>Outlet_Identity_OUT045</th>\n",
       "      <th>Outlet_Identity_OUT046</th>\n",
       "      <th>Outlet_Identity_OUT049</th>\n",
       "    </tr>\n",
       "  </thead>\n",
       "  <tbody>\n",
       "    <tr>\n",
       "      <th>0</th>\n",
       "      <td>FDA15</td>\n",
       "      <td>9.30</td>\n",
       "      <td>0</td>\n",
       "      <td>0.016047</td>\n",
       "      <td>Dairy</td>\n",
       "      <td>249.8092</td>\n",
       "      <td>OUT049</td>\n",
       "      <td>1999</td>\n",
       "      <td>Medium</td>\n",
       "      <td>Tier 1</td>\n",
       "      <td>...</td>\n",
       "      <td>0</td>\n",
       "      <td>0</td>\n",
       "      <td>0</td>\n",
       "      <td>0</td>\n",
       "      <td>0</td>\n",
       "      <td>0</td>\n",
       "      <td>0</td>\n",
       "      <td>0</td>\n",
       "      <td>0</td>\n",
       "      <td>1</td>\n",
       "    </tr>\n",
       "    <tr>\n",
       "      <th>1</th>\n",
       "      <td>DRC01</td>\n",
       "      <td>5.92</td>\n",
       "      <td>1</td>\n",
       "      <td>0.019278</td>\n",
       "      <td>Soft Drinks</td>\n",
       "      <td>48.2692</td>\n",
       "      <td>OUT018</td>\n",
       "      <td>2009</td>\n",
       "      <td>Medium</td>\n",
       "      <td>Tier 3</td>\n",
       "      <td>...</td>\n",
       "      <td>0</td>\n",
       "      <td>0</td>\n",
       "      <td>0</td>\n",
       "      <td>1</td>\n",
       "      <td>0</td>\n",
       "      <td>0</td>\n",
       "      <td>0</td>\n",
       "      <td>0</td>\n",
       "      <td>0</td>\n",
       "      <td>0</td>\n",
       "    </tr>\n",
       "    <tr>\n",
       "      <th>2</th>\n",
       "      <td>FDN15</td>\n",
       "      <td>17.50</td>\n",
       "      <td>0</td>\n",
       "      <td>0.016760</td>\n",
       "      <td>Meat</td>\n",
       "      <td>141.6180</td>\n",
       "      <td>OUT049</td>\n",
       "      <td>1999</td>\n",
       "      <td>Medium</td>\n",
       "      <td>Tier 1</td>\n",
       "      <td>...</td>\n",
       "      <td>0</td>\n",
       "      <td>0</td>\n",
       "      <td>0</td>\n",
       "      <td>0</td>\n",
       "      <td>0</td>\n",
       "      <td>0</td>\n",
       "      <td>0</td>\n",
       "      <td>0</td>\n",
       "      <td>0</td>\n",
       "      <td>1</td>\n",
       "    </tr>\n",
       "    <tr>\n",
       "      <th>3</th>\n",
       "      <td>FDX07</td>\n",
       "      <td>19.20</td>\n",
       "      <td>1</td>\n",
       "      <td>0.000000</td>\n",
       "      <td>Fruits and Vegetables</td>\n",
       "      <td>182.0950</td>\n",
       "      <td>OUT010</td>\n",
       "      <td>1998</td>\n",
       "      <td>Medium</td>\n",
       "      <td>Tier 3</td>\n",
       "      <td>...</td>\n",
       "      <td>1</td>\n",
       "      <td>0</td>\n",
       "      <td>0</td>\n",
       "      <td>0</td>\n",
       "      <td>0</td>\n",
       "      <td>0</td>\n",
       "      <td>0</td>\n",
       "      <td>0</td>\n",
       "      <td>0</td>\n",
       "      <td>0</td>\n",
       "    </tr>\n",
       "    <tr>\n",
       "      <th>4</th>\n",
       "      <td>NCD19</td>\n",
       "      <td>8.93</td>\n",
       "      <td>0</td>\n",
       "      <td>0.000000</td>\n",
       "      <td>Household</td>\n",
       "      <td>53.8614</td>\n",
       "      <td>OUT013</td>\n",
       "      <td>1987</td>\n",
       "      <td>High</td>\n",
       "      <td>Tier 3</td>\n",
       "      <td>...</td>\n",
       "      <td>0</td>\n",
       "      <td>1</td>\n",
       "      <td>0</td>\n",
       "      <td>0</td>\n",
       "      <td>0</td>\n",
       "      <td>0</td>\n",
       "      <td>0</td>\n",
       "      <td>0</td>\n",
       "      <td>0</td>\n",
       "      <td>0</td>\n",
       "    </tr>\n",
       "  </tbody>\n",
       "</table>\n",
       "<p>5 rows × 1597 columns</p>\n",
       "</div>"
      ],
      "text/plain": [
       "  Item_Identifier  Item_Weight  Item_Fat_Content  Item_Visibility  \\\n",
       "0           FDA15         9.30                 0         0.016047   \n",
       "1           DRC01         5.92                 1         0.019278   \n",
       "2           FDN15        17.50                 0         0.016760   \n",
       "3           FDX07        19.20                 1         0.000000   \n",
       "4           NCD19         8.93                 0         0.000000   \n",
       "\n",
       "               Item_Type  Item_MRP Outlet_Identifier  \\\n",
       "0                  Dairy  249.8092            OUT049   \n",
       "1            Soft Drinks   48.2692            OUT018   \n",
       "2                   Meat  141.6180            OUT049   \n",
       "3  Fruits and Vegetables  182.0950            OUT010   \n",
       "4              Household   53.8614            OUT013   \n",
       "\n",
       "   Outlet_Establishment_Year Outlet_Size Outlet_Location_Type  ...  \\\n",
       "0                       1999      Medium               Tier 1  ...   \n",
       "1                       2009      Medium               Tier 3  ...   \n",
       "2                       1999      Medium               Tier 1  ...   \n",
       "3                       1998      Medium               Tier 3  ...   \n",
       "4                       1987        High               Tier 3  ...   \n",
       "\n",
       "  Outlet_Identity_OUT010  Outlet_Identity_OUT013  Outlet_Identity_OUT017  \\\n",
       "0                      0                       0                       0   \n",
       "1                      0                       0                       0   \n",
       "2                      0                       0                       0   \n",
       "3                      1                       0                       0   \n",
       "4                      0                       1                       0   \n",
       "\n",
       "   Outlet_Identity_OUT018  Outlet_Identity_OUT019  Outlet_Identity_OUT027  \\\n",
       "0                       0                       0                       0   \n",
       "1                       1                       0                       0   \n",
       "2                       0                       0                       0   \n",
       "3                       0                       0                       0   \n",
       "4                       0                       0                       0   \n",
       "\n",
       "   Outlet_Identity_OUT035  Outlet_Identity_OUT045  Outlet_Identity_OUT046  \\\n",
       "0                       0                       0                       0   \n",
       "1                       0                       0                       0   \n",
       "2                       0                       0                       0   \n",
       "3                       0                       0                       0   \n",
       "4                       0                       0                       0   \n",
       "\n",
       "   Outlet_Identity_OUT049  \n",
       "0                       1  \n",
       "1                       0  \n",
       "2                       1  \n",
       "3                       0  \n",
       "4                       0  \n",
       "\n",
       "[5 rows x 1597 columns]"
      ]
     },
     "execution_count": 45,
     "metadata": {},
     "output_type": "execute_result"
    }
   ],
   "source": [
    "df_train.head()"
   ]
  },
  {
   "cell_type": "code",
   "execution_count": 46,
   "metadata": {},
   "outputs": [
    {
     "data": {
      "text/plain": [
       "Medium    5203\n",
       "Small     2388\n",
       "High       932\n",
       "Name: Outlet_Size, dtype: int64"
      ]
     },
     "execution_count": 46,
     "metadata": {},
     "output_type": "execute_result"
    }
   ],
   "source": [
    "df_train[\"Outlet_Size\"].value_counts()"
   ]
  },
  {
   "cell_type": "code",
   "execution_count": 181,
   "metadata": {},
   "outputs": [
    {
     "data": {
      "text/plain": [
       "0       1\n",
       "1       1\n",
       "2       1\n",
       "3       1\n",
       "4       0\n",
       "       ..\n",
       "8518    0\n",
       "8519    1\n",
       "8520    2\n",
       "8521    1\n",
       "8522    2\n",
       "Name: Outlet_Size, Length: 8523, dtype: int64"
      ]
     },
     "execution_count": 181,
     "metadata": {},
     "output_type": "execute_result"
    }
   ],
   "source": [
    "#Label encoding the column \"Outlet_Size\"\n",
    "le1=LabelEncoder()\n",
    "le1.fit(df_train[\"Outlet_Size\"])\n",
    "le1.classes_\n",
    "df_train[\"Outlet_Size\"]=le1.transform(df_train[\"Outlet_Size\"])\n",
    "df_train[\"Outlet_Size\"]"
   ]
  },
  {
   "cell_type": "code",
   "execution_count": 48,
   "metadata": {},
   "outputs": [
    {
     "data": {
      "text/plain": [
       "Tier 3    3350\n",
       "Tier 2    2785\n",
       "Tier 1    2388\n",
       "Name: Outlet_Location_Type, dtype: int64"
      ]
     },
     "execution_count": 48,
     "metadata": {},
     "output_type": "execute_result"
    }
   ],
   "source": [
    "#Checking number of values available in \"Outlet_Location_Type\"\n",
    "df_train[\"Outlet_Location_Type\"].value_counts()"
   ]
  },
  {
   "cell_type": "code",
   "execution_count": 49,
   "metadata": {},
   "outputs": [
    {
     "data": {
      "text/plain": [
       "0       0\n",
       "1       2\n",
       "2       0\n",
       "3       2\n",
       "4       2\n",
       "       ..\n",
       "8518    2\n",
       "8519    1\n",
       "8520    1\n",
       "8521    2\n",
       "8522    0\n",
       "Name: Outlet_Location_Type, Length: 8523, dtype: int32"
      ]
     },
     "execution_count": 49,
     "metadata": {},
     "output_type": "execute_result"
    }
   ],
   "source": [
    "# Label encoding the column \"Outlet_Location_Type\"\n",
    "le2=LabelEncoder()\n",
    "le2.fit(df_train[\"Outlet_Location_Type\"])\n",
    "le2.classes_\n",
    "df_train[\"Outlet_Location_Type\"]=le2.transform(df_train[\"Outlet_Location_Type\"])\n",
    "df_train['Outlet_Location_Type']"
   ]
  },
  {
   "cell_type": "code",
   "execution_count": 50,
   "metadata": {},
   "outputs": [
    {
     "data": {
      "text/plain": [
       "Supermarket Type1    5577\n",
       "Grocery Store        1083\n",
       "Supermarket Type3     935\n",
       "Supermarket Type2     928\n",
       "Name: Outlet_Type, dtype: int64"
      ]
     },
     "execution_count": 50,
     "metadata": {},
     "output_type": "execute_result"
    }
   ],
   "source": [
    "# Counting the unique values present in \"Outlet_Type\" column\n",
    "df_train[\"Outlet_Type\"].value_counts()"
   ]
  },
  {
   "cell_type": "code",
   "execution_count": 51,
   "metadata": {},
   "outputs": [
    {
     "data": {
      "text/plain": [
       "0       1\n",
       "1       2\n",
       "2       1\n",
       "3       0\n",
       "4       1\n",
       "       ..\n",
       "8518    1\n",
       "8519    1\n",
       "8520    1\n",
       "8521    2\n",
       "8522    1\n",
       "Name: Outlet_Type, Length: 8523, dtype: int32"
      ]
     },
     "execution_count": 51,
     "metadata": {},
     "output_type": "execute_result"
    }
   ],
   "source": [
    "#label Encoding the column \"Outlet_Type\"\n",
    "le3=LabelEncoder()\n",
    "le3.fit(df_train[\"Outlet_Type\"])\n",
    "le3.classes_\n",
    "df_train[\"Outlet_Type\"]=le3.transform(df_train[\"Outlet_Type\"])\n",
    "df_train['Outlet_Type']"
   ]
  },
  {
   "cell_type": "code",
   "execution_count": 52,
   "metadata": {},
   "outputs": [],
   "source": [
    "#dropping the rendundant columns as these columns have already been converted using either label encoding or onehot encoding\n",
    "df_train.drop([\"Item_Type\",\"Outlet_Identifier\", \"Item_Identifier\"], axis=1, inplace=True)"
   ]
  },
  {
   "cell_type": "code",
   "execution_count": 53,
   "metadata": {},
   "outputs": [
    {
     "name": "stdout",
     "output_type": "stream",
     "text": [
      "<class 'pandas.core.frame.DataFrame'>\n",
      "RangeIndex: 8523 entries, 0 to 8522\n",
      "Columns: 1594 entries, Item_Weight to Outlet_Identity_OUT049\n",
      "dtypes: float64(4), int32(4), int64(1), uint8(1585)\n",
      "memory usage: 13.3 MB\n"
     ]
    }
   ],
   "source": [
    "#Checking the datatype of each columns \n",
    "df_train.info()"
   ]
  },
  {
   "cell_type": "code",
   "execution_count": 199,
   "metadata": {},
   "outputs": [
    {
     "data": {
      "text/html": [
       "<div>\n",
       "<style scoped>\n",
       "    .dataframe tbody tr th:only-of-type {\n",
       "        vertical-align: middle;\n",
       "    }\n",
       "\n",
       "    .dataframe tbody tr th {\n",
       "        vertical-align: top;\n",
       "    }\n",
       "\n",
       "    .dataframe thead th {\n",
       "        text-align: right;\n",
       "    }\n",
       "</style>\n",
       "<table border=\"1\" class=\"dataframe\">\n",
       "  <thead>\n",
       "    <tr style=\"text-align: right;\">\n",
       "      <th></th>\n",
       "      <th>Item_Weight</th>\n",
       "      <th>Item_Fat_Content</th>\n",
       "      <th>Item_Visibility</th>\n",
       "      <th>Item_MRP</th>\n",
       "      <th>Outlet_Establishment_Year</th>\n",
       "      <th>Outlet_Size</th>\n",
       "      <th>Outlet_Location_Type</th>\n",
       "      <th>Outlet_Type</th>\n",
       "      <th>Item_Outlet_Sales</th>\n",
       "      <th>DRA12</th>\n",
       "      <th>...</th>\n",
       "      <th>Outlet_Identity_OUT010</th>\n",
       "      <th>Outlet_Identity_OUT013</th>\n",
       "      <th>Outlet_Identity_OUT017</th>\n",
       "      <th>Outlet_Identity_OUT018</th>\n",
       "      <th>Outlet_Identity_OUT019</th>\n",
       "      <th>Outlet_Identity_OUT027</th>\n",
       "      <th>Outlet_Identity_OUT035</th>\n",
       "      <th>Outlet_Identity_OUT045</th>\n",
       "      <th>Outlet_Identity_OUT046</th>\n",
       "      <th>Outlet_Identity_OUT049</th>\n",
       "    </tr>\n",
       "  </thead>\n",
       "  <tbody>\n",
       "    <tr>\n",
       "      <th>0</th>\n",
       "      <td>9.30</td>\n",
       "      <td>0</td>\n",
       "      <td>0.016047</td>\n",
       "      <td>249.8092</td>\n",
       "      <td>1</td>\n",
       "      <td>1</td>\n",
       "      <td>0</td>\n",
       "      <td>1</td>\n",
       "      <td>3735.1380</td>\n",
       "      <td>0</td>\n",
       "      <td>...</td>\n",
       "      <td>0</td>\n",
       "      <td>0</td>\n",
       "      <td>0</td>\n",
       "      <td>0</td>\n",
       "      <td>0</td>\n",
       "      <td>0</td>\n",
       "      <td>0</td>\n",
       "      <td>0</td>\n",
       "      <td>0</td>\n",
       "      <td>1</td>\n",
       "    </tr>\n",
       "    <tr>\n",
       "      <th>1</th>\n",
       "      <td>5.92</td>\n",
       "      <td>1</td>\n",
       "      <td>0.019278</td>\n",
       "      <td>48.2692</td>\n",
       "      <td>2</td>\n",
       "      <td>1</td>\n",
       "      <td>2</td>\n",
       "      <td>2</td>\n",
       "      <td>443.4228</td>\n",
       "      <td>0</td>\n",
       "      <td>...</td>\n",
       "      <td>0</td>\n",
       "      <td>0</td>\n",
       "      <td>0</td>\n",
       "      <td>1</td>\n",
       "      <td>0</td>\n",
       "      <td>0</td>\n",
       "      <td>0</td>\n",
       "      <td>0</td>\n",
       "      <td>0</td>\n",
       "      <td>0</td>\n",
       "    </tr>\n",
       "    <tr>\n",
       "      <th>2</th>\n",
       "      <td>17.50</td>\n",
       "      <td>0</td>\n",
       "      <td>0.016760</td>\n",
       "      <td>141.6180</td>\n",
       "      <td>1</td>\n",
       "      <td>1</td>\n",
       "      <td>0</td>\n",
       "      <td>1</td>\n",
       "      <td>2097.2700</td>\n",
       "      <td>0</td>\n",
       "      <td>...</td>\n",
       "      <td>0</td>\n",
       "      <td>0</td>\n",
       "      <td>0</td>\n",
       "      <td>0</td>\n",
       "      <td>0</td>\n",
       "      <td>0</td>\n",
       "      <td>0</td>\n",
       "      <td>0</td>\n",
       "      <td>0</td>\n",
       "      <td>1</td>\n",
       "    </tr>\n",
       "    <tr>\n",
       "      <th>3</th>\n",
       "      <td>19.20</td>\n",
       "      <td>1</td>\n",
       "      <td>0.000000</td>\n",
       "      <td>182.0950</td>\n",
       "      <td>1</td>\n",
       "      <td>1</td>\n",
       "      <td>2</td>\n",
       "      <td>0</td>\n",
       "      <td>732.3800</td>\n",
       "      <td>0</td>\n",
       "      <td>...</td>\n",
       "      <td>1</td>\n",
       "      <td>0</td>\n",
       "      <td>0</td>\n",
       "      <td>0</td>\n",
       "      <td>0</td>\n",
       "      <td>0</td>\n",
       "      <td>0</td>\n",
       "      <td>0</td>\n",
       "      <td>0</td>\n",
       "      <td>0</td>\n",
       "    </tr>\n",
       "    <tr>\n",
       "      <th>4</th>\n",
       "      <td>8.93</td>\n",
       "      <td>0</td>\n",
       "      <td>0.000000</td>\n",
       "      <td>53.8614</td>\n",
       "      <td>0</td>\n",
       "      <td>0</td>\n",
       "      <td>2</td>\n",
       "      <td>1</td>\n",
       "      <td>994.7052</td>\n",
       "      <td>0</td>\n",
       "      <td>...</td>\n",
       "      <td>0</td>\n",
       "      <td>1</td>\n",
       "      <td>0</td>\n",
       "      <td>0</td>\n",
       "      <td>0</td>\n",
       "      <td>0</td>\n",
       "      <td>0</td>\n",
       "      <td>0</td>\n",
       "      <td>0</td>\n",
       "      <td>0</td>\n",
       "    </tr>\n",
       "  </tbody>\n",
       "</table>\n",
       "<p>5 rows × 1594 columns</p>\n",
       "</div>"
      ],
      "text/plain": [
       "   Item_Weight  Item_Fat_Content  Item_Visibility  Item_MRP  \\\n",
       "0         9.30                 0         0.016047  249.8092   \n",
       "1         5.92                 1         0.019278   48.2692   \n",
       "2        17.50                 0         0.016760  141.6180   \n",
       "3        19.20                 1         0.000000  182.0950   \n",
       "4         8.93                 0         0.000000   53.8614   \n",
       "\n",
       "   Outlet_Establishment_Year  Outlet_Size  Outlet_Location_Type  Outlet_Type  \\\n",
       "0                          1            1                     0            1   \n",
       "1                          2            1                     2            2   \n",
       "2                          1            1                     0            1   \n",
       "3                          1            1                     2            0   \n",
       "4                          0            0                     2            1   \n",
       "\n",
       "   Item_Outlet_Sales  DRA12  ...  Outlet_Identity_OUT010  \\\n",
       "0          3735.1380      0  ...                       0   \n",
       "1           443.4228      0  ...                       0   \n",
       "2          2097.2700      0  ...                       0   \n",
       "3           732.3800      0  ...                       1   \n",
       "4           994.7052      0  ...                       0   \n",
       "\n",
       "   Outlet_Identity_OUT013  Outlet_Identity_OUT017  Outlet_Identity_OUT018  \\\n",
       "0                       0                       0                       0   \n",
       "1                       0                       0                       1   \n",
       "2                       0                       0                       0   \n",
       "3                       0                       0                       0   \n",
       "4                       1                       0                       0   \n",
       "\n",
       "   Outlet_Identity_OUT019  Outlet_Identity_OUT027  Outlet_Identity_OUT035  \\\n",
       "0                       0                       0                       0   \n",
       "1                       0                       0                       0   \n",
       "2                       0                       0                       0   \n",
       "3                       0                       0                       0   \n",
       "4                       0                       0                       0   \n",
       "\n",
       "   Outlet_Identity_OUT045  Outlet_Identity_OUT046  Outlet_Identity_OUT049  \n",
       "0                       0                       0                       1  \n",
       "1                       0                       0                       0  \n",
       "2                       0                       0                       1  \n",
       "3                       0                       0                       0  \n",
       "4                       0                       0                       0  \n",
       "\n",
       "[5 rows x 1594 columns]"
      ]
     },
     "execution_count": 199,
     "metadata": {},
     "output_type": "execute_result"
    }
   ],
   "source": [
    "df_train.head()"
   ]
  },
  {
   "cell_type": "code",
   "execution_count": 54,
   "metadata": {},
   "outputs": [
    {
     "data": {
      "text/html": [
       "<div>\n",
       "<style scoped>\n",
       "    .dataframe tbody tr th:only-of-type {\n",
       "        vertical-align: middle;\n",
       "    }\n",
       "\n",
       "    .dataframe tbody tr th {\n",
       "        vertical-align: top;\n",
       "    }\n",
       "\n",
       "    .dataframe thead th {\n",
       "        text-align: right;\n",
       "    }\n",
       "</style>\n",
       "<table border=\"1\" class=\"dataframe\">\n",
       "  <thead>\n",
       "    <tr style=\"text-align: right;\">\n",
       "      <th></th>\n",
       "    </tr>\n",
       "  </thead>\n",
       "  <tbody>\n",
       "    <tr>\n",
       "      <th>0</th>\n",
       "    </tr>\n",
       "    <tr>\n",
       "      <th>1</th>\n",
       "    </tr>\n",
       "    <tr>\n",
       "      <th>2</th>\n",
       "    </tr>\n",
       "    <tr>\n",
       "      <th>3</th>\n",
       "    </tr>\n",
       "    <tr>\n",
       "      <th>4</th>\n",
       "    </tr>\n",
       "    <tr>\n",
       "      <th>...</th>\n",
       "    </tr>\n",
       "    <tr>\n",
       "      <th>8518</th>\n",
       "    </tr>\n",
       "    <tr>\n",
       "      <th>8519</th>\n",
       "    </tr>\n",
       "    <tr>\n",
       "      <th>8520</th>\n",
       "    </tr>\n",
       "    <tr>\n",
       "      <th>8521</th>\n",
       "    </tr>\n",
       "    <tr>\n",
       "      <th>8522</th>\n",
       "    </tr>\n",
       "  </tbody>\n",
       "</table>\n",
       "<p>8523 rows × 0 columns</p>\n",
       "</div>"
      ],
      "text/plain": [
       "Empty DataFrame\n",
       "Columns: []\n",
       "Index: [0, 1, 2, 3, 4, 5, 6, 7, 8, 9, 10, 11, 12, 13, 14, 15, 16, 17, 18, 19, 20, 21, 22, 23, 24, 25, 26, 27, 28, 29, 30, 31, 32, 33, 34, 35, 36, 37, 38, 39, 40, 41, 42, 43, 44, 45, 46, 47, 48, 49, 50, 51, 52, 53, 54, 55, 56, 57, 58, 59, 60, 61, 62, 63, 64, 65, 66, 67, 68, 69, 70, 71, 72, 73, 74, 75, 76, 77, 78, 79, 80, 81, 82, 83, 84, 85, 86, 87, 88, 89, 90, 91, 92, 93, 94, 95, 96, 97, 98, 99, ...]\n",
       "\n",
       "[8523 rows x 0 columns]"
      ]
     },
     "execution_count": 54,
     "metadata": {},
     "output_type": "execute_result"
    }
   ],
   "source": [
    "df_train.select_dtypes(include=['object'])"
   ]
  },
  {
   "cell_type": "code",
   "execution_count": 55,
   "metadata": {},
   "outputs": [
    {
     "data": {
      "text/plain": [
       "0       1990\n",
       "1       2000\n",
       "2       1990\n",
       "3       1990\n",
       "4       1980\n",
       "        ... \n",
       "8518    1980\n",
       "8519    2000\n",
       "8520    2000\n",
       "8521    2000\n",
       "8522    1990\n",
       "Name: Outlet_Establishment_Year, Length: 8523, dtype: category\n",
       "Categories (4, object): ['1980' < '1990' < '2000' < '2010']"
      ]
     },
     "execution_count": 55,
     "metadata": {},
     "output_type": "execute_result"
    }
   ],
   "source": [
    "#Binning the column \"Outlet_Establishment_Year\" into interval of 10 years\n",
    "df_train['Outlet_Establishment_Year']=pd.cut(df_train.Outlet_Establishment_Year, [1980,1990,2000,2010,2020], labels=['1980','1990','2000','2010'])\n",
    "df_train['Outlet_Establishment_Year']"
   ]
  },
  {
   "cell_type": "code",
   "execution_count": 56,
   "metadata": {},
   "outputs": [
    {
     "data": {
      "text/plain": [
       "0       1\n",
       "1       2\n",
       "2       1\n",
       "3       1\n",
       "4       0\n",
       "       ..\n",
       "8518    0\n",
       "8519    2\n",
       "8520    2\n",
       "8521    2\n",
       "8522    1\n",
       "Name: Outlet_Establishment_Year, Length: 8523, dtype: int32"
      ]
     },
     "execution_count": 56,
     "metadata": {},
     "output_type": "execute_result"
    }
   ],
   "source": [
    "#lebel encoding the updated \"Outlet_Establishment_Year\"\n",
    "le4=LabelEncoder()\n",
    "le4.fit(df_train[\"Outlet_Establishment_Year\"])\n",
    "le4.classes_\n",
    "df_train[\"Outlet_Establishment_Year\"]=le4.transform(df_train[\"Outlet_Establishment_Year\"])\n",
    "df_train['Outlet_Establishment_Year']"
   ]
  },
  {
   "cell_type": "code",
   "execution_count": 57,
   "metadata": {},
   "outputs": [],
   "source": [
    "#Setting up X and y for modelling part\n",
    "X=df_train.drop('Item_Outlet_Sales', axis=1)\n",
    "y=df_train[\"Item_Outlet_Sales\"]"
   ]
  },
  {
   "cell_type": "code",
   "execution_count": 58,
   "metadata": {},
   "outputs": [],
   "source": [
    "#importing the required libraries and Packages\n",
    "from sklearn.linear_model import LinearRegression\n",
    "from sklearn.linear_model import RidgeCV, LassoCV\n",
    "from sklearn.model_selection import train_test_split\n",
    "from sklearn.preprocessing import StandardScaler"
   ]
  },
  {
   "cell_type": "code",
   "execution_count": 59,
   "metadata": {},
   "outputs": [],
   "source": [
    "X_train, X_test, y_train, y_test = train_test_split(X, y, test_size=0.3, random_state=42)"
   ]
  },
  {
   "cell_type": "code",
   "execution_count": 60,
   "metadata": {},
   "outputs": [],
   "source": [
    "scaler=StandardScaler()\n",
    "\n",
    "#Fit training data only\n",
    "scaler.fit(X_train)\n",
    "\n",
    "#Apply transform to both the training set and the test set\n",
    "X_train= scaler.transform(X_train)\n",
    "X_test= scaler.transform(X_test)"
   ]
  },
  {
   "cell_type": "code",
   "execution_count": 61,
   "metadata": {},
   "outputs": [],
   "source": [
    "from sklearn.decomposition import PCA\n",
    "\n",
    "#make an instance of of the model\n",
    "pca=PCA(n_components=1200)"
   ]
  },
  {
   "cell_type": "code",
   "execution_count": 62,
   "metadata": {},
   "outputs": [
    {
     "name": "stdout",
     "output_type": "stream",
     "text": [
      "77.90943169311542\n"
     ]
    }
   ],
   "source": [
    "#fitting PCA on the training set only\n",
    "pca.fit(X_train)\n",
    "variance=pca.explained_variance_ratio_\n",
    "print(sum(variance)*100)"
   ]
  },
  {
   "cell_type": "code",
   "execution_count": 63,
   "metadata": {},
   "outputs": [],
   "source": [
    "#applying the the mapping(transform) to both the training and testing set \n",
    "X_train=pca.transform(X_train)\n",
    "X_test=pca.transform(X_test)"
   ]
  },
  {
   "cell_type": "code",
   "execution_count": 64,
   "metadata": {},
   "outputs": [
    {
     "data": {
      "text/plain": [
       "1921     117.8466\n",
       "655     1230.3984\n",
       "2229    4933.5780\n",
       "2537    1789.6704\n",
       "3528    3872.9586\n",
       "Name: Item_Outlet_Sales, dtype: float64"
      ]
     },
     "execution_count": 64,
     "metadata": {},
     "output_type": "execute_result"
    }
   ],
   "source": [
    "y_train.head()"
   ]
  },
  {
   "cell_type": "code",
   "execution_count": 65,
   "metadata": {},
   "outputs": [
    {
     "data": {
      "text/plain": [
       "7503    1743.0644\n",
       "2957     356.8688\n",
       "7031     377.5086\n",
       "1084    5778.4782\n",
       "856     2356.9320\n",
       "Name: Item_Outlet_Sales, dtype: float64"
      ]
     },
     "execution_count": 65,
     "metadata": {},
     "output_type": "execute_result"
    }
   ],
   "source": [
    "y_test.head()"
   ]
  },
  {
   "cell_type": "code",
   "execution_count": 66,
   "metadata": {},
   "outputs": [
    {
     "name": "stdout",
     "output_type": "stream",
     "text": [
      "Best alpha using built-in LassoCV: 60.310409\n",
      "Best score using built-in LassoCV: 0.503395\n"
     ]
    }
   ],
   "source": [
    "#implimenting Lasso regularisation \n",
    "reg=LassoCV()\n",
    "reg.fit(X,y)\n",
    "print(\"Best alpha using built-in LassoCV: %f\" %reg.alpha_)\n",
    "print(\"Best score using built-in LassoCV: %f\" %reg.score(X,y))\n",
    "coef=pd.Series(reg.coef_, index=X.columns)"
   ]
  },
  {
   "cell_type": "code",
   "execution_count": 67,
   "metadata": {},
   "outputs": [
    {
     "name": "stdout",
     "output_type": "stream",
     "text": [
      "Lasso picked 4 variables and eliminated the other 1589 variables\n"
     ]
    }
   ],
   "source": [
    "print(\"Lasso picked \" + str(sum(coef !=0)) + \" variables and eliminated the other \" + str(sum(coef==0)) + \" variables\")"
   ]
  },
  {
   "cell_type": "code",
   "execution_count": 68,
   "metadata": {},
   "outputs": [
    {
     "data": {
      "text/plain": [
       "Item_MRP                   15.564313\n",
       "Outlet_Location_Type      -62.517056\n",
       "Outlet_Type               836.740949\n",
       "Outlet_Identity_OUT018   -286.683798\n",
       "dtype: float64"
      ]
     },
     "execution_count": 68,
     "metadata": {},
     "output_type": "execute_result"
    }
   ],
   "source": [
    "pd.options.display.max_rows =2000\n",
    "coef[coef!=0]"
   ]
  },
  {
   "cell_type": "code",
   "execution_count": 69,
   "metadata": {},
   "outputs": [],
   "source": [
    "#Implementing Ridge regularisation\n",
    "#reg_ridge=RidgeCV()\n",
    "#reg_ridge.fit(X,y)\n",
    "#print(\"Best alpha using built-in RidgeCV: %f\" %reg_ridge.)\n",
    "#print(\"Best score using built-in RidgeCV: %f\" %reg_ridge.score(X,y))\n",
    "#coef=pd.Series(reg_ridge.coef_, index=X.columns)"
   ]
  },
  {
   "cell_type": "code",
   "execution_count": 70,
   "metadata": {},
   "outputs": [
    {
     "data": {
      "text/plain": [
       "LinearRegression(copy_X=True, fit_intercept=True, n_jobs=None, normalize=False)"
      ]
     },
     "execution_count": 70,
     "metadata": {},
     "output_type": "execute_result"
    }
   ],
   "source": [
    "reg=LinearRegression()\n",
    "reg.fit(X,y)"
   ]
  },
  {
   "cell_type": "code",
   "execution_count": 71,
   "metadata": {},
   "outputs": [],
   "source": [
    "y_pred=reg.predict(X)"
   ]
  },
  {
   "cell_type": "code",
   "execution_count": 72,
   "metadata": {},
   "outputs": [
    {
     "data": {
      "text/plain": [
       "array([1, 2, 0])"
      ]
     },
     "execution_count": 72,
     "metadata": {},
     "output_type": "execute_result"
    }
   ],
   "source": [
    "df_train['Outlet_Establishment_Year'].unique()"
   ]
  },
  {
   "cell_type": "code",
   "execution_count": 73,
   "metadata": {},
   "outputs": [
    {
     "data": {
      "text/plain": [
       "LinearRegression(copy_X=True, fit_intercept=True, n_jobs=None, normalize=False)"
      ]
     },
     "execution_count": 73,
     "metadata": {},
     "output_type": "execute_result"
    }
   ],
   "source": [
    "reg.fit(X_train, y_train)"
   ]
  },
  {
   "cell_type": "code",
   "execution_count": 74,
   "metadata": {},
   "outputs": [],
   "source": [
    "#Predicting the target variable on the basis of training data\n",
    "y_pred_train=reg.predict(X_train)"
   ]
  },
  {
   "cell_type": "code",
   "execution_count": 75,
   "metadata": {},
   "outputs": [],
   "source": [
    "#evaluating the model on the basis training data (Training error)\n",
    "from sklearn.metrics import mean_absolute_error, mean_squared_error, r2_score\n",
    "mae_train=mean_absolute_error(y_train,y_pred_train)\n",
    "mse_train=mean_squared_error(y_train,y_pred_train, squared=False)\n",
    "r2_train=r2_score(y_train, y_pred_train)"
   ]
  },
  {
   "cell_type": "code",
   "execution_count": 76,
   "metadata": {},
   "outputs": [
    {
     "name": "stdout",
     "output_type": "stream",
     "text": [
      "794.7708796424048\n",
      "1064.58896644587\n",
      "0.6167794692215292\n"
     ]
    }
   ],
   "source": [
    "#Training errors\n",
    "print(mae_train)\n",
    "print(mse_train)\n",
    "print(r2_train)"
   ]
  },
  {
   "cell_type": "code",
   "execution_count": 77,
   "metadata": {},
   "outputs": [
    {
     "name": "stdout",
     "output_type": "stream",
     "text": [
      "[-1.27529520e+26 -4.86493637e+26 -2.66692126e+24 -4.20471757e+26\n",
      " -7.43805782e+25]\n",
      "Mean cross validation test score: -2.223084827454122e+26\n",
      "Mean cross validation train score: 0.29065123571812507\n",
      "Standard deviation in cv scores: 1.9399516033056536e+26\n"
     ]
    }
   ],
   "source": [
    "#cross valiadtion of the model\n",
    "from sklearn.model_selection import cross_val_score\n",
    "cv_scores_test= cross_val_score(reg,X_test,y_test,cv=5)\n",
    "cv_scores_train= cross_val_score(reg,X_train,y_train,cv=5)\n",
    "print(cv_scores_test)\n",
    "cv_scores_reg_test= cv_scores_test.mean()\n",
    "cv_scores_reg_train= cv_scores_train.mean()\n",
    "cv_scores_std_reg= cv_scores_test.std()\n",
    "print ('Mean cross validation test score: ' +str(cv_scores_reg_test))\n",
    "print ('Mean cross validation train score: ' +str(cv_scores_reg_train))\n",
    "print ('Standard deviation in cv scores: ' +str(cv_scores_std_reg))"
   ]
  },
  {
   "cell_type": "code",
   "execution_count": 78,
   "metadata": {},
   "outputs": [],
   "source": [
    "#binning the \"Outlet_Establishment_Year\" for training dataset\n",
    "#year_bin_train=pd.cut(X_train['Outlet_Establishment_Year'],[1984, 1987, 1990, 1993, 1996, 1999, 2002, 2005,2008,2011])\n",
    "#year_bin_train"
   ]
  },
  {
   "cell_type": "code",
   "execution_count": 79,
   "metadata": {},
   "outputs": [],
   "source": [
    "# predicting the target variable\n",
    "y_pred1=reg.predict(X_test)"
   ]
  },
  {
   "cell_type": "code",
   "execution_count": 80,
   "metadata": {},
   "outputs": [],
   "source": [
    "#Testing error\n",
    "mae_test=mean_absolute_error(y_test,y_pred1)\n",
    "mse_test=mean_squared_error(y_test, y_pred1, squared=False)\n",
    "r2_test=r2_score(y_test,y_pred1)"
   ]
  },
  {
   "cell_type": "code",
   "execution_count": 81,
   "metadata": {},
   "outputs": [
    {
     "name": "stdout",
     "output_type": "stream",
     "text": [
      "987.3934807666748\n",
      "1333.2863931041006\n",
      "0.36534926315552374\n"
     ]
    }
   ],
   "source": [
    "print(mae_test)\n",
    "print(mse_test)\n",
    "print(r2_test)"
   ]
  },
  {
   "cell_type": "code",
   "execution_count": 82,
   "metadata": {},
   "outputs": [
    {
     "data": {
      "text/plain": [
       "<AxesSubplot:xlabel='Item_Outlet_Sales'>"
      ]
     },
     "execution_count": 82,
     "metadata": {},
     "output_type": "execute_result"
    },
    {
     "data": {
      "image/png": "[encoded data removed]",
      "text/plain": [
       "<Figure size 432x288 with 1 Axes>"
      ]
     },
     "metadata": {
      "needs_background": "light"
     },
     "output_type": "display_data"
    }
   ],
   "source": [
    "#Import Plotly lib \n",
    "sns.scatterplot(y_train, y_pred_train, x_bins= 12)"
   ]
  },
  {
   "cell_type": "code",
   "execution_count": 83,
   "metadata": {},
   "outputs": [],
   "source": [
    "# note: residual analysis in Regression ()\n",
    "#Bucketising the actual values and try out a scatter plot\n",
    "# lasso and Ridge reularisation for train and test data"
   ]
  },
  {
   "cell_type": "code",
   "execution_count": 84,
   "metadata": {},
   "outputs": [
    {
     "data": {
      "text/plain": [
       "<AxesSubplot:xlabel='Item_Outlet_Sales', ylabel='Item_Outlet_Sales'>"
      ]
     },
     "execution_count": 84,
     "metadata": {},
     "output_type": "execute_result"
    },
    {
     "data": {
      "image/png": "[encoded data removed]",
      "text/plain": [
       "<Figure size 432x288 with 1 Axes>"
      ]
     },
     "metadata": {
      "needs_background": "light"
     },
     "output_type": "display_data"
    }
   ],
   "source": [
    "sns.scatterplot(y_train, np.abs(y_train - y_pred_train))"
   ]
  },
  {
   "cell_type": "code",
   "execution_count": 85,
   "metadata": {},
   "outputs": [
    {
     "data": {
      "text/plain": [
       "<AxesSubplot:xlabel='Item_Outlet_Sales'>"
      ]
     },
     "execution_count": 85,
     "metadata": {},
     "output_type": "execute_result"
    },
    {
     "data": {
      "image/png": "[encoded data removed]",
      "text/plain": [
       "<Figure size 432x288 with 1 Axes>"
      ]
     },
     "metadata": {
      "needs_background": "light"
     },
     "output_type": "display_data"
    }
   ],
   "source": [
    "sns.scatterplot(y_test, y_pred1)"
   ]
  },
  {
   "cell_type": "code",
   "execution_count": 86,
   "metadata": {},
   "outputs": [
    {
     "data": {
      "text/plain": [
       "<AxesSubplot:xlabel='Item_Outlet_Sales', ylabel='Item_Outlet_Sales'>"
      ]
     },
     "execution_count": 86,
     "metadata": {},
     "output_type": "execute_result"
    },
    {
     "data": {
      "image/png": "[encoded data removed]",
      "text/plain": [
       "<Figure size 432x288 with 1 Axes>"
      ]
     },
     "metadata": {
      "needs_background": "light"
     },
     "output_type": "display_data"
    }
   ],
   "source": [
    "sns.scatterplot(y_test, np.abs(y_test, y_pred1))"
   ]
  },
  {
   "cell_type": "code",
   "execution_count": 87,
   "metadata": {},
   "outputs": [],
   "source": [
    "from sklearn.metrics import mean_absolute_error, mean_squared_error, r2_score\n",
    "import math\n",
    "mae=mean_absolute_error(y, y_pred)\n",
    "mse=mean_squared_error(y, y_pred)\n",
    "rmse=mean_squared_error(y, y_pred, squared = False)\n",
    "r2=r2_score(y,y_pred)"
   ]
  },
  {
   "cell_type": "code",
   "execution_count": 88,
   "metadata": {},
   "outputs": [
    {
     "name": "stdout",
     "output_type": "stream",
     "text": [
      "760.8679169453244\n",
      "1038572.0770403269\n",
      "1019.1035654143925\n",
      "0.6433229131078109\n"
     ]
    }
   ],
   "source": [
    "print(mae)\n",
    "print(mse)\n",
    "print(rmse)\n",
    "print(r2)\n"
   ]
  },
  {
   "cell_type": "code",
   "execution_count": 89,
   "metadata": {},
   "outputs": [
    {
     "data": {
      "text/plain": [
       "[<matplotlib.lines.Line2D at 0x2b1bab30bc8>]"
      ]
     },
     "execution_count": 89,
     "metadata": {},
     "output_type": "execute_result"
    },
    {
     "data": {
      "image/png": "[encoded data removed]",
      "text/plain": [
       "<Figure size 432x288 with 1 Axes>"
      ]
     },
     "metadata": {
      "needs_background": "light"
     },
     "output_type": "display_data"
    }
   ],
   "source": [
    "#plotting the graph showing \n",
    "plt.plot(y, y_pred)"
   ]
  },
  {
   "cell_type": "code",
   "execution_count": 90,
   "metadata": {},
   "outputs": [
    {
     "data": {
      "text/plain": [
       "[<matplotlib.lines.Line2D at 0x2b1bf60f348>]"
      ]
     },
     "execution_count": 90,
     "metadata": {},
     "output_type": "execute_result"
    },
    {
     "data": {
      "image/png": "[encoded data removed]",
      "text/plain": [
       "<Figure size 432x288 with 1 Axes>"
      ]
     },
     "metadata": {
      "needs_background": "light"
     },
     "output_type": "display_data"
    }
   ],
   "source": [
    "plt.plot(y, (y-y_pred))"
   ]
  },
  {
   "cell_type": "code",
   "execution_count": 91,
   "metadata": {},
   "outputs": [
    {
     "name": "stdout",
     "output_type": "stream",
     "text": [
      "0.5612583524111958\n"
     ]
    }
   ],
   "source": [
    "#adjusted R^2 calculation\n",
    "adj_r2 = (1 - (1 - r2) * ((df_train.shape[0] - 1) / \n",
    "          (df_train.shape[0] - df_train.shape[1] - 1)))\n",
    "print(adj_r2)"
   ]
  },
  {
   "cell_type": "code",
   "execution_count": 92,
   "metadata": {},
   "outputs": [],
   "source": [
    "#mean absolute percentage error, symmetric mean absolute percentage error\n",
    "def mean_absolute_percentage_error(y_true, y_pred):\n",
    "    y_true, y_pred = np.array(y_true), np.array(y_pred)\n",
    "    return np.mean(np.abs((y_true - y_pred)/y_true))"
   ]
  },
  {
   "cell_type": "code",
   "execution_count": 93,
   "metadata": {},
   "outputs": [
    {
     "data": {
      "text/plain": [
       "0.9595626760803184"
      ]
     },
     "execution_count": 93,
     "metadata": {},
     "output_type": "execute_result"
    }
   ],
   "source": [
    "mean_absolute_percentage_error(y, y_pred)"
   ]
  },
  {
   "cell_type": "code",
   "execution_count": 94,
   "metadata": {},
   "outputs": [],
   "source": [
    "#symmetric mean absolute percentage error function definition \n",
    "def symmetric_mean_absolute_percentage_error(y_true,y_pred):\n",
    "    y_true, y_pred = np.array(y_true), np.array(y_pred)\n",
    "    return np.mean(np.abs((y_true - y_pred)/((y_true + y_pred)/2)))"
   ]
  },
  {
   "cell_type": "code",
   "execution_count": 95,
   "metadata": {},
   "outputs": [
    {
     "data": {
      "text/plain": [
       "1.3111373271831381"
      ]
     },
     "execution_count": 95,
     "metadata": {},
     "output_type": "execute_result"
    }
   ],
   "source": [
    "symmetric_mean_absolute_percentage_error(y, y_pred)"
   ]
  },
  {
   "cell_type": "code",
   "execution_count": 96,
   "metadata": {},
   "outputs": [
    {
     "data": {
      "text/plain": [
       "DecisionTreeRegressor(ccp_alpha=0.0, criterion='mse', max_depth=None,\n",
       "                      max_features=None, max_leaf_nodes=None,\n",
       "                      min_impurity_decrease=0.0, min_impurity_split=None,\n",
       "                      min_samples_leaf=1, min_samples_split=2,\n",
       "                      min_weight_fraction_leaf=0.0, presort='deprecated',\n",
       "                      random_state=None, splitter='best')"
      ]
     },
     "execution_count": 96,
     "metadata": {},
     "output_type": "execute_result"
    }
   ],
   "source": [
    "#Execution of decisiontree regressor \n",
    "from sklearn.tree import DecisionTreeRegressor\n",
    "reg_dt=DecisionTreeRegressor()\n",
    "reg_dt.fit(X_train,y_train)"
   ]
  },
  {
   "cell_type": "code",
   "execution_count": 97,
   "metadata": {},
   "outputs": [],
   "source": [
    "y_pred_dt=reg_dt.predict(X_test)"
   ]
  },
  {
   "cell_type": "code",
   "execution_count": 98,
   "metadata": {},
   "outputs": [
    {
     "data": {
      "text/html": [
       "<div>\n",
       "<style scoped>\n",
       "    .dataframe tbody tr th:only-of-type {\n",
       "        vertical-align: middle;\n",
       "    }\n",
       "\n",
       "    .dataframe tbody tr th {\n",
       "        vertical-align: top;\n",
       "    }\n",
       "\n",
       "    .dataframe thead th {\n",
       "        text-align: right;\n",
       "    }\n",
       "</style>\n",
       "<table border=\"1\" class=\"dataframe\">\n",
       "  <thead>\n",
       "    <tr style=\"text-align: right;\">\n",
       "      <th></th>\n",
       "      <th>Actual</th>\n",
       "      <th>Predicted</th>\n",
       "    </tr>\n",
       "  </thead>\n",
       "  <tbody>\n",
       "    <tr>\n",
       "      <th>7503</th>\n",
       "      <td>1743.0644</td>\n",
       "      <td>850.8924</td>\n",
       "    </tr>\n",
       "    <tr>\n",
       "      <th>2957</th>\n",
       "      <td>356.8688</td>\n",
       "      <td>2111.2518</td>\n",
       "    </tr>\n",
       "    <tr>\n",
       "      <th>7031</th>\n",
       "      <td>377.5086</td>\n",
       "      <td>611.2044</td>\n",
       "    </tr>\n",
       "    <tr>\n",
       "      <th>1084</th>\n",
       "      <td>5778.4782</td>\n",
       "      <td>1926.1594</td>\n",
       "    </tr>\n",
       "    <tr>\n",
       "      <th>856</th>\n",
       "      <td>2356.9320</td>\n",
       "      <td>4958.8784</td>\n",
       "    </tr>\n",
       "    <tr>\n",
       "      <th>...</th>\n",
       "      <td>...</td>\n",
       "      <td>...</td>\n",
       "    </tr>\n",
       "    <tr>\n",
       "      <th>443</th>\n",
       "      <td>2133.2232</td>\n",
       "      <td>1303.6364</td>\n",
       "    </tr>\n",
       "    <tr>\n",
       "      <th>777</th>\n",
       "      <td>4287.7520</td>\n",
       "      <td>2460.7968</td>\n",
       "    </tr>\n",
       "    <tr>\n",
       "      <th>1119</th>\n",
       "      <td>767.0016</td>\n",
       "      <td>282.2992</td>\n",
       "    </tr>\n",
       "    <tr>\n",
       "      <th>3209</th>\n",
       "      <td>642.4970</td>\n",
       "      <td>2708.4744</td>\n",
       "    </tr>\n",
       "    <tr>\n",
       "      <th>3742</th>\n",
       "      <td>2570.6538</td>\n",
       "      <td>3755.1120</td>\n",
       "    </tr>\n",
       "  </tbody>\n",
       "</table>\n",
       "<p>2557 rows × 2 columns</p>\n",
       "</div>"
      ],
      "text/plain": [
       "         Actual  Predicted\n",
       "7503  1743.0644   850.8924\n",
       "2957   356.8688  2111.2518\n",
       "7031   377.5086   611.2044\n",
       "1084  5778.4782  1926.1594\n",
       "856   2356.9320  4958.8784\n",
       "...         ...        ...\n",
       "443   2133.2232  1303.6364\n",
       "777   4287.7520  2460.7968\n",
       "1119   767.0016   282.2992\n",
       "3209   642.4970  2708.4744\n",
       "3742  2570.6538  3755.1120\n",
       "\n",
       "[2557 rows x 2 columns]"
      ]
     },
     "execution_count": 98,
     "metadata": {},
     "output_type": "execute_result"
    }
   ],
   "source": [
    "df_dt=pd.DataFrame({\"Actual\": y_test, \"Predicted\": y_pred_dt})\n",
    "df_dt"
   ]
  },
  {
   "cell_type": "code",
   "execution_count": 99,
   "metadata": {},
   "outputs": [],
   "source": [
    "#import metrics module \n",
    "from sklearn import metrics"
   ]
  },
  {
   "cell_type": "code",
   "execution_count": 100,
   "metadata": {},
   "outputs": [
    {
     "name": "stdout",
     "output_type": "stream",
     "text": [
      "Mean Absolute Error: 1269.2025363316386\n",
      "Mean Squared Error: 3146440.1261742213\n",
      "Root Mean Squared Error: 1773.8207705893574\n"
     ]
    }
   ],
   "source": [
    "print('Mean Absolute Error:', metrics.mean_absolute_error(y_test, y_pred_dt))\n",
    "print('Mean Squared Error:', metrics.mean_squared_error(y_test, y_pred_dt))\n",
    "print('Root Mean Squared Error:', np.sqrt(metrics.mean_squared_error(y_test, y_pred_dt)))"
   ]
  },
  {
   "cell_type": "code",
   "execution_count": 101,
   "metadata": {},
   "outputs": [],
   "source": [
    "#excecuting random forest\n",
    "from sklearn.ensemble import RandomForestRegressor"
   ]
  },
  {
   "cell_type": "code",
   "execution_count": 104,
   "metadata": {},
   "outputs": [],
   "source": [
    "RandomForestRegressor?"
   ]
  },
  {
   "cell_type": "code",
   "execution_count": 105,
   "metadata": {},
   "outputs": [
    {
     "name": "stderr",
     "output_type": "stream",
     "text": [
      "[Parallel(n_jobs=1)]: Using backend SequentialBackend with 1 concurrent workers.\n"
     ]
    },
    {
     "name": "stdout",
     "output_type": "stream",
     "text": [
      "building tree 1 of 50\n"
     ]
    },
    {
     "name": "stderr",
     "output_type": "stream",
     "text": [
      "[Parallel(n_jobs=1)]: Done   1 out of   1 | elapsed:    4.9s remaining:    0.0s\n"
     ]
    },
    {
     "name": "stdout",
     "output_type": "stream",
     "text": [
      "building tree 2 of 50\n"
     ]
    },
    {
     "name": "stderr",
     "output_type": "stream",
     "text": [
      "[Parallel(n_jobs=1)]: Done   2 out of   2 | elapsed:    9.7s remaining:    0.0s\n"
     ]
    },
    {
     "name": "stdout",
     "output_type": "stream",
     "text": [
      "building tree 3 of 50\n",
      "building tree 4 of 50\n",
      "building tree 5 of 50\n",
      "building tree 6 of 50\n",
      "building tree 7 of 50\n",
      "building tree 8 of 50\n",
      "building tree 9 of 50\n",
      "building tree 10 of 50\n",
      "building tree 11 of 50\n",
      "building tree 12 of 50\n",
      "building tree 13 of 50\n",
      "building tree 14 of 50\n",
      "building tree 15 of 50\n",
      "building tree 16 of 50\n",
      "building tree 17 of 50\n",
      "building tree 18 of 50\n",
      "building tree 19 of 50\n",
      "building tree 20 of 50\n",
      "building tree 21 of 50\n",
      "building tree 22 of 50\n",
      "building tree 23 of 50\n",
      "building tree 24 of 50\n",
      "building tree 25 of 50\n",
      "building tree 26 of 50\n",
      "building tree 27 of 50\n",
      "building tree 28 of 50\n",
      "building tree 29 of 50\n",
      "building tree 30 of 50\n",
      "building tree 31 of 50\n",
      "building tree 32 of 50\n",
      "building tree 33 of 50\n",
      "building tree 34 of 50\n",
      "building tree 35 of 50\n",
      "building tree 36 of 50\n",
      "building tree 37 of 50\n",
      "building tree 38 of 50\n",
      "building tree 39 of 50\n",
      "building tree 40 of 50\n",
      "building tree 41 of 50\n",
      "building tree 42 of 50\n",
      "building tree 43 of 50\n",
      "building tree 44 of 50\n",
      "building tree 45 of 50\n",
      "building tree 46 of 50\n",
      "building tree 47 of 50\n",
      "building tree 48 of 50\n",
      "building tree 49 of 50\n",
      "building tree 50 of 50\n",
      "Wall time: 4min 41s\n"
     ]
    },
    {
     "name": "stderr",
     "output_type": "stream",
     "text": [
      "[Parallel(n_jobs=1)]: Done  50 out of  50 | elapsed:  4.7min finished\n"
     ]
    },
    {
     "data": {
      "text/plain": [
       "RandomForestRegressor(bootstrap=True, ccp_alpha=0.0, criterion='mse',\n",
       "                      max_depth=None, max_features='auto', max_leaf_nodes=None,\n",
       "                      max_samples=None, min_impurity_decrease=0.0,\n",
       "                      min_impurity_split=None, min_samples_leaf=1,\n",
       "                      min_samples_split=2, min_weight_fraction_leaf=0.0,\n",
       "                      n_estimators=50, n_jobs=None, oob_score=False,\n",
       "                      random_state=None, verbose=3, warm_start=False)"
      ]
     },
     "execution_count": 105,
     "metadata": {},
     "output_type": "execute_result"
    }
   ],
   "source": [
    "%%time\n",
    "reg_rf=RandomForestRegressor(n_estimators=50,verbose=3)\n",
    "reg_rf.fit(X_train,y_train)"
   ]
  },
  {
   "cell_type": "code",
   "execution_count": 106,
   "metadata": {},
   "outputs": [
    {
     "name": "stderr",
     "output_type": "stream",
     "text": [
      "[Parallel(n_jobs=1)]: Using backend SequentialBackend with 1 concurrent workers.\n",
      "[Parallel(n_jobs=1)]: Done   1 out of   1 | elapsed:    0.0s remaining:    0.0s\n",
      "[Parallel(n_jobs=1)]: Done   2 out of   2 | elapsed:    0.0s remaining:    0.0s\n",
      "[Parallel(n_jobs=1)]: Done  50 out of  50 | elapsed:    0.1s finished\n"
     ]
    }
   ],
   "source": [
    "#predicting on the basis of X_train values (trying to predict y_train for analysis)\n",
    "y_pred_rf_train=reg_rf.predict(X_train)"
   ]
  },
  {
   "cell_type": "code",
   "execution_count": 107,
   "metadata": {},
   "outputs": [
    {
     "name": "stderr",
     "output_type": "stream",
     "text": [
      "[Parallel(n_jobs=1)]: Using backend SequentialBackend with 1 concurrent workers.\n",
      "[Parallel(n_jobs=1)]: Done   1 out of   1 | elapsed:    0.0s remaining:    0.0s\n",
      "[Parallel(n_jobs=1)]: Done   2 out of   2 | elapsed:    0.0s remaining:    0.0s\n",
      "[Parallel(n_jobs=1)]: Done  50 out of  50 | elapsed:    0.0s finished\n"
     ]
    }
   ],
   "source": [
    "y_pred_rf=reg_rf.predict(X_test)"
   ]
  },
  {
   "cell_type": "code",
   "execution_count": 108,
   "metadata": {},
   "outputs": [
    {
     "data": {
      "text/html": [
       "<div>\n",
       "<style scoped>\n",
       "    .dataframe tbody tr th:only-of-type {\n",
       "        vertical-align: middle;\n",
       "    }\n",
       "\n",
       "    .dataframe tbody tr th {\n",
       "        vertical-align: top;\n",
       "    }\n",
       "\n",
       "    .dataframe thead th {\n",
       "        text-align: right;\n",
       "    }\n",
       "</style>\n",
       "<table border=\"1\" class=\"dataframe\">\n",
       "  <thead>\n",
       "    <tr style=\"text-align: right;\">\n",
       "      <th></th>\n",
       "      <th>Actual value</th>\n",
       "      <th>Predicted values</th>\n",
       "    </tr>\n",
       "  </thead>\n",
       "  <tbody>\n",
       "    <tr>\n",
       "      <th>7503</th>\n",
       "      <td>1743.0644</td>\n",
       "      <td>1295.873172</td>\n",
       "    </tr>\n",
       "    <tr>\n",
       "      <th>2957</th>\n",
       "      <td>356.8688</td>\n",
       "      <td>1207.255192</td>\n",
       "    </tr>\n",
       "    <tr>\n",
       "      <th>7031</th>\n",
       "      <td>377.5086</td>\n",
       "      <td>800.318232</td>\n",
       "    </tr>\n",
       "    <tr>\n",
       "      <th>1084</th>\n",
       "      <td>5778.4782</td>\n",
       "      <td>3237.119600</td>\n",
       "    </tr>\n",
       "    <tr>\n",
       "      <th>856</th>\n",
       "      <td>2356.9320</td>\n",
       "      <td>2139.095556</td>\n",
       "    </tr>\n",
       "    <tr>\n",
       "      <th>...</th>\n",
       "      <td>...</td>\n",
       "      <td>...</td>\n",
       "    </tr>\n",
       "    <tr>\n",
       "      <th>443</th>\n",
       "      <td>2133.2232</td>\n",
       "      <td>1720.653572</td>\n",
       "    </tr>\n",
       "    <tr>\n",
       "      <th>777</th>\n",
       "      <td>4287.7520</td>\n",
       "      <td>3421.945680</td>\n",
       "    </tr>\n",
       "    <tr>\n",
       "      <th>1119</th>\n",
       "      <td>767.0016</td>\n",
       "      <td>1612.714076</td>\n",
       "    </tr>\n",
       "    <tr>\n",
       "      <th>3209</th>\n",
       "      <td>642.4970</td>\n",
       "      <td>2115.792556</td>\n",
       "    </tr>\n",
       "    <tr>\n",
       "      <th>3742</th>\n",
       "      <td>2570.6538</td>\n",
       "      <td>3962.442120</td>\n",
       "    </tr>\n",
       "  </tbody>\n",
       "</table>\n",
       "<p>2557 rows × 2 columns</p>\n",
       "</div>"
      ],
      "text/plain": [
       "      Actual value  Predicted values\n",
       "7503     1743.0644       1295.873172\n",
       "2957      356.8688       1207.255192\n",
       "7031      377.5086        800.318232\n",
       "1084     5778.4782       3237.119600\n",
       "856      2356.9320       2139.095556\n",
       "...            ...               ...\n",
       "443      2133.2232       1720.653572\n",
       "777      4287.7520       3421.945680\n",
       "1119      767.0016       1612.714076\n",
       "3209      642.4970       2115.792556\n",
       "3742     2570.6538       3962.442120\n",
       "\n",
       "[2557 rows x 2 columns]"
      ]
     },
     "execution_count": 108,
     "metadata": {},
     "output_type": "execute_result"
    }
   ],
   "source": [
    "#comparing the predicted values with the actual values\n",
    "df_rf=pd.DataFrame({\"Actual value\": y_test, \"Predicted values\": y_pred_rf})\n",
    "df_rf"
   ]
  },
  {
   "cell_type": "code",
   "execution_count": 109,
   "metadata": {},
   "outputs": [
    {
     "data": {
      "text/plain": [
       "Actual value        2126.240242\n",
       "Predicted values    2205.370856\n",
       "dtype: float64"
      ]
     },
     "execution_count": 109,
     "metadata": {},
     "output_type": "execute_result"
    }
   ],
   "source": [
    "df_rf.mean()"
   ]
  },
  {
   "cell_type": "code",
   "execution_count": 110,
   "metadata": {},
   "outputs": [
    {
     "data": {
      "text/plain": [
       "<matplotlib.collections.PathCollection at 0x2b1c71c9e08>"
      ]
     },
     "execution_count": 110,
     "metadata": {},
     "output_type": "execute_result"
    },
    {
     "data": {
      "image/png": "[encoded data removed]",
      "text/plain": [
       "<Figure size 1440x720 with 2 Axes>"
      ]
     },
     "metadata": {
      "needs_background": "light"
     },
     "output_type": "display_data"
    }
   ],
   "source": [
    "#visualising the Random Forest regression result\n",
    "plt.figure(figsize=(20,10))\n",
    "plt.subplot(1,2,1)\n",
    "plt.scatter(y_test, y_pred_rf, color= \"red\")\n",
    "plt.subplot(1,2,2)\n",
    "plt.scatter(y_train, y_pred_rf_train, color= \"green\")"
   ]
  },
  {
   "cell_type": "code",
   "execution_count": 111,
   "metadata": {},
   "outputs": [],
   "source": [
    "#Evaluating the Random Forest model\n",
    "mae_rf=mean_absolute_error(y_test, y_pred_rf)\n",
    "rmse_rf=mean_squared_error(y_test, y_pred_rf, squared = False)\n",
    "r2_score_rf=r2_score(y_test, y_pred_rf)"
   ]
  },
  {
   "cell_type": "code",
   "execution_count": 112,
   "metadata": {},
   "outputs": [
    {
     "name": "stdout",
     "output_type": "stream",
     "text": [
      "Mean absolute error:  956.501616830661\n",
      "Root Mean Squared error:  1284.7269437206953\n",
      "R^2 score:  0.4107364748262271\n"
     ]
    }
   ],
   "source": [
    "print(\"Mean absolute error: \", mae_rf)\n",
    "print(\"Root Mean Squared error: \", rmse_rf)\n",
    "print(\"R^2 score: \", r2_score_rf)"
   ]
  },
  {
   "cell_type": "code",
   "execution_count": 113,
   "metadata": {},
   "outputs": [
    {
     "name": "stdout",
     "output_type": "stream",
     "text": [
      "0.27515823303537934\n"
     ]
    }
   ],
   "source": [
    "#adjusted R^2 calculation\n",
    "adj_r2_rf = (1 - (1 - r2_score_rf) * ((df_train.shape[0] - 1) / \n",
    "          (df_train.shape[0] - df_train.shape[1] - 1)))\n",
    "print(adj_r2_rf)"
   ]
  },
  {
   "cell_type": "code",
   "execution_count": 114,
   "metadata": {},
   "outputs": [
    {
     "name": "stderr",
     "output_type": "stream",
     "text": [
      "[Parallel(n_jobs=1)]: Using backend SequentialBackend with 1 concurrent workers.\n"
     ]
    },
    {
     "name": "stdout",
     "output_type": "stream",
     "text": [
      "building tree 1 of 50\n"
     ]
    },
    {
     "name": "stderr",
     "output_type": "stream",
     "text": [
      "[Parallel(n_jobs=1)]: Done   1 out of   1 | elapsed:    1.3s remaining:    0.0s\n"
     ]
    },
    {
     "name": "stdout",
     "output_type": "stream",
     "text": [
      "building tree 2 of 50\n"
     ]
    },
    {
     "name": "stderr",
     "output_type": "stream",
     "text": [
      "[Parallel(n_jobs=1)]: Done   2 out of   2 | elapsed:    2.6s remaining:    0.0s\n"
     ]
    },
    {
     "name": "stdout",
     "output_type": "stream",
     "text": [
      "building tree 3 of 50\n",
      "building tree 4 of 50\n",
      "building tree 5 of 50\n",
      "building tree 6 of 50\n",
      "building tree 7 of 50\n",
      "building tree 8 of 50\n",
      "building tree 9 of 50\n",
      "building tree 10 of 50\n",
      "building tree 11 of 50\n",
      "building tree 12 of 50\n",
      "building tree 13 of 50\n",
      "building tree 14 of 50\n",
      "building tree 15 of 50\n",
      "building tree 16 of 50\n",
      "building tree 17 of 50\n",
      "building tree 18 of 50\n",
      "building tree 19 of 50\n",
      "building tree 20 of 50\n",
      "building tree 21 of 50\n",
      "building tree 22 of 50\n",
      "building tree 23 of 50\n",
      "building tree 24 of 50\n",
      "building tree 25 of 50\n",
      "building tree 26 of 50\n",
      "building tree 27 of 50\n",
      "building tree 28 of 50\n",
      "building tree 29 of 50\n",
      "building tree 30 of 50\n",
      "building tree 31 of 50\n",
      "building tree 32 of 50\n",
      "building tree 33 of 50\n",
      "building tree 34 of 50\n",
      "building tree 35 of 50\n",
      "building tree 36 of 50\n",
      "building tree 37 of 50\n",
      "building tree 38 of 50\n",
      "building tree 39 of 50\n",
      "building tree 40 of 50\n",
      "building tree 41 of 50\n",
      "building tree 42 of 50\n",
      "building tree 43 of 50\n",
      "building tree 44 of 50\n",
      "building tree 45 of 50\n",
      "building tree 46 of 50\n",
      "building tree 47 of 50\n",
      "building tree 48 of 50\n",
      "building tree 49 of 50\n",
      "building tree 50 of 50\n"
     ]
    },
    {
     "name": "stderr",
     "output_type": "stream",
     "text": [
      "[Parallel(n_jobs=1)]: Done  50 out of  50 | elapsed:  1.2min finished\n",
      "[Parallel(n_jobs=1)]: Using backend SequentialBackend with 1 concurrent workers.\n",
      "[Parallel(n_jobs=1)]: Done   1 out of   1 | elapsed:    0.0s remaining:    0.0s\n",
      "[Parallel(n_jobs=1)]: Done   2 out of   2 | elapsed:    0.0s remaining:    0.0s\n",
      "[Parallel(n_jobs=1)]: Done  50 out of  50 | elapsed:    0.0s finished\n",
      "[Parallel(n_jobs=1)]: Using backend SequentialBackend with 1 concurrent workers.\n"
     ]
    },
    {
     "name": "stdout",
     "output_type": "stream",
     "text": [
      "building tree 1 of 50\n"
     ]
    },
    {
     "name": "stderr",
     "output_type": "stream",
     "text": [
      "[Parallel(n_jobs=1)]: Done   1 out of   1 | elapsed:    1.3s remaining:    0.0s\n"
     ]
    },
    {
     "name": "stdout",
     "output_type": "stream",
     "text": [
      "building tree 2 of 50\n"
     ]
    },
    {
     "name": "stderr",
     "output_type": "stream",
     "text": [
      "[Parallel(n_jobs=1)]: Done   2 out of   2 | elapsed:    2.7s remaining:    0.0s\n"
     ]
    },
    {
     "name": "stdout",
     "output_type": "stream",
     "text": [
      "building tree 3 of 50\n",
      "building tree 4 of 50\n",
      "building tree 5 of 50\n",
      "building tree 6 of 50\n",
      "building tree 7 of 50\n",
      "building tree 8 of 50\n",
      "building tree 9 of 50\n",
      "building tree 10 of 50\n",
      "building tree 11 of 50\n",
      "building tree 12 of 50\n",
      "building tree 13 of 50\n",
      "building tree 14 of 50\n",
      "building tree 15 of 50\n",
      "building tree 16 of 50\n",
      "building tree 17 of 50\n",
      "building tree 18 of 50\n",
      "building tree 19 of 50\n",
      "building tree 20 of 50\n",
      "building tree 21 of 50\n",
      "building tree 22 of 50\n",
      "building tree 23 of 50\n",
      "building tree 24 of 50\n",
      "building tree 25 of 50\n",
      "building tree 26 of 50\n",
      "building tree 27 of 50\n",
      "building tree 28 of 50\n",
      "building tree 29 of 50\n",
      "building tree 30 of 50\n",
      "building tree 31 of 50\n",
      "building tree 32 of 50\n",
      "building tree 33 of 50\n",
      "building tree 34 of 50\n",
      "building tree 35 of 50\n",
      "building tree 36 of 50\n",
      "building tree 37 of 50\n",
      "building tree 38 of 50\n",
      "building tree 39 of 50\n",
      "building tree 40 of 50\n",
      "building tree 41 of 50\n",
      "building tree 42 of 50\n",
      "building tree 43 of 50\n",
      "building tree 44 of 50\n",
      "building tree 45 of 50\n",
      "building tree 46 of 50\n",
      "building tree 47 of 50\n",
      "building tree 48 of 50\n",
      "building tree 49 of 50\n",
      "building tree 50 of 50\n"
     ]
    },
    {
     "name": "stderr",
     "output_type": "stream",
     "text": [
      "[Parallel(n_jobs=1)]: Done  50 out of  50 | elapsed:  1.2min finished\n",
      "[Parallel(n_jobs=1)]: Using backend SequentialBackend with 1 concurrent workers.\n",
      "[Parallel(n_jobs=1)]: Done   1 out of   1 | elapsed:    0.0s remaining:    0.0s\n",
      "[Parallel(n_jobs=1)]: Done   2 out of   2 | elapsed:    0.0s remaining:    0.0s\n",
      "[Parallel(n_jobs=1)]: Done  50 out of  50 | elapsed:    0.0s finished\n",
      "[Parallel(n_jobs=1)]: Using backend SequentialBackend with 1 concurrent workers.\n"
     ]
    },
    {
     "name": "stdout",
     "output_type": "stream",
     "text": [
      "building tree 1 of 50\n"
     ]
    },
    {
     "name": "stderr",
     "output_type": "stream",
     "text": [
      "[Parallel(n_jobs=1)]: Done   1 out of   1 | elapsed:    1.8s remaining:    0.0s\n"
     ]
    },
    {
     "name": "stdout",
     "output_type": "stream",
     "text": [
      "building tree 2 of 50\n"
     ]
    },
    {
     "name": "stderr",
     "output_type": "stream",
     "text": [
      "[Parallel(n_jobs=1)]: Done   2 out of   2 | elapsed:    3.5s remaining:    0.0s\n"
     ]
    },
    {
     "name": "stdout",
     "output_type": "stream",
     "text": [
      "building tree 3 of 50\n",
      "building tree 4 of 50\n",
      "building tree 5 of 50\n",
      "building tree 6 of 50\n",
      "building tree 7 of 50\n",
      "building tree 8 of 50\n",
      "building tree 9 of 50\n",
      "building tree 10 of 50\n",
      "building tree 11 of 50\n",
      "building tree 12 of 50\n",
      "building tree 13 of 50\n",
      "building tree 14 of 50\n",
      "building tree 15 of 50\n",
      "building tree 16 of 50\n",
      "building tree 17 of 50\n",
      "building tree 18 of 50\n",
      "building tree 19 of 50\n",
      "building tree 20 of 50\n",
      "building tree 21 of 50\n",
      "building tree 22 of 50\n",
      "building tree 23 of 50\n",
      "building tree 24 of 50\n",
      "building tree 25 of 50\n",
      "building tree 26 of 50\n",
      "building tree 27 of 50\n",
      "building tree 28 of 50\n",
      "building tree 29 of 50\n",
      "building tree 30 of 50\n",
      "building tree 31 of 50\n",
      "building tree 32 of 50\n",
      "building tree 33 of 50\n",
      "building tree 34 of 50\n",
      "building tree 35 of 50\n",
      "building tree 36 of 50\n",
      "building tree 37 of 50\n",
      "building tree 38 of 50\n",
      "building tree 39 of 50\n",
      "building tree 40 of 50\n",
      "building tree 41 of 50\n",
      "building tree 42 of 50\n",
      "building tree 43 of 50\n",
      "building tree 44 of 50\n",
      "building tree 45 of 50\n",
      "building tree 46 of 50\n",
      "building tree 47 of 50\n",
      "building tree 48 of 50\n",
      "building tree 49 of 50\n",
      "building tree 50 of 50\n"
     ]
    },
    {
     "name": "stderr",
     "output_type": "stream",
     "text": [
      "[Parallel(n_jobs=1)]: Done  50 out of  50 | elapsed:  1.3min finished\n",
      "[Parallel(n_jobs=1)]: Using backend SequentialBackend with 1 concurrent workers.\n",
      "[Parallel(n_jobs=1)]: Done   1 out of   1 | elapsed:    0.0s remaining:    0.0s\n",
      "[Parallel(n_jobs=1)]: Done   2 out of   2 | elapsed:    0.0s remaining:    0.0s\n",
      "[Parallel(n_jobs=1)]: Done  50 out of  50 | elapsed:    0.0s finished\n",
      "[Parallel(n_jobs=1)]: Using backend SequentialBackend with 1 concurrent workers.\n"
     ]
    },
    {
     "name": "stdout",
     "output_type": "stream",
     "text": [
      "building tree 1 of 50\n"
     ]
    },
    {
     "name": "stderr",
     "output_type": "stream",
     "text": [
      "[Parallel(n_jobs=1)]: Done   1 out of   1 | elapsed:    2.0s remaining:    0.0s\n"
     ]
    },
    {
     "name": "stdout",
     "output_type": "stream",
     "text": [
      "building tree 2 of 50\n"
     ]
    },
    {
     "name": "stderr",
     "output_type": "stream",
     "text": [
      "[Parallel(n_jobs=1)]: Done   2 out of   2 | elapsed:    3.5s remaining:    0.0s\n"
     ]
    },
    {
     "name": "stdout",
     "output_type": "stream",
     "text": [
      "building tree 3 of 50\n",
      "building tree 4 of 50\n",
      "building tree 5 of 50\n",
      "building tree 6 of 50\n",
      "building tree 7 of 50\n",
      "building tree 8 of 50\n",
      "building tree 9 of 50\n",
      "building tree 10 of 50\n",
      "building tree 11 of 50\n",
      "building tree 12 of 50\n",
      "building tree 13 of 50\n",
      "building tree 14 of 50\n",
      "building tree 15 of 50\n",
      "building tree 16 of 50\n",
      "building tree 17 of 50\n",
      "building tree 18 of 50\n",
      "building tree 19 of 50\n",
      "building tree 20 of 50\n",
      "building tree 21 of 50\n",
      "building tree 22 of 50\n",
      "building tree 23 of 50\n",
      "building tree 24 of 50\n",
      "building tree 25 of 50\n",
      "building tree 26 of 50\n",
      "building tree 27 of 50\n",
      "building tree 28 of 50\n",
      "building tree 29 of 50\n",
      "building tree 30 of 50\n",
      "building tree 31 of 50\n",
      "building tree 32 of 50\n",
      "building tree 33 of 50\n",
      "building tree 34 of 50\n",
      "building tree 35 of 50\n",
      "building tree 36 of 50\n",
      "building tree 37 of 50\n",
      "building tree 38 of 50\n",
      "building tree 39 of 50\n",
      "building tree 40 of 50\n",
      "building tree 41 of 50\n",
      "building tree 42 of 50\n",
      "building tree 43 of 50\n",
      "building tree 44 of 50\n",
      "building tree 45 of 50\n",
      "building tree 46 of 50\n",
      "building tree 47 of 50\n",
      "building tree 48 of 50\n",
      "building tree 49 of 50\n",
      "building tree 50 of 50\n"
     ]
    },
    {
     "name": "stderr",
     "output_type": "stream",
     "text": [
      "[Parallel(n_jobs=1)]: Done  50 out of  50 | elapsed:  1.2min finished\n",
      "[Parallel(n_jobs=1)]: Using backend SequentialBackend with 1 concurrent workers.\n",
      "[Parallel(n_jobs=1)]: Done   1 out of   1 | elapsed:    0.0s remaining:    0.0s\n",
      "[Parallel(n_jobs=1)]: Done   2 out of   2 | elapsed:    0.0s remaining:    0.0s\n",
      "[Parallel(n_jobs=1)]: Done  50 out of  50 | elapsed:    0.0s finished\n",
      "[Parallel(n_jobs=1)]: Using backend SequentialBackend with 1 concurrent workers.\n"
     ]
    },
    {
     "name": "stdout",
     "output_type": "stream",
     "text": [
      "building tree 1 of 50\n"
     ]
    },
    {
     "name": "stderr",
     "output_type": "stream",
     "text": [
      "[Parallel(n_jobs=1)]: Done   1 out of   1 | elapsed:    1.1s remaining:    0.0s\n"
     ]
    },
    {
     "name": "stdout",
     "output_type": "stream",
     "text": [
      "building tree 2 of 50\n"
     ]
    },
    {
     "name": "stderr",
     "output_type": "stream",
     "text": [
      "[Parallel(n_jobs=1)]: Done   2 out of   2 | elapsed:    2.2s remaining:    0.0s\n"
     ]
    },
    {
     "name": "stdout",
     "output_type": "stream",
     "text": [
      "building tree 3 of 50\n",
      "building tree 4 of 50\n",
      "building tree 5 of 50\n",
      "building tree 6 of 50\n",
      "building tree 7 of 50\n",
      "building tree 8 of 50\n",
      "building tree 9 of 50\n",
      "building tree 10 of 50\n",
      "building tree 11 of 50\n",
      "building tree 12 of 50\n",
      "building tree 13 of 50\n",
      "building tree 14 of 50\n",
      "building tree 15 of 50\n",
      "building tree 16 of 50\n",
      "building tree 17 of 50\n",
      "building tree 18 of 50\n",
      "building tree 19 of 50\n",
      "building tree 20 of 50\n",
      "building tree 21 of 50\n",
      "building tree 22 of 50\n",
      "building tree 23 of 50\n",
      "building tree 24 of 50\n",
      "building tree 25 of 50\n",
      "building tree 26 of 50\n",
      "building tree 27 of 50\n",
      "building tree 28 of 50\n",
      "building tree 29 of 50\n",
      "building tree 30 of 50\n",
      "building tree 31 of 50\n",
      "building tree 32 of 50\n",
      "building tree 33 of 50\n",
      "building tree 34 of 50\n",
      "building tree 35 of 50\n",
      "building tree 36 of 50\n",
      "building tree 37 of 50\n",
      "building tree 38 of 50\n",
      "building tree 39 of 50\n",
      "building tree 40 of 50\n",
      "building tree 41 of 50\n",
      "building tree 42 of 50\n",
      "building tree 43 of 50\n",
      "building tree 44 of 50\n",
      "building tree 45 of 50\n",
      "building tree 46 of 50\n",
      "building tree 47 of 50\n",
      "building tree 48 of 50\n",
      "building tree 49 of 50\n",
      "building tree 50 of 50\n"
     ]
    },
    {
     "name": "stderr",
     "output_type": "stream",
     "text": [
      "[Parallel(n_jobs=1)]: Done  50 out of  50 | elapsed:  1.0min finished\n",
      "[Parallel(n_jobs=1)]: Using backend SequentialBackend with 1 concurrent workers.\n",
      "[Parallel(n_jobs=1)]: Done   1 out of   1 | elapsed:    0.0s remaining:    0.0s\n",
      "[Parallel(n_jobs=1)]: Done   2 out of   2 | elapsed:    0.0s remaining:    0.0s\n",
      "[Parallel(n_jobs=1)]: Done  50 out of  50 | elapsed:    0.0s finished\n",
      "[Parallel(n_jobs=1)]: Using backend SequentialBackend with 1 concurrent workers.\n"
     ]
    },
    {
     "name": "stdout",
     "output_type": "stream",
     "text": [
      "building tree 1 of 50\n"
     ]
    },
    {
     "name": "stderr",
     "output_type": "stream",
     "text": [
      "[Parallel(n_jobs=1)]: Done   1 out of   1 | elapsed:    3.3s remaining:    0.0s\n"
     ]
    },
    {
     "name": "stdout",
     "output_type": "stream",
     "text": [
      "building tree 2 of 50\n"
     ]
    },
    {
     "name": "stderr",
     "output_type": "stream",
     "text": [
      "[Parallel(n_jobs=1)]: Done   2 out of   2 | elapsed:    6.7s remaining:    0.0s\n"
     ]
    },
    {
     "name": "stdout",
     "output_type": "stream",
     "text": [
      "building tree 3 of 50\n",
      "building tree 4 of 50\n",
      "building tree 5 of 50\n",
      "building tree 6 of 50\n",
      "building tree 7 of 50\n",
      "building tree 8 of 50\n",
      "building tree 9 of 50\n",
      "building tree 10 of 50\n",
      "building tree 11 of 50\n",
      "building tree 12 of 50\n",
      "building tree 13 of 50\n",
      "building tree 14 of 50\n",
      "building tree 15 of 50\n",
      "building tree 16 of 50\n",
      "building tree 17 of 50\n",
      "building tree 18 of 50\n",
      "building tree 19 of 50\n",
      "building tree 20 of 50\n",
      "building tree 21 of 50\n",
      "building tree 22 of 50\n",
      "building tree 23 of 50\n",
      "building tree 24 of 50\n",
      "building tree 25 of 50\n",
      "building tree 26 of 50\n",
      "building tree 27 of 50\n",
      "building tree 28 of 50\n",
      "building tree 29 of 50\n",
      "building tree 30 of 50\n",
      "building tree 31 of 50\n",
      "building tree 32 of 50\n",
      "building tree 33 of 50\n",
      "building tree 34 of 50\n",
      "building tree 35 of 50\n",
      "building tree 36 of 50\n",
      "building tree 37 of 50\n",
      "building tree 38 of 50\n",
      "building tree 39 of 50\n",
      "building tree 40 of 50\n",
      "building tree 41 of 50\n",
      "building tree 42 of 50\n",
      "building tree 43 of 50\n",
      "building tree 44 of 50\n",
      "building tree 45 of 50\n",
      "building tree 46 of 50\n",
      "building tree 47 of 50\n",
      "building tree 48 of 50\n",
      "building tree 49 of 50\n",
      "building tree 50 of 50\n"
     ]
    },
    {
     "name": "stderr",
     "output_type": "stream",
     "text": [
      "[Parallel(n_jobs=1)]: Done  50 out of  50 | elapsed:  2.8min finished\n",
      "[Parallel(n_jobs=1)]: Using backend SequentialBackend with 1 concurrent workers.\n",
      "[Parallel(n_jobs=1)]: Done   1 out of   1 | elapsed:    0.0s remaining:    0.0s\n",
      "[Parallel(n_jobs=1)]: Done   2 out of   2 | elapsed:    0.0s remaining:    0.0s\n",
      "[Parallel(n_jobs=1)]: Done  50 out of  50 | elapsed:    0.0s finished\n",
      "[Parallel(n_jobs=1)]: Using backend SequentialBackend with 1 concurrent workers.\n"
     ]
    },
    {
     "name": "stdout",
     "output_type": "stream",
     "text": [
      "building tree 1 of 50\n"
     ]
    },
    {
     "name": "stderr",
     "output_type": "stream",
     "text": [
      "[Parallel(n_jobs=1)]: Done   1 out of   1 | elapsed:    3.3s remaining:    0.0s\n"
     ]
    },
    {
     "name": "stdout",
     "output_type": "stream",
     "text": [
      "building tree 2 of 50\n"
     ]
    },
    {
     "name": "stderr",
     "output_type": "stream",
     "text": [
      "[Parallel(n_jobs=1)]: Done   2 out of   2 | elapsed:    6.7s remaining:    0.0s\n"
     ]
    },
    {
     "name": "stdout",
     "output_type": "stream",
     "text": [
      "building tree 3 of 50\n",
      "building tree 4 of 50\n",
      "building tree 5 of 50\n",
      "building tree 6 of 50\n",
      "building tree 7 of 50\n",
      "building tree 8 of 50\n",
      "building tree 9 of 50\n",
      "building tree 10 of 50\n",
      "building tree 11 of 50\n",
      "building tree 12 of 50\n",
      "building tree 13 of 50\n",
      "building tree 14 of 50\n",
      "building tree 15 of 50\n",
      "building tree 16 of 50\n",
      "building tree 17 of 50\n",
      "building tree 18 of 50\n",
      "building tree 19 of 50\n",
      "building tree 20 of 50\n",
      "building tree 21 of 50\n",
      "building tree 22 of 50\n",
      "building tree 23 of 50\n",
      "building tree 24 of 50\n",
      "building tree 25 of 50\n",
      "building tree 26 of 50\n",
      "building tree 27 of 50\n",
      "building tree 28 of 50\n",
      "building tree 29 of 50\n",
      "building tree 30 of 50\n",
      "building tree 31 of 50\n",
      "building tree 32 of 50\n",
      "building tree 33 of 50\n",
      "building tree 34 of 50\n",
      "building tree 35 of 50\n",
      "building tree 36 of 50\n",
      "building tree 37 of 50\n",
      "building tree 38 of 50\n",
      "building tree 39 of 50\n",
      "building tree 40 of 50\n",
      "building tree 41 of 50\n",
      "building tree 42 of 50\n",
      "building tree 43 of 50\n",
      "building tree 44 of 50\n",
      "building tree 45 of 50\n",
      "building tree 46 of 50\n",
      "building tree 47 of 50\n",
      "building tree 48 of 50\n",
      "building tree 49 of 50\n",
      "building tree 50 of 50\n"
     ]
    },
    {
     "name": "stderr",
     "output_type": "stream",
     "text": [
      "[Parallel(n_jobs=1)]: Done  50 out of  50 | elapsed:  2.9min finished\n",
      "[Parallel(n_jobs=1)]: Using backend SequentialBackend with 1 concurrent workers.\n",
      "[Parallel(n_jobs=1)]: Done   1 out of   1 | elapsed:    0.0s remaining:    0.0s\n",
      "[Parallel(n_jobs=1)]: Done   2 out of   2 | elapsed:    0.0s remaining:    0.0s\n",
      "[Parallel(n_jobs=1)]: Done  50 out of  50 | elapsed:    0.0s finished\n",
      "[Parallel(n_jobs=1)]: Using backend SequentialBackend with 1 concurrent workers.\n"
     ]
    },
    {
     "name": "stdout",
     "output_type": "stream",
     "text": [
      "building tree 1 of 50\n"
     ]
    },
    {
     "name": "stderr",
     "output_type": "stream",
     "text": [
      "[Parallel(n_jobs=1)]: Done   1 out of   1 | elapsed:    3.5s remaining:    0.0s\n"
     ]
    },
    {
     "name": "stdout",
     "output_type": "stream",
     "text": [
      "building tree 2 of 50\n"
     ]
    },
    {
     "name": "stderr",
     "output_type": "stream",
     "text": [
      "[Parallel(n_jobs=1)]: Done   2 out of   2 | elapsed:    6.9s remaining:    0.0s\n"
     ]
    },
    {
     "name": "stdout",
     "output_type": "stream",
     "text": [
      "building tree 3 of 50\n",
      "building tree 4 of 50\n",
      "building tree 5 of 50\n",
      "building tree 6 of 50\n",
      "building tree 7 of 50\n",
      "building tree 8 of 50\n",
      "building tree 9 of 50\n",
      "building tree 10 of 50\n",
      "building tree 11 of 50\n",
      "building tree 12 of 50\n",
      "building tree 13 of 50\n",
      "building tree 14 of 50\n",
      "building tree 15 of 50\n",
      "building tree 16 of 50\n",
      "building tree 17 of 50\n",
      "building tree 18 of 50\n",
      "building tree 19 of 50\n",
      "building tree 20 of 50\n",
      "building tree 21 of 50\n",
      "building tree 22 of 50\n",
      "building tree 23 of 50\n",
      "building tree 24 of 50\n",
      "building tree 25 of 50\n",
      "building tree 26 of 50\n",
      "building tree 27 of 50\n",
      "building tree 28 of 50\n",
      "building tree 29 of 50\n",
      "building tree 30 of 50\n",
      "building tree 31 of 50\n",
      "building tree 32 of 50\n",
      "building tree 33 of 50\n",
      "building tree 34 of 50\n",
      "building tree 35 of 50\n",
      "building tree 36 of 50\n",
      "building tree 37 of 50\n",
      "building tree 38 of 50\n",
      "building tree 39 of 50\n",
      "building tree 40 of 50\n",
      "building tree 41 of 50\n",
      "building tree 42 of 50\n",
      "building tree 43 of 50\n",
      "building tree 44 of 50\n",
      "building tree 45 of 50\n",
      "building tree 46 of 50\n",
      "building tree 47 of 50\n",
      "building tree 48 of 50\n",
      "building tree 49 of 50\n",
      "building tree 50 of 50\n"
     ]
    },
    {
     "name": "stderr",
     "output_type": "stream",
     "text": [
      "[Parallel(n_jobs=1)]: Done  50 out of  50 | elapsed:  2.9min finished\n",
      "[Parallel(n_jobs=1)]: Using backend SequentialBackend with 1 concurrent workers.\n",
      "[Parallel(n_jobs=1)]: Done   1 out of   1 | elapsed:    0.0s remaining:    0.0s\n",
      "[Parallel(n_jobs=1)]: Done   2 out of   2 | elapsed:    0.0s remaining:    0.0s\n",
      "[Parallel(n_jobs=1)]: Done  50 out of  50 | elapsed:    0.0s finished\n",
      "[Parallel(n_jobs=1)]: Using backend SequentialBackend with 1 concurrent workers.\n"
     ]
    },
    {
     "name": "stdout",
     "output_type": "stream",
     "text": [
      "building tree 1 of 50\n"
     ]
    },
    {
     "name": "stderr",
     "output_type": "stream",
     "text": [
      "[Parallel(n_jobs=1)]: Done   1 out of   1 | elapsed:    3.2s remaining:    0.0s\n"
     ]
    },
    {
     "name": "stdout",
     "output_type": "stream",
     "text": [
      "building tree 2 of 50\n"
     ]
    },
    {
     "name": "stderr",
     "output_type": "stream",
     "text": [
      "[Parallel(n_jobs=1)]: Done   2 out of   2 | elapsed:    6.5s remaining:    0.0s\n"
     ]
    },
    {
     "name": "stdout",
     "output_type": "stream",
     "text": [
      "building tree 3 of 50\n",
      "building tree 4 of 50\n",
      "building tree 5 of 50\n",
      "building tree 6 of 50\n",
      "building tree 7 of 50\n",
      "building tree 8 of 50\n",
      "building tree 9 of 50\n",
      "building tree 10 of 50\n",
      "building tree 11 of 50\n",
      "building tree 12 of 50\n",
      "building tree 13 of 50\n",
      "building tree 14 of 50\n",
      "building tree 15 of 50\n",
      "building tree 16 of 50\n",
      "building tree 17 of 50\n",
      "building tree 18 of 50\n",
      "building tree 19 of 50\n",
      "building tree 20 of 50\n",
      "building tree 21 of 50\n",
      "building tree 22 of 50\n",
      "building tree 23 of 50\n",
      "building tree 24 of 50\n",
      "building tree 25 of 50\n",
      "building tree 26 of 50\n",
      "building tree 27 of 50\n",
      "building tree 28 of 50\n",
      "building tree 29 of 50\n",
      "building tree 30 of 50\n",
      "building tree 31 of 50\n",
      "building tree 32 of 50\n",
      "building tree 33 of 50\n",
      "building tree 34 of 50\n",
      "building tree 35 of 50\n",
      "building tree 36 of 50\n",
      "building tree 37 of 50\n",
      "building tree 38 of 50\n",
      "building tree 39 of 50\n",
      "building tree 40 of 50\n",
      "building tree 41 of 50\n",
      "building tree 42 of 50\n",
      "building tree 43 of 50\n",
      "building tree 44 of 50\n",
      "building tree 45 of 50\n",
      "building tree 46 of 50\n",
      "building tree 47 of 50\n",
      "building tree 48 of 50\n",
      "building tree 49 of 50\n",
      "building tree 50 of 50\n"
     ]
    },
    {
     "name": "stderr",
     "output_type": "stream",
     "text": [
      "[Parallel(n_jobs=1)]: Done  50 out of  50 | elapsed:  2.8min finished\n",
      "[Parallel(n_jobs=1)]: Using backend SequentialBackend with 1 concurrent workers.\n",
      "[Parallel(n_jobs=1)]: Done   1 out of   1 | elapsed:    0.0s remaining:    0.0s\n",
      "[Parallel(n_jobs=1)]: Done   2 out of   2 | elapsed:    0.0s remaining:    0.0s\n",
      "[Parallel(n_jobs=1)]: Done  50 out of  50 | elapsed:    0.0s finished\n",
      "[Parallel(n_jobs=1)]: Using backend SequentialBackend with 1 concurrent workers.\n"
     ]
    },
    {
     "name": "stdout",
     "output_type": "stream",
     "text": [
      "building tree 1 of 50\n"
     ]
    },
    {
     "name": "stderr",
     "output_type": "stream",
     "text": [
      "[Parallel(n_jobs=1)]: Done   1 out of   1 | elapsed:    3.2s remaining:    0.0s\n"
     ]
    },
    {
     "name": "stdout",
     "output_type": "stream",
     "text": [
      "building tree 2 of 50\n"
     ]
    },
    {
     "name": "stderr",
     "output_type": "stream",
     "text": [
      "[Parallel(n_jobs=1)]: Done   2 out of   2 | elapsed:    6.7s remaining:    0.0s\n"
     ]
    },
    {
     "name": "stdout",
     "output_type": "stream",
     "text": [
      "building tree 3 of 50\n",
      "building tree 4 of 50\n",
      "building tree 5 of 50\n",
      "building tree 6 of 50\n",
      "building tree 7 of 50\n",
      "building tree 8 of 50\n",
      "building tree 9 of 50\n",
      "building tree 10 of 50\n",
      "building tree 11 of 50\n",
      "building tree 12 of 50\n",
      "building tree 13 of 50\n",
      "building tree 14 of 50\n",
      "building tree 15 of 50\n",
      "building tree 16 of 50\n",
      "building tree 17 of 50\n",
      "building tree 18 of 50\n",
      "building tree 19 of 50\n",
      "building tree 20 of 50\n",
      "building tree 21 of 50\n",
      "building tree 22 of 50\n",
      "building tree 23 of 50\n",
      "building tree 24 of 50\n",
      "building tree 25 of 50\n",
      "building tree 26 of 50\n",
      "building tree 27 of 50\n",
      "building tree 28 of 50\n",
      "building tree 29 of 50\n",
      "building tree 30 of 50\n",
      "building tree 31 of 50\n",
      "building tree 32 of 50\n",
      "building tree 33 of 50\n",
      "building tree 34 of 50\n",
      "building tree 35 of 50\n",
      "building tree 36 of 50\n",
      "building tree 37 of 50\n",
      "building tree 38 of 50\n",
      "building tree 39 of 50\n",
      "building tree 40 of 50\n",
      "building tree 41 of 50\n",
      "building tree 42 of 50\n",
      "building tree 43 of 50\n",
      "building tree 44 of 50\n",
      "building tree 45 of 50\n",
      "building tree 46 of 50\n",
      "building tree 47 of 50\n",
      "building tree 48 of 50\n",
      "building tree 49 of 50\n",
      "building tree 50 of 50\n",
      "[0.37913167 0.41763469 0.35912754 0.4091713  0.35735816]\n",
      "Mean cross validation test score: 0.38448466987675883\n",
      "Mean cross validation train score: 0.46311512050180526\n",
      "Standard deviation in cv scores: 0.024963331395610366\n",
      "Wall time: 20min 13s\n"
     ]
    },
    {
     "name": "stderr",
     "output_type": "stream",
     "text": [
      "[Parallel(n_jobs=1)]: Done  50 out of  50 | elapsed:  2.8min finished\n",
      "[Parallel(n_jobs=1)]: Using backend SequentialBackend with 1 concurrent workers.\n",
      "[Parallel(n_jobs=1)]: Done   1 out of   1 | elapsed:    0.0s remaining:    0.0s\n",
      "[Parallel(n_jobs=1)]: Done   2 out of   2 | elapsed:    0.0s remaining:    0.0s\n",
      "[Parallel(n_jobs=1)]: Done  50 out of  50 | elapsed:    0.0s finished\n"
     ]
    }
   ],
   "source": [
    "%%time\n",
    "#cross valiadtion of the model\n",
    "cv_scores_test= cross_val_score(reg_rf,X_test,y_test,cv=5)\n",
    "cv_scores_train= cross_val_score(reg_rf,X_train,y_train,cv=5)\n",
    "print(cv_scores_test)\n",
    "cv_scores_rf_test= cv_scores_test.mean()\n",
    "cv_scores_rf_train= cv_scores_train.mean()\n",
    "cv_scores_std_rf= cv_scores_test.std()\n",
    "print ('Mean cross validation test score: ' +str(cv_scores_rf_test))\n",
    "print ('Mean cross validation train score: ' +str(cv_scores_rf_train))\n",
    "print ('Standard deviation in cv scores: ' +str(cv_scores_std_rf))"
   ]
  },
  {
   "cell_type": "code",
   "execution_count": 115,
   "metadata": {},
   "outputs": [],
   "source": [
    "#execution of KNN regressor\n",
    "from sklearn.neighbors import KNeighborsRegressor"
   ]
  },
  {
   "cell_type": "code",
   "execution_count": 117,
   "metadata": {},
   "outputs": [
    {
     "data": {
      "text/plain": [
       "KNeighborsRegressor(algorithm='auto', leaf_size=30, metric='minkowski',\n",
       "                    metric_params=None, n_jobs=None, n_neighbors=6, p=2,\n",
       "                    weights='distance')"
      ]
     },
     "execution_count": 117,
     "metadata": {},
     "output_type": "execute_result"
    }
   ],
   "source": [
    "#Fiting the model to the training data\n",
    "reg_knn=KNeighborsRegressor(n_neighbors=6, weights='distance')\n",
    "reg_knn.fit(X_train,y_train)"
   ]
  },
  {
   "cell_type": "code",
   "execution_count": 120,
   "metadata": {},
   "outputs": [
    {
     "name": "stdout",
     "output_type": "stream",
     "text": [
      "Wall time: 33 s\n"
     ]
    }
   ],
   "source": [
    "%%time\n",
    "y_pred_knn=reg_knn.predict(X_test)"
   ]
  },
  {
   "cell_type": "code",
   "execution_count": 121,
   "metadata": {},
   "outputs": [
    {
     "data": {
      "text/html": [
       "<div>\n",
       "<style scoped>\n",
       "    .dataframe tbody tr th:only-of-type {\n",
       "        vertical-align: middle;\n",
       "    }\n",
       "\n",
       "    .dataframe tbody tr th {\n",
       "        vertical-align: top;\n",
       "    }\n",
       "\n",
       "    .dataframe thead th {\n",
       "        text-align: right;\n",
       "    }\n",
       "</style>\n",
       "<table border=\"1\" class=\"dataframe\">\n",
       "  <thead>\n",
       "    <tr style=\"text-align: right;\">\n",
       "      <th></th>\n",
       "      <th>Actual value</th>\n",
       "      <th>Predicted values</th>\n",
       "    </tr>\n",
       "  </thead>\n",
       "  <tbody>\n",
       "    <tr>\n",
       "      <th>7503</th>\n",
       "      <td>1743.0644</td>\n",
       "      <td>1129.946021</td>\n",
       "    </tr>\n",
       "    <tr>\n",
       "      <th>2957</th>\n",
       "      <td>356.8688</td>\n",
       "      <td>1424.817183</td>\n",
       "    </tr>\n",
       "    <tr>\n",
       "      <th>7031</th>\n",
       "      <td>377.5086</td>\n",
       "      <td>355.880576</td>\n",
       "    </tr>\n",
       "    <tr>\n",
       "      <th>1084</th>\n",
       "      <td>5778.4782</td>\n",
       "      <td>2332.855099</td>\n",
       "    </tr>\n",
       "    <tr>\n",
       "      <th>856</th>\n",
       "      <td>2356.9320</td>\n",
       "      <td>1853.139728</td>\n",
       "    </tr>\n",
       "    <tr>\n",
       "      <th>...</th>\n",
       "      <td>...</td>\n",
       "      <td>...</td>\n",
       "    </tr>\n",
       "    <tr>\n",
       "      <th>443</th>\n",
       "      <td>2133.2232</td>\n",
       "      <td>2162.692012</td>\n",
       "    </tr>\n",
       "    <tr>\n",
       "      <th>777</th>\n",
       "      <td>4287.7520</td>\n",
       "      <td>3179.941566</td>\n",
       "    </tr>\n",
       "    <tr>\n",
       "      <th>1119</th>\n",
       "      <td>767.0016</td>\n",
       "      <td>2773.044304</td>\n",
       "    </tr>\n",
       "    <tr>\n",
       "      <th>3209</th>\n",
       "      <td>642.4970</td>\n",
       "      <td>1050.090000</td>\n",
       "    </tr>\n",
       "    <tr>\n",
       "      <th>3742</th>\n",
       "      <td>2570.6538</td>\n",
       "      <td>3885.083653</td>\n",
       "    </tr>\n",
       "  </tbody>\n",
       "</table>\n",
       "<p>2557 rows × 2 columns</p>\n",
       "</div>"
      ],
      "text/plain": [
       "      Actual value  Predicted values\n",
       "7503     1743.0644       1129.946021\n",
       "2957      356.8688       1424.817183\n",
       "7031      377.5086        355.880576\n",
       "1084     5778.4782       2332.855099\n",
       "856      2356.9320       1853.139728\n",
       "...            ...               ...\n",
       "443      2133.2232       2162.692012\n",
       "777      4287.7520       3179.941566\n",
       "1119      767.0016       2773.044304\n",
       "3209      642.4970       1050.090000\n",
       "3742     2570.6538       3885.083653\n",
       "\n",
       "[2557 rows x 2 columns]"
      ]
     },
     "execution_count": 121,
     "metadata": {},
     "output_type": "execute_result"
    }
   ],
   "source": [
    "df_knn=pd.DataFrame({\"Actual value\": y_test, \"Predicted values\": y_pred_knn})\n",
    "df_knn"
   ]
  },
  {
   "cell_type": "code",
   "execution_count": 122,
   "metadata": {},
   "outputs": [],
   "source": [
    "#evaluation of the KNN model\n",
    "mae_knn=mean_absolute_error(y_test, y_pred_knn)\n",
    "rmse_knn=mean_squared_error(y_test, y_pred_knn, squared = False)\n",
    "r2_score_knn=r2_score(y_test, y_pred_knn)"
   ]
  },
  {
   "cell_type": "code",
   "execution_count": 123,
   "metadata": {},
   "outputs": [
    {
     "name": "stdout",
     "output_type": "stream",
     "text": [
      "Mean absolute error:  1147.9566879438735\n",
      "Root Mean Squared error:  1551.9693236809765\n",
      "R^2 score:  0.14008770169643237\n"
     ]
    }
   ],
   "source": [
    "print(\"Mean absolute error: \", mae_knn)\n",
    "print(\"Root Mean Squared error: \", rmse_knn)\n",
    "print(\"R^2 score: \", r2_score_knn)"
   ]
  },
  {
   "cell_type": "code",
   "execution_count": 124,
   "metadata": {},
   "outputs": [
    {
     "data": {
      "image/png": "[encoded data removed]",
      "text/plain": [
       "<Figure size 432x288 with 1 Axes>"
      ]
     },
     "metadata": {
      "needs_background": "light"
     },
     "output_type": "display_data"
    }
   ],
   "source": [
    "# choosing the best k for the model (KNN)\n",
    "# choose k between 1 till 20\n",
    "from sklearn.model_selection import cross_val_score\n",
    "k_range=range(1,20)\n",
    "k_score = []\n",
    "\n",
    "for k in k_range:\n",
    "    knn=KNeighborsRegressor(n_neighbors=k)\n",
    "    scores=cross_val_score(knn, X_train, y_train, cv=5)\n",
    "    k_score.append(scores.mean())\n",
    "#plot to see which k performs the best\n",
    "plt.plot(k_range, k_score)\n",
    "plt.xlabel(\"Vaue of K for KNN\")\n",
    "plt.ylabel(\"Cross-Validated score\")\n",
    "plt.show()"
   ]
  },
  {
   "cell_type": "code",
   "execution_count": null,
   "metadata": {},
   "outputs": [],
   "source": [
    "# we can see that the best value of K lies around 6"
   ]
  },
  {
   "cell_type": "code",
   "execution_count": 127,
   "metadata": {},
   "outputs": [
    {
     "name": "stderr",
     "output_type": "stream",
     "text": [
      "[Parallel(n_jobs=1)]: Using backend SequentialBackend with 1 concurrent workers.\n"
     ]
    },
    {
     "name": "stdout",
     "output_type": "stream",
     "text": [
      "[CV]  ................................................................\n",
      "[CV] .................................... , score=0.084, total=   3.1s\n",
      "[CV]  ................................................................\n"
     ]
    },
    {
     "name": "stderr",
     "output_type": "stream",
     "text": [
      "[Parallel(n_jobs=1)]: Done   1 out of   1 | elapsed:    3.0s remaining:    0.0s\n"
     ]
    },
    {
     "name": "stdout",
     "output_type": "stream",
     "text": [
      "[CV] .................................... , score=0.109, total=   3.1s\n",
      "[CV]  ................................................................\n"
     ]
    },
    {
     "name": "stderr",
     "output_type": "stream",
     "text": [
      "[Parallel(n_jobs=1)]: Done   2 out of   2 | elapsed:    6.1s remaining:    0.0s\n"
     ]
    },
    {
     "name": "stdout",
     "output_type": "stream",
     "text": [
      "[CV] .................................... , score=0.113, total=   3.1s\n",
      "[CV]  ................................................................\n",
      "[CV] .................................... , score=0.056, total=   3.1s\n",
      "[CV]  ................................................................\n",
      "[CV] .................................... , score=0.061, total=   3.1s\n",
      "[CV]  ................................................................\n"
     ]
    },
    {
     "name": "stderr",
     "output_type": "stream",
     "text": [
      "[Parallel(n_jobs=1)]: Done   5 out of   5 | elapsed:   15.5s finished\n",
      "[Parallel(n_jobs=1)]: Using backend SequentialBackend with 1 concurrent workers.\n"
     ]
    },
    {
     "name": "stdout",
     "output_type": "stream",
     "text": [
      "[CV] .................................... , score=0.155, total=  15.2s\n",
      "[CV]  ................................................................\n"
     ]
    },
    {
     "name": "stderr",
     "output_type": "stream",
     "text": [
      "[Parallel(n_jobs=1)]: Done   1 out of   1 | elapsed:   15.1s remaining:    0.0s\n"
     ]
    },
    {
     "name": "stdout",
     "output_type": "stream",
     "text": [
      "[CV] .................................... , score=0.102, total=  15.0s\n",
      "[CV]  ................................................................\n"
     ]
    },
    {
     "name": "stderr",
     "output_type": "stream",
     "text": [
      "[Parallel(n_jobs=1)]: Done   2 out of   2 | elapsed:   30.1s remaining:    0.0s\n"
     ]
    },
    {
     "name": "stdout",
     "output_type": "stream",
     "text": [
      "[CV] .................................... , score=0.080, total=  15.1s\n",
      "[CV]  ................................................................\n",
      "[CV] .................................... , score=0.120, total=  15.1s\n",
      "[CV]  ................................................................\n",
      "[CV] .................................... , score=0.101, total=  15.1s\n",
      "[0.08375995 0.10886151 0.11345317 0.05613297 0.06083657]\n",
      "Mean cross validation test score: 0.08460883152720826\n",
      "Mean cross validation train score: 0.11162706151857571\n",
      "Standard deviation in cv scores: 0.023651232986692042\n",
      "Wall time: 1min 31s\n"
     ]
    },
    {
     "name": "stderr",
     "output_type": "stream",
     "text": [
      "[Parallel(n_jobs=1)]: Done   5 out of   5 | elapsed:  1.3min finished\n"
     ]
    }
   ],
   "source": [
    "%%time\n",
    "cv_scores_test= cross_val_score(reg_knn,X_test,y_test,cv=5, verbose=3)\n",
    "cv_scores_train= cross_val_score(reg_knn,X_train,y_train,cv=5, verbose=3)\n",
    "print(cv_scores_test)\n",
    "cv_scores_knn_test= cv_scores_test.mean()\n",
    "cv_scores_knn_train= cv_scores_train.mean()\n",
    "cv_scores_std_knn= cv_scores_test.std()\n",
    "print ('Mean cross validation test score: ' +str(cv_scores_knn_test))\n",
    "print ('Mean cross validation train score: ' +str(cv_scores_knn_train))\n",
    "print ('Standard deviation in cv scores: ' +str(cv_scores_std_knn))"
   ]
  },
  {
   "cell_type": "code",
   "execution_count": 128,
   "metadata": {},
   "outputs": [
    {
     "data": {
      "text/plain": [
       "SVR(C=1.0, cache_size=200, coef0=0.0, degree=3, epsilon=0.1, gamma='scale',\n",
       "    kernel='rbf', max_iter=-1, shrinking=True, tol=0.001, verbose=False)"
      ]
     },
     "execution_count": 128,
     "metadata": {},
     "output_type": "execute_result"
    }
   ],
   "source": [
    "# Execution of Support Vector Machine (SVM) model\n",
    "from sklearn.svm import SVR\n",
    "reg_svm=SVR(kernel='rbf')\n",
    "reg_svm.fit(X_train,y_train)"
   ]
  },
  {
   "cell_type": "code",
   "execution_count": 129,
   "metadata": {},
   "outputs": [],
   "source": [
    "#pedicting the target variable using the test features\n",
    "y_pred_svm=reg_svm.predict(X_test)"
   ]
  },
  {
   "cell_type": "code",
   "execution_count": 130,
   "metadata": {},
   "outputs": [
    {
     "data": {
      "text/html": [
       "<div>\n",
       "<style scoped>\n",
       "    .dataframe tbody tr th:only-of-type {\n",
       "        vertical-align: middle;\n",
       "    }\n",
       "\n",
       "    .dataframe tbody tr th {\n",
       "        vertical-align: top;\n",
       "    }\n",
       "\n",
       "    .dataframe thead th {\n",
       "        text-align: right;\n",
       "    }\n",
       "</style>\n",
       "<table border=\"1\" class=\"dataframe\">\n",
       "  <thead>\n",
       "    <tr style=\"text-align: right;\">\n",
       "      <th></th>\n",
       "      <th>Actual value</th>\n",
       "      <th>Predicted values</th>\n",
       "    </tr>\n",
       "  </thead>\n",
       "  <tbody>\n",
       "    <tr>\n",
       "      <th>7503</th>\n",
       "      <td>1743.0644</td>\n",
       "      <td>1807.104425</td>\n",
       "    </tr>\n",
       "    <tr>\n",
       "      <th>2957</th>\n",
       "      <td>356.8688</td>\n",
       "      <td>1808.163270</td>\n",
       "    </tr>\n",
       "    <tr>\n",
       "      <th>7031</th>\n",
       "      <td>377.5086</td>\n",
       "      <td>1803.814625</td>\n",
       "    </tr>\n",
       "    <tr>\n",
       "      <th>1084</th>\n",
       "      <td>5778.4782</td>\n",
       "      <td>1811.711224</td>\n",
       "    </tr>\n",
       "    <tr>\n",
       "      <th>856</th>\n",
       "      <td>2356.9320</td>\n",
       "      <td>1810.123374</td>\n",
       "    </tr>\n",
       "    <tr>\n",
       "      <th>...</th>\n",
       "      <td>...</td>\n",
       "      <td>...</td>\n",
       "    </tr>\n",
       "    <tr>\n",
       "      <th>443</th>\n",
       "      <td>2133.2232</td>\n",
       "      <td>1809.055409</td>\n",
       "    </tr>\n",
       "    <tr>\n",
       "      <th>777</th>\n",
       "      <td>4287.7520</td>\n",
       "      <td>1811.993721</td>\n",
       "    </tr>\n",
       "    <tr>\n",
       "      <th>1119</th>\n",
       "      <td>767.0016</td>\n",
       "      <td>1812.000667</td>\n",
       "    </tr>\n",
       "    <tr>\n",
       "      <th>3209</th>\n",
       "      <td>642.4970</td>\n",
       "      <td>1808.945665</td>\n",
       "    </tr>\n",
       "    <tr>\n",
       "      <th>3742</th>\n",
       "      <td>2570.6538</td>\n",
       "      <td>1812.600178</td>\n",
       "    </tr>\n",
       "  </tbody>\n",
       "</table>\n",
       "<p>2557 rows × 2 columns</p>\n",
       "</div>"
      ],
      "text/plain": [
       "      Actual value  Predicted values\n",
       "7503     1743.0644       1807.104425\n",
       "2957      356.8688       1808.163270\n",
       "7031      377.5086       1803.814625\n",
       "1084     5778.4782       1811.711224\n",
       "856      2356.9320       1810.123374\n",
       "...            ...               ...\n",
       "443      2133.2232       1809.055409\n",
       "777      4287.7520       1811.993721\n",
       "1119      767.0016       1812.000667\n",
       "3209      642.4970       1808.945665\n",
       "3742     2570.6538       1812.600178\n",
       "\n",
       "[2557 rows x 2 columns]"
      ]
     },
     "execution_count": 130,
     "metadata": {},
     "output_type": "execute_result"
    }
   ],
   "source": [
    "#Evaluating the model\n",
    "df_svm=pd.DataFrame({\"Actual value\": y_test, \"Predicted values\": y_pred_svm})\n",
    "df_svm"
   ]
  },
  {
   "cell_type": "code",
   "execution_count": 131,
   "metadata": {},
   "outputs": [],
   "source": [
    "mae_svm=mean_absolute_error(y_test, y_pred_svm)\n",
    "rmse_svm=mean_squared_error(y_test, y_pred_svm, squared = False)\n",
    "r2_score_svm=r2_score(y_test, y_pred_svm)"
   ]
  },
  {
   "cell_type": "code",
   "execution_count": 132,
   "metadata": {},
   "outputs": [
    {
     "name": "stdout",
     "output_type": "stream",
     "text": [
      "Mean absolute error:  1291.5950006162307\n",
      "Root Mean Squared error:  1701.6932377937364\n",
      "R^2 score:  -0.033833119307765\n"
     ]
    }
   ],
   "source": [
    "print(\"Mean absolute error: \", mae_svm)\n",
    "print(\"Root Mean Squared error: \", rmse_svm)\n",
    "print(\"R^2 score: \", r2_score_svm)"
   ]
  },
  {
   "cell_type": "code",
   "execution_count": 133,
   "metadata": {},
   "outputs": [
    {
     "name": "stdout",
     "output_type": "stream",
     "text": [
      "[-0.04087905 -0.05166014 -0.03313708 -0.03026776 -0.1030839 ]\n",
      "Mean cross validation test score: -0.05180558457088909\n",
      "Mean cross validation train score: -0.052349857403126164\n",
      "Standard deviation in cv scores: 0.026688075246270287\n"
     ]
    }
   ],
   "source": [
    "#cross validation of the model\n",
    "cv_scores_test= cross_val_score(reg_svm,X_test,y_test,cv=5)\n",
    "cv_scores_train= cross_val_score(reg_svm,X_train,y_train,cv=5)\n",
    "print(cv_scores_test)\n",
    "cv_scores_svm_test= cv_scores_test.mean()\n",
    "cv_scores_svm_train= cv_scores_train.mean()\n",
    "cv_scores_std_svm= cv_scores_test.std()\n",
    "print ('Mean cross validation test score: ' +str(cv_scores_svm_test))\n",
    "print ('Mean cross validation train score: ' +str(cv_scores_svm_train))\n",
    "print ('Standard deviation in cv scores: ' +str(cv_scores_std_svm))"
   ]
  },
  {
   "cell_type": "code",
   "execution_count": 136,
   "metadata": {},
   "outputs": [
    {
     "name": "stdout",
     "output_type": "stream",
     "text": [
      "      Iter       Train Loss   Remaining Time \n",
      "         1     2778107.9483            2.17m\n",
      "         2     2630157.1726            2.14m\n",
      "         3     2499356.9895            2.11m\n",
      "         4     2390846.7426            2.07m\n",
      "         5     2295045.5121            2.04m\n",
      "         6     2208973.2046            2.02m\n",
      "         7     2125738.2050            1.99m\n",
      "         8     2060005.4155            1.96m\n",
      "         9     1998416.8708            1.93m\n",
      "        10     1945349.6929            1.90m\n",
      "        11     1894721.6350            1.87m\n",
      "        12     1837502.8077            1.84m\n",
      "        13     1797000.1588            1.81m\n",
      "        14     1761101.7192            1.78m\n",
      "        15     1719529.4885            1.75m\n",
      "        16     1686515.0140            1.72m\n",
      "        17     1644128.6270            1.69m\n",
      "        18     1617869.9585            1.65m\n",
      "        19     1589515.6395            1.63m\n",
      "        20     1557076.7837            1.59m\n",
      "        21     1533370.8827            1.56m\n",
      "        22     1512550.3720            1.53m\n",
      "        23     1490553.3450            1.50m\n",
      "        24     1473236.7221            1.47m\n",
      "        25     1457639.2333            1.44m\n",
      "        26     1441354.2401            1.41m\n",
      "        27     1419551.8896            1.38m\n",
      "        28     1404743.1310            1.35m\n",
      "        29     1390209.4445            1.31m\n",
      "        30     1375095.3062            1.28m\n",
      "        31     1363296.0579            1.25m\n",
      "        32     1348641.3985            1.22m\n",
      "        33     1339864.5380            1.19m\n",
      "        34     1328722.7235            1.15m\n",
      "        35     1318385.9423            1.12m\n",
      "        36     1310073.5112            1.09m\n",
      "        37     1299856.0733            1.06m\n",
      "        38     1291103.7854            1.03m\n",
      "        39     1281483.7713           59.68s\n",
      "        40     1272979.7293           57.81s\n",
      "        41     1266769.9458           55.89s\n",
      "        42     1259879.5991           53.99s\n",
      "        43     1252571.5451           52.06s\n",
      "        44     1246279.8315           50.14s\n",
      "        45     1239725.6189           48.24s\n",
      "        46     1235011.3924           46.34s\n",
      "        47     1231577.6746           44.43s\n",
      "        48     1224955.2109           42.50s\n",
      "        49     1217956.2301           40.57s\n",
      "        50     1212384.5575           38.66s\n",
      "        51     1206821.8354           36.71s\n",
      "        52     1201804.6819           34.80s\n",
      "        53     1196147.7395           32.87s\n",
      "        54     1190619.7095           30.94s\n",
      "        55     1183146.2167           29.00s\n",
      "        56     1179030.5374           27.08s\n",
      "        57     1173938.2977           25.14s\n",
      "        58     1168292.0341           23.20s\n",
      "        59     1162939.8904           21.28s\n",
      "        60     1158825.2206           19.35s\n",
      "        61     1154494.5348           17.42s\n",
      "        62     1149755.7504           15.49s\n",
      "        63     1147891.0829           13.56s\n",
      "        64     1143629.8309           11.62s\n",
      "        65     1140631.8814            9.69s\n",
      "        66     1135801.0349            7.75s\n",
      "        67     1130334.8675            5.81s\n",
      "        68     1125914.3219            3.87s\n",
      "        69     1122954.3593            1.94s\n",
      "        70     1119803.0703            0.00s\n"
     ]
    }
   ],
   "source": [
    "#Gradiant boosting\n",
    "from sklearn.ensemble import GradientBoostingRegressor\n",
    "reg_gb=GradientBoostingRegressor(n_estimators=70, verbose=3)\n",
    "reg_gb.fit(X_train,y_train)\n",
    "y_pred_gb=reg_gb.predict(X_test)"
   ]
  },
  {
   "cell_type": "code",
   "execution_count": 137,
   "metadata": {},
   "outputs": [],
   "source": [
    "#evaluation of the model\n",
    "mae_gb=mean_absolute_error(y_test, y_pred_gb)\n",
    "rmse_gb=mean_squared_error(y_test, y_pred_gb, squared = False)\n",
    "r2_score_gb=r2_score(y_test, y_pred_gb)"
   ]
  },
  {
   "cell_type": "code",
   "execution_count": 138,
   "metadata": {},
   "outputs": [
    {
     "name": "stdout",
     "output_type": "stream",
     "text": [
      "Mean absolute error:  898.2902021309333\n",
      "Root Mean Squared error:  1201.5739114527912\n",
      "R^2 score:  0.4845472327656478\n"
     ]
    }
   ],
   "source": [
    "print(\"Mean absolute error: \", mae_gb)\n",
    "print(\"Root Mean Squared error: \", rmse_gb)\n",
    "print(\"R^2 score: \", r2_score_gb)"
   ]
  },
  {
   "cell_type": "code",
   "execution_count": 139,
   "metadata": {},
   "outputs": [
    {
     "name": "stdout",
     "output_type": "stream",
     "text": [
      "0.4845472327656478\n"
     ]
    }
   ],
   "source": [
    "print(reg_gb.score(X_test, y_test))"
   ]
  },
  {
   "cell_type": "code",
   "execution_count": 140,
   "metadata": {},
   "outputs": [
    {
     "name": "stdout",
     "output_type": "stream",
     "text": [
      "      Iter       Train Loss   Remaining Time \n",
      "         1     2637696.2284           41.35s\n",
      "         2     2490100.1025           40.70s\n",
      "         3     2366152.6806           40.15s\n",
      "         4     2261732.4722           39.46s\n",
      "         5     2171850.7070           38.90s\n",
      "         6     2084949.2973           38.40s\n",
      "         7     2007622.1541           37.95s\n",
      "         8     1948086.8059           37.42s\n",
      "         9     1880294.4073           37.03s\n",
      "        10     1822050.5465           36.61s\n",
      "        11     1771657.4629           36.16s\n",
      "        12     1729355.1275           35.58s\n",
      "        13     1685996.6133           34.97s\n",
      "        14     1637522.8414           34.48s\n",
      "        15     1594014.3115           34.06s\n",
      "        16     1556562.0195           33.69s\n",
      "        17     1518245.6796           33.25s\n",
      "        18     1484811.7896           32.59s\n",
      "        19     1453239.9832           31.96s\n",
      "        20     1426220.1029           31.29s\n",
      "        21     1399068.1310           30.66s\n",
      "        22     1372306.3773           30.03s\n",
      "        23     1345470.4086           29.37s\n",
      "        24     1327727.6131           28.73s\n",
      "        25     1305259.6300           28.11s\n",
      "        26     1284079.3884           27.48s\n",
      "        27     1266791.5863           26.85s\n",
      "        28     1249232.9309           26.23s\n",
      "        29     1229251.5419           25.58s\n",
      "        30     1208026.9932           24.95s\n",
      "        31     1188477.6971           24.33s\n",
      "        32     1176366.9741           23.74s\n",
      "        33     1161109.2972           23.12s\n",
      "        34     1144891.0531           22.50s\n",
      "        35     1132235.2997           21.89s\n",
      "        36     1116722.4799           21.25s\n",
      "        37     1100653.3501           20.61s\n",
      "        38     1093261.4695           20.02s\n",
      "        39     1080439.5373           19.39s\n",
      "        40     1073454.1834           18.78s\n",
      "        41     1059985.0912           18.16s\n",
      "        42     1052763.0516           17.54s\n",
      "        43     1043149.6667           16.93s\n",
      "        44     1035389.6144           16.32s\n",
      "        45     1025019.1374           15.69s\n",
      "        46     1019956.3723           15.08s\n",
      "        47     1007147.0339           14.44s\n",
      "        48      995839.9597           13.81s\n",
      "        49      988369.1660           13.19s\n",
      "        50      981877.0588           12.57s\n",
      "        51      974924.5383           11.94s\n",
      "        52      963585.2465           11.31s\n",
      "        53      953354.6260           10.67s\n",
      "        54      943379.4864           10.04s\n",
      "        55      936508.9797            9.43s\n",
      "        56      928039.7905            8.81s\n",
      "        57      921274.0486            8.18s\n",
      "        58      915582.1163            7.55s\n",
      "        59      909910.5838            6.93s\n",
      "        60      904487.2511            6.30s\n",
      "        61      899724.2490            5.67s\n",
      "        62      893852.0306            5.05s\n",
      "        63      884151.3885            4.41s\n",
      "        64      878020.6601            3.78s\n",
      "        65      871730.8124            3.15s\n",
      "        66      865214.1556            2.52s\n",
      "        67      862096.1715            1.89s\n",
      "        68      858371.6011            1.26s\n",
      "        69      853486.1937            0.63s\n",
      "        70      849400.5406            0.00s\n",
      "      Iter       Train Loss   Remaining Time \n",
      "         1     2591124.2930           41.25s\n",
      "         2     2455271.2045           40.61s\n",
      "         3     2344088.2082           40.02s\n",
      "         4     2244352.0617           39.48s\n",
      "         5     2158730.4566           38.90s\n",
      "         6     2083424.0345           38.28s\n",
      "         7     2011222.5765           37.70s\n",
      "         8     1953788.3583           37.13s\n",
      "         9     1888624.1791           36.66s\n",
      "        10     1833676.5671           36.14s\n",
      "        11     1776195.5302           35.65s\n",
      "        12     1737022.5879           35.09s\n",
      "        13     1695586.9843           34.55s\n",
      "        14     1647604.0203           34.00s\n",
      "        15     1608705.3650           33.41s\n",
      "        16     1576141.3508           32.88s\n",
      "        17     1540563.0356           32.30s\n",
      "        18     1507928.3966           31.70s\n",
      "        19     1479665.1193           31.09s\n",
      "        20     1450941.5383           30.53s\n",
      "        21     1425261.8489           29.93s\n",
      "        22     1399779.2650           29.34s\n",
      "        23     1381553.5070           28.76s\n",
      "        24     1356479.5453           28.16s\n",
      "        25     1338379.8771           27.57s\n",
      "        26     1320751.4857           26.98s\n",
      "        27     1300996.5778           26.36s\n",
      "        28     1279526.0944           25.73s\n",
      "        29     1265425.6253           25.14s\n",
      "        30     1249891.0729           24.55s\n",
      "        31     1238346.6463           23.96s\n",
      "        32     1225797.6205           23.38s\n",
      "        33     1212035.3389           22.80s\n",
      "        34     1194264.3531           22.20s\n",
      "        35     1178141.0539           21.58s\n",
      "        36     1168213.7859           20.99s\n",
      "        37     1154821.5093           20.39s\n",
      "        38     1145940.2092           19.80s\n",
      "        39     1136980.2223           19.19s\n",
      "        40     1123647.0500           18.56s\n",
      "        41     1111336.7723           17.94s\n",
      "        42     1105743.3021           17.35s\n",
      "        43     1090499.2937           16.73s\n",
      "        44     1085178.2349           16.13s\n",
      "        45     1074364.6285           15.51s\n",
      "        46     1067494.9518           14.91s\n",
      "        47     1055303.5154           14.30s\n",
      "        48     1048183.1658           13.68s\n",
      "        49     1036212.2260           13.06s\n",
      "        50     1025352.3194           12.45s\n",
      "        51     1020418.7583           11.85s\n",
      "        52     1007109.3626           11.22s\n",
      "        53     1000092.2212           10.61s\n",
      "        54      993161.8467           10.00s\n",
      "        55      982991.1360            9.38s\n",
      "        56      976913.6012            8.78s\n",
      "        57      965412.5337            8.16s\n",
      "        58      959540.2961            7.54s\n",
      "        59      953929.0288            6.93s\n",
      "        60      946346.1665            6.31s\n",
      "        61      940819.6952            5.68s\n",
      "        62      935538.2047            5.06s\n",
      "        63      929452.8250            4.43s\n",
      "        64      921707.3228            3.80s\n",
      "        65      912405.9891            3.16s\n",
      "        66      905387.6994            2.53s\n",
      "        67      899552.4470            1.90s\n",
      "        68      894116.0844            1.27s\n",
      "        69      886057.7279            0.63s\n",
      "        70      881312.6864            0.00s\n",
      "      Iter       Train Loss   Remaining Time \n",
      "         1     2704372.5646           43.96s\n",
      "         2     2551119.1094           43.22s\n",
      "         3     2420538.9270           42.00s\n",
      "         4     2310291.2771           41.05s\n",
      "         5     2214617.9324           40.30s\n",
      "         6     2136297.2821           39.76s\n",
      "         7     2053340.1486           39.23s\n",
      "         8     1982744.8658           38.65s\n",
      "         9     1921246.6599           38.09s\n",
      "        10     1861295.3761           37.64s\n",
      "        11     1808550.9179           37.16s\n",
      "        12     1766908.2861           36.60s\n",
      "        13     1707910.7642           35.97s\n",
      "        14     1662695.9671           35.33s\n",
      "        15     1622086.0903           34.66s\n",
      "        16     1574411.4405           33.98s\n",
      "        17     1541365.4943           33.30s\n",
      "        18     1510014.1479           32.65s\n",
      "        19     1473526.4015           31.99s\n",
      "        20     1444363.1565           31.32s\n",
      "        21     1417157.7427           30.71s\n",
      "        22     1397787.3610           30.06s\n",
      "        23     1371825.6960           29.40s\n",
      "        24     1351309.9224           28.77s\n",
      "        25     1332561.5660           28.17s\n",
      "        26     1309809.4790           27.52s\n",
      "        27     1285293.7563           26.88s\n",
      "        28     1265230.3342           26.26s\n",
      "        29     1247341.5834           25.62s\n",
      "        30     1235345.0635           24.99s\n",
      "        31     1221506.5793           24.40s\n",
      "        32     1209634.5150           23.80s\n",
      "        33     1193600.0958           23.16s\n",
      "        34     1177854.3216           22.53s\n",
      "        35     1168404.6601           21.93s\n",
      "        36     1160936.2728           21.33s\n",
      "        37     1151626.9976           20.72s\n",
      "        38     1142673.2183           20.12s\n",
      "        39     1131214.4625           19.48s\n"
     ]
    },
    {
     "name": "stdout",
     "output_type": "stream",
     "text": [
      "        40     1114329.2135           18.85s\n",
      "        41     1105526.7472           18.23s\n",
      "        42     1099322.3283           17.62s\n",
      "        43     1093853.8791           17.01s\n",
      "        44     1078293.5623           16.37s\n",
      "        45     1067248.6441           15.73s\n",
      "        46     1056607.6796           15.09s\n",
      "        47     1050488.7059           14.48s\n",
      "        48     1041031.4004           13.85s\n",
      "        49     1036574.3751           13.23s\n",
      "        50     1029142.8082           12.61s\n",
      "        51     1019724.5098           11.98s\n",
      "        52     1012618.2877           11.35s\n",
      "        53     1008462.8385           10.73s\n",
      "        54      999052.3501           10.10s\n",
      "        55      992602.0261            9.47s\n",
      "        56      981869.7417            8.84s\n",
      "        57      975807.6385            8.21s\n",
      "        58      964525.0107            7.57s\n",
      "        59      958166.0452            6.94s\n",
      "        60      951996.6791            6.31s\n",
      "        61      948232.8889            5.69s\n",
      "        62      939556.7334            5.05s\n",
      "        63      932139.1752            4.42s\n",
      "        64      923675.4494            3.79s\n",
      "        65      918396.7908            3.16s\n",
      "        66      911577.3414            2.53s\n",
      "        67      906779.9332            1.90s\n",
      "        68      898318.7543            1.26s\n",
      "        69      894753.7525            0.63s\n",
      "        70      889777.0916            0.00s\n",
      "      Iter       Train Loss   Remaining Time \n",
      "         1     2661417.3586           41.06s\n",
      "         2     2515071.6519           40.55s\n",
      "         3     2393416.4631           40.06s\n",
      "         4     2288471.9853           39.43s\n",
      "         5     2195553.7742           38.85s\n",
      "         6     2105871.3930           38.39s\n",
      "         7     2031516.0610           37.85s\n",
      "         8     1962036.4458           37.33s\n",
      "         9     1901942.1206           36.75s\n",
      "        10     1850770.2043           36.23s\n",
      "        11     1794531.2410           35.74s\n",
      "        12     1746822.8069           35.22s\n",
      "        13     1686014.1826           34.64s\n",
      "        14     1644072.5123           34.07s\n",
      "        15     1596463.0641           33.50s\n",
      "        16     1559187.8639           32.89s\n",
      "        17     1524965.0450           32.33s\n",
      "        18     1499570.7620           31.75s\n",
      "        19     1467804.0156           31.12s\n",
      "        20     1439952.0622           30.54s\n",
      "        21     1417262.3088           30.00s\n",
      "        22     1398886.9189           29.41s\n",
      "        23     1376613.5067           28.80s\n",
      "        24     1355329.8595           28.23s\n",
      "        25     1328017.2393           27.61s\n",
      "        26     1308096.3162           27.02s\n",
      "        27     1288409.8973           26.41s\n",
      "        28     1268181.9271           25.81s\n",
      "        29     1252305.4636           25.21s\n",
      "        30     1229215.1165           24.60s\n",
      "        31     1210313.9051           24.00s\n",
      "        32     1190696.3568           23.38s\n",
      "        33     1175336.9454           22.77s\n",
      "        34     1160752.8894           22.17s\n",
      "        35     1152037.0567           21.60s\n",
      "        36     1141288.7883           21.01s\n",
      "        37     1132111.9437           20.41s\n",
      "        38     1117052.4104           19.80s\n",
      "        39     1108625.5135           19.19s\n",
      "        40     1097038.1717           18.58s\n",
      "        41     1085218.6963           17.96s\n",
      "        42     1077771.9674           17.36s\n",
      "        43     1066915.1021           16.75s\n",
      "        44     1051920.1160           16.13s\n",
      "        45     1042502.8863           15.51s\n",
      "        46     1029416.1379           14.87s\n",
      "        47     1023018.2743           14.27s\n",
      "        48     1011472.4124           13.65s\n",
      "        49     1004647.2752           13.05s\n",
      "        50      998001.9098           12.43s\n",
      "        51      991134.4120           11.82s\n",
      "        52      982765.4899           11.20s\n",
      "        53      976688.1310           10.58s\n",
      "        54      964598.6856            9.95s\n",
      "        55      955178.0125            9.33s\n",
      "        56      949887.8069            8.72s\n",
      "        57      940490.6617            8.10s\n",
      "        58      933081.2644            7.48s\n",
      "        59      928827.0020            6.86s\n",
      "        60      923948.6696            6.24s\n",
      "        61      917594.5870            5.62s\n",
      "        62      912124.9239            5.00s\n",
      "        63      905483.2957            4.38s\n",
      "        64      897273.9627            3.75s\n",
      "        65      886141.8782            3.13s\n",
      "        66      880978.3360            2.51s\n",
      "        67      876502.9852            1.88s\n",
      "        68      871889.0147            1.25s\n",
      "        69      867018.2835            0.63s\n",
      "        70      858661.7440            0.00s\n",
      "      Iter       Train Loss   Remaining Time \n",
      "         1     2539436.7709           40.90s\n",
      "         2     2401453.4591           40.51s\n",
      "         3     2285078.7962           39.88s\n",
      "         4     2181455.3124           39.32s\n",
      "         5     2097995.0664           38.70s\n",
      "         6     2013430.3752           38.20s\n",
      "         7     1943281.6435           37.65s\n",
      "         8     1882311.6929           37.07s\n",
      "         9     1820352.0808           36.56s\n",
      "        10     1773153.6836           35.96s\n",
      "        11     1725086.2645           35.42s\n",
      "        12     1671538.2464           34.93s\n",
      "        13     1636215.2455           34.38s\n",
      "        14     1592288.3142           33.88s\n",
      "        15     1550219.5858           33.33s\n",
      "        16     1513304.0637           32.77s\n",
      "        17     1478980.9591           32.17s\n",
      "        18     1455333.9150           31.60s\n",
      "        19     1416996.4674           31.01s\n",
      "        20     1393204.6722           30.48s\n",
      "        21     1362773.2029           29.88s\n",
      "        22     1336278.7641           29.25s\n",
      "        23     1316359.4974           28.73s\n",
      "        24     1293767.9714           28.15s\n",
      "        25     1269155.6675           27.54s\n",
      "        26     1249114.6485           26.95s\n",
      "        27     1228784.7672           26.35s\n",
      "        28     1209877.4198           25.74s\n",
      "        29     1196926.5303           25.18s\n",
      "        30     1177990.1380           24.56s\n",
      "        31     1158750.5828           23.92s\n",
      "        32     1149343.0804           23.36s\n",
      "        33     1131827.8140           22.75s\n",
      "        34     1123350.4833           22.19s\n",
      "        35     1114335.6302           21.59s\n",
      "        36     1098749.1367           20.97s\n",
      "        37     1091401.0979           20.39s\n",
      "        38     1076365.9869           19.78s\n",
      "        39     1063854.2366           19.18s\n",
      "        40     1052878.4077           18.55s\n",
      "        41     1043436.2488           17.95s\n",
      "        42     1027166.5958           17.32s\n",
      "        43     1021861.8539           16.73s\n",
      "        44     1014850.3941           16.13s\n",
      "        45     1008114.9833           15.51s\n",
      "        46     1001620.0405           14.91s\n",
      "        47      991203.4217           14.29s\n",
      "        48      985866.8437           13.69s\n",
      "        49      979580.6224           13.08s\n",
      "        50      970811.9143           12.46s\n",
      "        51      958300.3313           11.84s\n",
      "        52      951640.8029           11.23s\n",
      "        53      944451.2886           10.61s\n",
      "        54      940156.1370           10.00s\n",
      "        55      936145.9182            9.38s\n",
      "        56      929565.1312            8.76s\n",
      "        57      922163.7197            8.14s\n",
      "        58      911319.7590            7.51s\n",
      "        59      907471.0552            6.89s\n",
      "        60      902008.1878            6.27s\n",
      "        61      893694.5600            5.64s\n",
      "        62      888247.2763            5.02s\n",
      "        63      884370.6993            4.39s\n",
      "        64      876256.6506            3.77s\n",
      "        65      872139.8252            3.14s\n",
      "        66      865772.4661            2.51s\n",
      "        67      858599.9452            1.88s\n",
      "        68      851699.0855            1.26s\n",
      "        69      845898.9022            0.63s\n",
      "        70      841276.9245            0.00s\n",
      "      Iter       Train Loss   Remaining Time \n",
      "         1     2802301.6314            1.72m\n",
      "         2     2649094.0706            1.69m\n",
      "         3     2513725.0189            1.67m\n",
      "         4     2403728.5678            1.65m\n",
      "         5     2302984.8360            1.62m\n",
      "         6     2214725.1540            1.60m\n",
      "         7     2136554.7986            1.57m\n",
      "         8     2062753.2485            1.55m\n"
     ]
    },
    {
     "name": "stdout",
     "output_type": "stream",
     "text": [
      "         9     1999781.0582            1.53m\n",
      "        10     1943611.6882            1.50m\n",
      "        11     1894290.4558            1.48m\n",
      "        12     1846090.3749            1.46m\n",
      "        13     1795110.6128            1.43m\n",
      "        14     1759323.0530            1.41m\n",
      "        15     1725284.6890            1.39m\n",
      "        16     1681278.5308            1.36m\n",
      "        17     1649882.8899            1.34m\n",
      "        18     1621216.9171            1.31m\n",
      "        19     1596548.3163            1.29m\n",
      "        20     1568307.1762            1.26m\n",
      "        21     1538105.5043            1.24m\n",
      "        22     1509824.2889            1.22m\n",
      "        23     1487604.4507            1.19m\n",
      "        24     1467341.0572            1.17m\n",
      "        25     1450572.3464            1.14m\n",
      "        26     1431682.7880            1.12m\n",
      "        27     1415635.1902            1.09m\n",
      "        28     1398787.3138            1.07m\n",
      "        29     1386436.2383            1.04m\n",
      "        30     1372674.3674            1.02m\n",
      "        31     1358319.8980           59.43s\n",
      "        32     1344232.0282           57.86s\n",
      "        33     1333678.0015           56.36s\n",
      "        34     1325585.8765           54.89s\n",
      "        35     1311528.8061           53.40s\n",
      "        36     1303357.3877           51.89s\n",
      "        37     1293039.1958           50.37s\n",
      "        38     1283646.1198           48.86s\n",
      "        39     1273209.7522           47.34s\n",
      "        40     1264106.5876           45.84s\n",
      "        41     1255235.5691           44.32s\n",
      "        42     1248165.2790           42.81s\n",
      "        43     1239012.8636           41.26s\n",
      "        44     1230646.9860           39.75s\n",
      "        45     1222451.0789           38.24s\n",
      "        46     1215094.6988           36.71s\n",
      "        47     1207934.8113           35.19s\n",
      "        48     1200512.7493           33.68s\n",
      "        49     1193008.0982           32.15s\n",
      "        50     1186734.6898           30.65s\n",
      "        51     1182525.0394           29.12s\n",
      "        52     1176346.7175           27.60s\n",
      "        53     1170722.3195           26.08s\n",
      "        54     1165019.8049           24.53s\n",
      "        55     1162163.1007           23.02s\n",
      "        56     1158930.9559           21.50s\n",
      "        57     1154441.3664           19.97s\n",
      "        58     1149027.6966           18.43s\n",
      "        59     1142312.5998           16.89s\n",
      "        60     1137629.7818           15.36s\n",
      "        61     1134119.5645           13.83s\n",
      "        62     1131273.7006           12.30s\n",
      "        63     1127887.4026           10.76s\n",
      "        64     1124789.6153            9.23s\n",
      "        65     1122746.6018            7.70s\n",
      "        66     1117447.6833            6.16s\n",
      "        67     1111888.0789            4.62s\n",
      "        68     1108768.1481            3.08s\n",
      "        69     1103976.3865            1.54s\n",
      "        70     1101418.6118            0.00s\n",
      "      Iter       Train Loss   Remaining Time \n",
      "         1     2795247.5637            1.72m\n",
      "         2     2648165.4369            1.69m\n",
      "         3     2515634.2222            1.67m\n",
      "         4     2404143.9863            1.65m\n",
      "         5     2305968.2180            1.62m\n",
      "         6     2222417.8659            1.61m\n",
      "         7     2143608.8711            1.58m\n",
      "         8     2074138.5565            1.56m\n",
      "         9     2011855.4055            1.53m\n",
      "        10     1957360.6326            1.51m\n",
      "        11     1904398.1789            1.49m\n",
      "        12     1858565.5378            1.46m\n",
      "        13     1819911.9380            1.44m\n",
      "        14     1774728.0169            1.41m\n",
      "        15     1728695.4615            1.39m\n",
      "        16     1694015.6633            1.37m\n",
      "        17     1666089.1465            1.34m\n",
      "        18     1622057.7590            1.32m\n",
      "        19     1596063.5970            1.29m\n",
      "        20     1566279.1596            1.27m\n",
      "        21     1538805.0566            1.24m\n",
      "        22     1519790.9548            1.22m\n",
      "        23     1499727.3332            1.19m\n",
      "        24     1477067.3838            1.17m\n",
      "        25     1459975.5273            1.14m\n",
      "        26     1442603.0011            1.12m\n",
      "        27     1419441.9293            1.09m\n",
      "        28     1404931.4043            1.07m\n",
      "        29     1389159.5979            1.04m\n",
      "        30     1373137.4746            1.02m\n",
      "        31     1356816.1935           59.50s\n",
      "        32     1343361.4994           57.94s\n",
      "        33     1332194.0486           56.45s\n",
      "        34     1320666.2684           55.01s\n",
      "        35     1306902.6258           53.52s\n",
      "        36     1298580.9764           52.00s\n",
      "        37     1288625.7874           50.48s\n",
      "        38     1282552.5740           49.00s\n",
      "        39     1275003.9219           47.50s\n",
      "        40     1267231.2478           45.98s\n",
      "        41     1258149.7127           44.43s\n",
      "        42     1249326.3636           42.90s\n",
      "        43     1240192.9058           41.38s\n",
      "        44     1233824.9935           39.89s\n",
      "        45     1228305.4127           38.37s\n",
      "        46     1221196.0531           36.85s\n",
      "        47     1213293.2931           35.33s\n",
      "        48     1208898.6215           33.81s\n",
      "        49     1203844.1261           32.29s\n",
      "        50     1196523.9956           30.76s\n",
      "        51     1190385.1860           29.22s\n",
      "        52     1187270.0709           27.71s\n",
      "        53     1183415.5555           26.18s\n",
      "        54     1179549.4129           24.66s\n",
      "        55     1174627.8438           23.12s\n",
      "        56     1166996.6201           21.58s\n",
      "        57     1161467.8384           20.05s\n",
      "        58     1159069.9976           18.52s\n",
      "        59     1152736.9636           16.97s\n",
      "        60     1146274.0143           15.42s\n",
      "        61     1142380.4530           13.89s\n",
      "        62     1137145.9238           12.34s\n",
      "        63     1135160.2000           10.81s\n",
      "        64     1131783.9029            9.27s\n",
      "        65     1127584.4280            7.73s\n",
      "        66     1123264.7109            6.18s\n",
      "        67     1119347.4472            4.64s\n",
      "        68     1116372.3968            3.09s\n",
      "        69     1110610.6941            1.55s\n",
      "        70     1108451.6190            0.00s\n",
      "      Iter       Train Loss   Remaining Time \n",
      "         1     2754737.2192            1.72m\n",
      "         2     2606006.4845            1.70m\n",
      "         3     2478299.0554            1.67m\n",
      "         4     2371327.8410            1.65m\n",
      "         5     2272920.3615            1.63m\n",
      "         6     2188584.4035            1.60m\n",
      "         7     2108721.2761            1.58m\n",
      "         8     2026583.9371            1.56m\n",
      "         9     1962122.7167            1.53m\n",
      "        10     1907105.7071            1.51m\n",
      "        11     1857250.1499            1.51m\n",
      "        12     1804927.7222            1.48m\n",
      "        13     1753547.7882            1.45m\n",
      "        14     1718027.9972            1.43m\n",
      "        15     1685579.4189            1.40m\n",
      "        16     1655168.0132            1.37m\n",
      "        17     1611711.5529            1.35m\n",
      "        18     1579974.2684            1.32m\n",
      "        19     1552193.4667            1.30m\n",
      "        20     1521511.4512            1.28m\n",
      "        21     1491546.8851            1.25m\n",
      "        22     1471064.2786            1.22m\n",
      "        23     1449768.0711            1.20m\n",
      "        24     1427774.5041            1.17m\n",
      "        25     1407864.6363            1.15m\n",
      "        26     1392241.3491            1.12m\n",
      "        27     1377613.6993            1.10m\n",
      "        28     1361994.1628            1.07m\n",
      "        29     1347510.4005            1.05m\n",
      "        30     1333573.6018            1.02m\n",
      "        31     1322938.1846           59.71s\n",
      "        32     1311198.7796           58.20s\n",
      "        33     1299435.3484           56.68s\n",
      "        34     1284757.7995           55.16s\n",
      "        35     1273777.4766           53.64s\n",
      "        36     1263449.9397           52.10s\n",
      "        37     1255208.5198           50.56s\n",
      "        38     1246874.9328           49.05s\n",
      "        39     1237212.8717           47.53s\n",
      "        40     1226366.2213           45.99s\n",
      "        41     1215357.3841           44.48s\n",
      "        42     1209126.9309           42.96s\n",
      "        43     1200132.6067           41.45s\n",
      "        44     1191229.5521           39.90s\n",
      "        45     1183967.2976           38.36s\n",
      "        46     1176321.1755           36.82s\n",
      "        47     1169101.8381           35.30s\n",
      "        48     1165640.0890           33.79s\n",
      "        49     1158452.6551           32.27s\n"
     ]
    },
    {
     "name": "stdout",
     "output_type": "stream",
     "text": [
      "        50     1154508.1965           30.75s\n",
      "        51     1147529.5779           29.20s\n",
      "        52     1142397.3435           27.67s\n",
      "        53     1136001.1134           26.13s\n",
      "        54     1128405.9565           24.59s\n",
      "        55     1121527.9105           23.06s\n",
      "        56     1118077.4285           21.53s\n",
      "        57     1114138.8424           20.00s\n",
      "        58     1107820.7058           18.46s\n",
      "        59     1105562.0296           16.93s\n",
      "        60     1099574.9799           15.39s\n",
      "        61     1095038.9261           13.84s\n",
      "        62     1090324.7904           12.31s\n",
      "        63     1086006.0684           10.77s\n",
      "        64     1082695.9554            9.24s\n",
      "        65     1076280.9334            7.70s\n",
      "        66     1072588.4995            6.16s\n",
      "        67     1069824.0018            4.62s\n",
      "        68     1063865.6143            3.08s\n",
      "        69     1060999.8799            1.54s\n",
      "        70     1057999.7003            0.00s\n",
      "      Iter       Train Loss   Remaining Time \n",
      "         1     2768093.0783            1.71m\n",
      "         2     2618999.7817            1.69m\n",
      "         3     2488060.3593            1.67m\n",
      "         4     2378540.5597            1.64m\n",
      "         5     2284019.8677            1.62m\n",
      "         6     2193864.9472            1.60m\n",
      "         7     2118696.0665            1.57m\n",
      "         8     2050245.7392            1.55m\n",
      "         9     1989607.4580            1.53m\n",
      "        10     1928384.8420            1.50m\n",
      "        11     1882519.0174            1.48m\n",
      "        12     1837399.9778            1.48m\n",
      "        13     1787290.4537            1.47m\n",
      "        14     1749104.6462            1.44m\n",
      "        15     1701466.0064            1.42m\n",
      "        16     1667980.8340            1.39m\n",
      "        17     1640145.0596            1.37m\n",
      "        18     1613941.4018            1.34m\n",
      "        19     1577025.1053            1.31m\n",
      "        20     1552540.7139            1.29m\n",
      "        21     1522394.5089            1.26m\n",
      "        22     1502341.1025            1.24m\n",
      "        23     1481168.2427            1.21m\n",
      "        24     1459973.4132            1.18m\n",
      "        25     1442524.2209            1.16m\n",
      "        26     1425435.8481            1.13m\n",
      "        27     1409123.9805            1.10m\n",
      "        28     1396915.1445            1.08m\n",
      "        29     1380130.4515            1.05m\n",
      "        30     1363387.2421            1.03m\n",
      "        31     1348358.5371            1.00m\n",
      "        32     1338342.7951           58.49s\n",
      "        33     1326214.1511           56.94s\n",
      "        34     1314352.2094           55.42s\n",
      "        35     1301891.6167           53.87s\n",
      "        36     1292416.5856           52.34s\n",
      "        37     1282439.9606           50.78s\n",
      "        38     1270597.2890           49.25s\n",
      "        39     1261367.7979           47.68s\n",
      "        40     1254032.8603           46.13s\n",
      "        41     1245632.6099           44.59s\n",
      "        42     1237799.0853           43.07s\n",
      "        43     1230875.2403           41.53s\n",
      "        44     1223286.0026           39.97s\n",
      "        45     1213790.9170           38.44s\n",
      "        46     1208042.4435           36.90s\n",
      "        47     1200770.1132           35.38s\n",
      "        48     1196678.0035           33.86s\n",
      "        49     1190082.5083           32.33s\n",
      "        50     1187282.2476           30.82s\n",
      "        51     1180783.8050           29.28s\n",
      "        52     1175864.1852           27.73s\n",
      "        53     1169827.0049           26.18s\n",
      "        54     1163925.9002           24.64s\n",
      "        55     1160017.4063           23.11s\n",
      "        56     1154269.8538           21.58s\n",
      "        57     1149765.1836           20.05s\n",
      "        58     1144568.6223           18.51s\n",
      "        59     1141673.6102           16.97s\n",
      "        60     1139575.8685           15.44s\n",
      "        61     1136387.9874           13.90s\n",
      "        62     1132648.8511           12.36s\n",
      "        63     1127409.6263           10.82s\n",
      "        64     1121689.3446            9.27s\n",
      "        65     1119719.9187            7.73s\n",
      "        66     1115509.6847            6.19s\n",
      "        67     1112322.8631            4.64s\n",
      "        68     1108362.1684            3.09s\n",
      "        69     1104116.1685            1.55s\n",
      "        70     1101500.1175            0.00s\n",
      "      Iter       Train Loss   Remaining Time \n",
      "         1     2762929.9553            1.72m\n",
      "         2     2611614.2859            1.69m\n",
      "         3     2485381.0786            1.67m\n",
      "         4     2374312.6385            1.64m\n",
      "         5     2279791.0394            1.62m\n",
      "         6     2194992.4425            1.60m\n",
      "         7     2112584.2922            1.57m\n",
      "         8     2046525.0333            1.55m\n",
      "         9     1975910.3810            1.53m\n",
      "        10     1909463.4037            1.50m\n",
      "        11     1861974.5402            1.48m\n",
      "        12     1819106.0726            1.45m\n",
      "        13     1772612.1229            1.43m\n",
      "        14     1728535.8690            1.41m\n",
      "        15     1677163.1126            1.38m\n",
      "        16     1643307.1586            1.36m\n",
      "        17     1603384.5608            1.34m\n",
      "        18     1575598.4931            1.31m\n",
      "        19     1542300.8569            1.29m\n",
      "        20     1514873.6333            1.26m\n",
      "        21     1493435.6528            1.24m\n",
      "        22     1466676.6304            1.21m\n",
      "        23     1442714.4365            1.19m\n",
      "        24     1422088.4876            1.16m\n",
      "        25     1403058.0466            1.14m\n",
      "        26     1383772.3019            1.11m\n",
      "        27     1368924.3229            1.09m\n",
      "        28     1351579.5194            1.06m\n",
      "        29     1335820.9763            1.04m\n",
      "        30     1319608.5393            1.01m\n",
      "        31     1305784.4803           59.25s\n",
      "        32     1293513.3677           57.75s\n",
      "        33     1283332.8319           56.23s\n",
      "        34     1271668.1632           54.74s\n",
      "        35     1263110.4175           53.23s\n",
      "        36     1250444.4748           51.73s\n",
      "        37     1239996.0575           50.21s\n",
      "        38     1231081.0907           48.71s\n",
      "        39     1221476.8061           47.20s\n",
      "        40     1212567.1693           45.71s\n",
      "        41     1204312.8003           44.18s\n",
      "        42     1197621.3072           42.68s\n",
      "        43     1190782.5519           41.15s\n",
      "        44     1184959.3329           39.63s\n",
      "        45     1176355.8562           38.09s\n",
      "        46     1168945.3386           36.60s\n",
      "        47     1163769.0738           35.08s\n",
      "        48     1160377.4588           33.59s\n",
      "        49     1154850.1537           32.06s\n",
      "        50     1149899.9587           30.56s\n",
      "        51     1143488.0540           29.02s\n",
      "        52     1137586.8612           27.49s\n",
      "        53     1133123.1271           25.98s\n",
      "        54     1128362.6903           24.47s\n",
      "        55     1121748.2461           22.95s\n",
      "        56     1116309.6643           21.41s\n",
      "        57     1113935.9161           19.90s\n",
      "        58     1108031.9361           18.38s\n",
      "        59     1104987.4270           16.85s\n",
      "        60     1101369.4751           15.33s\n",
      "        61     1098535.8670           13.80s\n",
      "        62     1094763.3364           12.28s\n",
      "        63     1091798.9851           10.75s\n",
      "        64     1088750.2321            9.22s\n",
      "        65     1082639.4302            7.69s\n",
      "        66     1080302.8384            6.15s\n",
      "        67     1075508.2184            4.62s\n",
      "        68     1071237.4023            3.08s\n",
      "        69     1068596.7011            1.54s\n",
      "        70     1066785.7876            0.00s\n",
      "[0.4641872  0.51325345 0.43888292 0.45673988 0.45699118]\n",
      "Mean cross validation test score: 0.466010925904454\n",
      "Mean cross validation train score: 0.5220901847337615\n",
      "Standard deviation in cv scores: 0.025053619956442386\n"
     ]
    }
   ],
   "source": [
    "#Cross validation evaluation\n",
    "cv_scores_test= cross_val_score(reg_gb,X_test,y_test,cv=5)\n",
    "cv_scores_train= cross_val_score(reg_gb,X_train,y_train,cv=5)\n",
    "print(cv_scores_test)\n",
    "cv_scores_gb_test= cv_scores_test.mean()\n",
    "cv_scores_gb_train= cv_scores_train.mean()\n",
    "cv_scores_std_gb= cv_scores_test.std()\n",
    "print ('Mean cross validation test score: ' +str(cv_scores_gb_test))\n",
    "print ('Mean cross validation train score: ' +str(cv_scores_gb_train))\n",
    "print ('Standard deviation in cv scores: ' +str(cv_scores_std_gb))"
   ]
  },
  {
   "cell_type": "code",
   "execution_count": 141,
   "metadata": {},
   "outputs": [],
   "source": [
    "#Execution of Gradian Boosting using xgboost\n",
    "import xgboost as xg"
   ]
  },
  {
   "cell_type": "code",
   "execution_count": 142,
   "metadata": {},
   "outputs": [
    {
     "name": "stdout",
     "output_type": "stream",
     "text": [
      "[22:34:55] WARNING: C:/Users/Administrator/workspace/xgboost-win64_release_1.4.0/src/objective/regression_obj.cu:171: reg:linear is now deprecated in favor of reg:squarederror.\n"
     ]
    },
    {
     "data": {
      "text/plain": [
       "XGBRegressor(base_score=0.5, booster='gbtree', colsample_bylevel=1,\n",
       "             colsample_bynode=1, colsample_bytree=1, gamma=0, gpu_id=-1,\n",
       "             importance_type='gain', interaction_constraints='',\n",
       "             learning_rate=0.300000012, max_delta_step=0, max_depth=6,\n",
       "             min_child_weight=1, missing=nan, monotone_constraints='()',\n",
       "             n_estimators=100, n_jobs=8, num_parallel_tree=1,\n",
       "             objective='reg:linear', random_state=0, reg_alpha=0, reg_lambda=1,\n",
       "             scale_pos_weight=1, subsample=1, tree_method='exact',\n",
       "             validate_parameters=1, verbosity=None)"
      ]
     },
     "execution_count": 142,
     "metadata": {},
     "output_type": "execute_result"
    }
   ],
   "source": [
    "#instantiate XGBRegressor\n",
    "reg_xgb=xg.XGBRegressor(objective='reg:linear')\n",
    "\n",
    "#fitting the model \n",
    "reg_xgb.fit(X_train,y_train)"
   ]
  },
  {
   "cell_type": "code",
   "execution_count": 144,
   "metadata": {},
   "outputs": [],
   "source": [
    "#prediction using the model\n",
    "y_pred_xgb=reg_xgb.predict(X_test)"
   ]
  },
  {
   "cell_type": "code",
   "execution_count": 145,
   "metadata": {},
   "outputs": [],
   "source": [
    "#evaluation of the model\n",
    "mae_xgb=mean_absolute_error(y_test, y_pred_xgb)\n",
    "rmse_xgb=mean_squared_error(y_test, y_pred_xgb, squared = False)\n",
    "r2_score_xgb=r2_score(y_test, y_pred_xgb)"
   ]
  },
  {
   "cell_type": "code",
   "execution_count": 146,
   "metadata": {},
   "outputs": [
    {
     "name": "stdout",
     "output_type": "stream",
     "text": [
      "Mean absolute error:  922.5231720815032\n",
      "Root Mean Squared error:  1263.7067113000978\n",
      "R^2 score:  0.4298613557706942\n"
     ]
    }
   ],
   "source": [
    "print(\"Mean absolute error: \", mae_xgb)\n",
    "print(\"Root Mean Squared error: \", rmse_xgb)\n",
    "print(\"R^2 score: \", r2_score_xgb)"
   ]
  },
  {
   "cell_type": "code",
   "execution_count": 147,
   "metadata": {},
   "outputs": [
    {
     "name": "stderr",
     "output_type": "stream",
     "text": [
      "[Parallel(n_jobs=1)]: Using backend SequentialBackend with 1 concurrent workers.\n"
     ]
    },
    {
     "name": "stdout",
     "output_type": "stream",
     "text": [
      "[CV]  ................................................................\n",
      "[10:24:18] WARNING: C:/Users/Administrator/workspace/xgboost-win64_release_1.4.0/src/objective/regression_obj.cu:171: reg:linear is now deprecated in favor of reg:squarederror.\n",
      "[CV] .................................... , score=0.401, total=  14.3s\n",
      "[CV]  ................................................................\n",
      "[10:24:33] WARNING: C:/Users/Administrator/workspace/xgboost-win64_release_1.4.0/src/objective/regression_obj.cu:171: reg:linear is now deprecated in favor of reg:squarederror.\n"
     ]
    },
    {
     "name": "stderr",
     "output_type": "stream",
     "text": [
      "[Parallel(n_jobs=1)]: Done   1 out of   1 | elapsed:   14.2s remaining:    0.0s\n"
     ]
    },
    {
     "name": "stdout",
     "output_type": "stream",
     "text": [
      "[CV] .................................... , score=0.468, total=  15.2s\n",
      "[CV]  ................................................................\n",
      "[10:24:48] WARNING: C:/Users/Administrator/workspace/xgboost-win64_release_1.4.0/src/objective/regression_obj.cu:171: reg:linear is now deprecated in favor of reg:squarederror.\n"
     ]
    },
    {
     "name": "stderr",
     "output_type": "stream",
     "text": [
      "[Parallel(n_jobs=1)]: Done   2 out of   2 | elapsed:   29.3s remaining:    0.0s\n"
     ]
    },
    {
     "name": "stdout",
     "output_type": "stream",
     "text": [
      "[CV] .................................... , score=0.347, total=  15.6s\n",
      "[CV]  ................................................................\n",
      "[10:25:03] WARNING: C:/Users/Administrator/workspace/xgboost-win64_release_1.4.0/src/objective/regression_obj.cu:171: reg:linear is now deprecated in favor of reg:squarederror.\n",
      "[CV] .................................... , score=0.364, total=  15.4s\n",
      "[CV]  ................................................................\n",
      "[10:25:19] WARNING: C:/Users/Administrator/workspace/xgboost-win64_release_1.4.0/src/objective/regression_obj.cu:171: reg:linear is now deprecated in favor of reg:squarederror.\n",
      "[CV] .................................... , score=0.352, total=  15.4s\n",
      "[CV]  ................................................................\n",
      "[10:25:34] WARNING: C:/Users/Administrator/workspace/xgboost-win64_release_1.4.0/src/objective/regression_obj.cu:171: reg:linear is now deprecated in favor of reg:squarederror.\n"
     ]
    },
    {
     "name": "stderr",
     "output_type": "stream",
     "text": [
      "[Parallel(n_jobs=1)]: Done   5 out of   5 | elapsed:  1.3min finished\n",
      "[Parallel(n_jobs=1)]: Using backend SequentialBackend with 1 concurrent workers.\n"
     ]
    },
    {
     "name": "stdout",
     "output_type": "stream",
     "text": [
      "[CV] .................................... , score=0.477, total=  35.3s\n",
      "[CV]  ................................................................\n",
      "[10:26:10] WARNING: C:/Users/Administrator/workspace/xgboost-win64_release_1.4.0/src/objective/regression_obj.cu:171: reg:linear is now deprecated in favor of reg:squarederror.\n"
     ]
    },
    {
     "name": "stderr",
     "output_type": "stream",
     "text": [
      "[Parallel(n_jobs=1)]: Done   1 out of   1 | elapsed:   35.3s remaining:    0.0s\n"
     ]
    },
    {
     "name": "stdout",
     "output_type": "stream",
     "text": [
      "[CV] .................................... , score=0.468, total=  37.2s\n",
      "[CV]  ................................................................\n",
      "[10:26:47] WARNING: C:/Users/Administrator/workspace/xgboost-win64_release_1.4.0/src/objective/regression_obj.cu:171: reg:linear is now deprecated in favor of reg:squarederror.\n"
     ]
    },
    {
     "name": "stderr",
     "output_type": "stream",
     "text": [
      "[Parallel(n_jobs=1)]: Done   2 out of   2 | elapsed:  1.2min remaining:    0.0s\n"
     ]
    },
    {
     "name": "stdout",
     "output_type": "stream",
     "text": [
      "[CV] .................................... , score=0.411, total=  38.4s\n",
      "[CV]  ................................................................\n",
      "[10:27:25] WARNING: C:/Users/Administrator/workspace/xgboost-win64_release_1.4.0/src/objective/regression_obj.cu:171: reg:linear is now deprecated in favor of reg:squarederror.\n",
      "[CV] .................................... , score=0.485, total=  37.1s\n",
      "[CV]  ................................................................\n",
      "[10:28:03] WARNING: C:/Users/Administrator/workspace/xgboost-win64_release_1.4.0/src/objective/regression_obj.cu:171: reg:linear is now deprecated in favor of reg:squarederror.\n",
      "[CV] .................................... , score=0.433, total=  38.1s\n",
      "[0.4009753  0.46802258 0.34664338 0.364117   0.35200822]\n",
      "Mean cross validation test score: 0.38635329412534414\n",
      "Mean cross validation train score: 0.4547443954086378\n",
      "Standard deviation in cv scores: 0.04502130389672374\n",
      "Wall time: 4min 22s\n"
     ]
    },
    {
     "name": "stderr",
     "output_type": "stream",
     "text": [
      "[Parallel(n_jobs=1)]: Done   5 out of   5 | elapsed:  3.1min finished\n"
     ]
    }
   ],
   "source": [
    "%%time\n",
    "cv_scores_test= cross_val_score(reg_xgb,X_test,y_test,cv=5, verbose=3) # what should be the value of scoring parameter?\n",
    "cv_scores_train= cross_val_score(reg_xgb,X_train,y_train,cv=5, verbose=3)   # what should be the value of  scoring parameter?\n",
    "print(cv_scores_test)\n",
    "cv_scores_xgb_test= cv_scores_test.mean()\n",
    "cv_scores_xgb_train= cv_scores_train.mean()\n",
    "cv_scores_std_xgb= cv_scores_test.std()\n",
    "print ('Mean cross validation test score: ' +str(cv_scores_xgb_test))\n",
    "print ('Mean cross validation train score: ' +str(cv_scores_xgb_train))\n",
    "print ('Standard deviation in cv scores: ' +str(cv_scores_std_xgb))"
   ]
  },
  {
   "cell_type": "code",
   "execution_count": 148,
   "metadata": {},
   "outputs": [
    {
     "name": "stdout",
     "output_type": "stream",
     "text": [
      "        Algorithm  Model RMSE Score\n",
      "0             KNN       1551.969324\n",
      "1             SVM       1284.726944\n",
      "2   Random Forest       1701.693238\n",
      "3  Gradient Boost       1201.573911\n",
      "4        XG Boost       1263.706711\n",
      "        Algorithm  Train Score  Test Score\n",
      "0             KNN     0.111627    0.084609\n",
      "1             SVM    -0.052350   -0.051806\n",
      "2   Random Forest     0.384485    0.384485\n",
      "3  Gradient Boost     0.522090    0.466011\n",
      "4        XG Boost     0.454744    0.386353\n"
     ]
    }
   ],
   "source": [
    "#Comparison of the model\n",
    "mylabels = [\"KNN\", \"SVM\", \"Random Forest\", \"Gradient Boost\", \"XG Boost\"]\n",
    "score_test=[cv_scores_knn_test, cv_scores_svm_test, cv_scores_rf_test, cv_scores_gb_test, cv_scores_xgb_test]\n",
    "score_train=[cv_scores_knn_train, cv_scores_svm_train, cv_scores_rf_test, cv_scores_gb_train, cv_scores_xgb_train]\n",
    "rmse_score= [rmse_knn, rmse_rf, rmse_svm, rmse_gb, rmse_xgb]\n",
    "\n",
    "#Displaying the table containg rmse of different models created\n",
    "score_tab_rmse=pd.DataFrame(list(zip(mylabels, rmse_score)), columns = [\"Algorithm\", \"Model RMSE Score\"])\n",
    "\n",
    "#Display table for training and test scores of different model\n",
    "score_tab = pd.DataFrame(list(zip(mylabels, score_train, score_test)), columns = [\"Algorithm\", \"Train Score\", \"Test Score\"])\n",
    "print(score_tab_rmse)\n",
    "print(score_tab)"
   ]
  },
  {
   "cell_type": "markdown",
   "metadata": {},
   "source": [
    "## Applying Grid search CV for hyperparameter Tuning"
   ]
  },
  {
   "cell_type": "code",
   "execution_count": null,
   "metadata": {},
   "outputs": [],
   "source": [
    "#from sklearn.model_selection import GridSearchCV\n",
    "#rf = RandomForestRegressor(max_features='auto', random_state=1)\n",
    "#param_grid={\"min_samples_leaf\" : [1, 5, 10], \"min_samples_split\" : [2, 4, 10,12], \"n_estimators\": [50, 70,120,150]}\n",
    "#gs=GridSearchCV(estimator=rf, param_grid=param_grid, scoring='neg_root_mean_squared_error', cv=3, verbose=2)\n",
    "#gs=gs.fit(X_train,y_train)\n",
    "#print(gs.best_estimator_)\n",
    "#print(gs.best_score_)"
   ]
  },
  {
   "cell_type": "code",
   "execution_count": null,
   "metadata": {},
   "outputs": [],
   "source": [
    "#metrics.SCORERS.keys()"
   ]
  },
  {
   "cell_type": "markdown",
   "metadata": {},
   "source": [
    "## Applying the models to the test data for prediction"
   ]
  },
  {
   "cell_type": "code",
   "execution_count": 246,
   "metadata": {},
   "outputs": [
    {
     "data": {
      "text/html": [
       "<div>\n",
       "<style scoped>\n",
       "    .dataframe tbody tr th:only-of-type {\n",
       "        vertical-align: middle;\n",
       "    }\n",
       "\n",
       "    .dataframe tbody tr th {\n",
       "        vertical-align: top;\n",
       "    }\n",
       "\n",
       "    .dataframe thead th {\n",
       "        text-align: right;\n",
       "    }\n",
       "</style>\n",
       "<table border=\"1\" class=\"dataframe\">\n",
       "  <thead>\n",
       "    <tr style=\"text-align: right;\">\n",
       "      <th></th>\n",
       "      <th>Item_Identifier</th>\n",
       "      <th>Item_Weight</th>\n",
       "      <th>Item_Fat_Content</th>\n",
       "      <th>Item_Visibility</th>\n",
       "      <th>Item_Type</th>\n",
       "      <th>Item_MRP</th>\n",
       "      <th>Outlet_Identifier</th>\n",
       "      <th>Outlet_Establishment_Year</th>\n",
       "      <th>Outlet_Size</th>\n",
       "      <th>Outlet_Location_Type</th>\n",
       "      <th>Outlet_Type</th>\n",
       "    </tr>\n",
       "  </thead>\n",
       "  <tbody>\n",
       "    <tr>\n",
       "      <th>0</th>\n",
       "      <td>FDW58</td>\n",
       "      <td>20.750</td>\n",
       "      <td>Low Fat</td>\n",
       "      <td>0.007565</td>\n",
       "      <td>Snack Foods</td>\n",
       "      <td>107.8622</td>\n",
       "      <td>OUT049</td>\n",
       "      <td>1999</td>\n",
       "      <td>Medium</td>\n",
       "      <td>Tier 1</td>\n",
       "      <td>Supermarket Type1</td>\n",
       "    </tr>\n",
       "    <tr>\n",
       "      <th>1</th>\n",
       "      <td>FDW14</td>\n",
       "      <td>8.300</td>\n",
       "      <td>reg</td>\n",
       "      <td>0.038428</td>\n",
       "      <td>Dairy</td>\n",
       "      <td>87.3198</td>\n",
       "      <td>OUT017</td>\n",
       "      <td>2007</td>\n",
       "      <td>NaN</td>\n",
       "      <td>Tier 2</td>\n",
       "      <td>Supermarket Type1</td>\n",
       "    </tr>\n",
       "    <tr>\n",
       "      <th>2</th>\n",
       "      <td>NCN55</td>\n",
       "      <td>14.600</td>\n",
       "      <td>Low Fat</td>\n",
       "      <td>0.099575</td>\n",
       "      <td>Others</td>\n",
       "      <td>241.7538</td>\n",
       "      <td>OUT010</td>\n",
       "      <td>1998</td>\n",
       "      <td>NaN</td>\n",
       "      <td>Tier 3</td>\n",
       "      <td>Grocery Store</td>\n",
       "    </tr>\n",
       "    <tr>\n",
       "      <th>3</th>\n",
       "      <td>FDQ58</td>\n",
       "      <td>7.315</td>\n",
       "      <td>Low Fat</td>\n",
       "      <td>0.015388</td>\n",
       "      <td>Snack Foods</td>\n",
       "      <td>155.0340</td>\n",
       "      <td>OUT017</td>\n",
       "      <td>2007</td>\n",
       "      <td>NaN</td>\n",
       "      <td>Tier 2</td>\n",
       "      <td>Supermarket Type1</td>\n",
       "    </tr>\n",
       "    <tr>\n",
       "      <th>4</th>\n",
       "      <td>FDY38</td>\n",
       "      <td>NaN</td>\n",
       "      <td>Regular</td>\n",
       "      <td>0.118599</td>\n",
       "      <td>Dairy</td>\n",
       "      <td>234.2300</td>\n",
       "      <td>OUT027</td>\n",
       "      <td>1985</td>\n",
       "      <td>Medium</td>\n",
       "      <td>Tier 3</td>\n",
       "      <td>Supermarket Type3</td>\n",
       "    </tr>\n",
       "    <tr>\n",
       "      <th>...</th>\n",
       "      <td>...</td>\n",
       "      <td>...</td>\n",
       "      <td>...</td>\n",
       "      <td>...</td>\n",
       "      <td>...</td>\n",
       "      <td>...</td>\n",
       "      <td>...</td>\n",
       "      <td>...</td>\n",
       "      <td>...</td>\n",
       "      <td>...</td>\n",
       "      <td>...</td>\n",
       "    </tr>\n",
       "    <tr>\n",
       "      <th>5676</th>\n",
       "      <td>FDB58</td>\n",
       "      <td>10.500</td>\n",
       "      <td>Regular</td>\n",
       "      <td>0.013496</td>\n",
       "      <td>Snack Foods</td>\n",
       "      <td>141.3154</td>\n",
       "      <td>OUT046</td>\n",
       "      <td>1997</td>\n",
       "      <td>Small</td>\n",
       "      <td>Tier 1</td>\n",
       "      <td>Supermarket Type1</td>\n",
       "    </tr>\n",
       "    <tr>\n",
       "      <th>5677</th>\n",
       "      <td>FDD47</td>\n",
       "      <td>7.600</td>\n",
       "      <td>Regular</td>\n",
       "      <td>0.142991</td>\n",
       "      <td>Starchy Foods</td>\n",
       "      <td>169.1448</td>\n",
       "      <td>OUT018</td>\n",
       "      <td>2009</td>\n",
       "      <td>Medium</td>\n",
       "      <td>Tier 3</td>\n",
       "      <td>Supermarket Type2</td>\n",
       "    </tr>\n",
       "    <tr>\n",
       "      <th>5678</th>\n",
       "      <td>NCO17</td>\n",
       "      <td>10.000</td>\n",
       "      <td>Low Fat</td>\n",
       "      <td>0.073529</td>\n",
       "      <td>Health and Hygiene</td>\n",
       "      <td>118.7440</td>\n",
       "      <td>OUT045</td>\n",
       "      <td>2002</td>\n",
       "      <td>NaN</td>\n",
       "      <td>Tier 2</td>\n",
       "      <td>Supermarket Type1</td>\n",
       "    </tr>\n",
       "    <tr>\n",
       "      <th>5679</th>\n",
       "      <td>FDJ26</td>\n",
       "      <td>15.300</td>\n",
       "      <td>Regular</td>\n",
       "      <td>0.000000</td>\n",
       "      <td>Canned</td>\n",
       "      <td>214.6218</td>\n",
       "      <td>OUT017</td>\n",
       "      <td>2007</td>\n",
       "      <td>NaN</td>\n",
       "      <td>Tier 2</td>\n",
       "      <td>Supermarket Type1</td>\n",
       "    </tr>\n",
       "    <tr>\n",
       "      <th>5680</th>\n",
       "      <td>FDU37</td>\n",
       "      <td>9.500</td>\n",
       "      <td>Regular</td>\n",
       "      <td>0.104720</td>\n",
       "      <td>Canned</td>\n",
       "      <td>79.7960</td>\n",
       "      <td>OUT045</td>\n",
       "      <td>2002</td>\n",
       "      <td>NaN</td>\n",
       "      <td>Tier 2</td>\n",
       "      <td>Supermarket Type1</td>\n",
       "    </tr>\n",
       "  </tbody>\n",
       "</table>\n",
       "<p>5681 rows × 11 columns</p>\n",
       "</div>"
      ],
      "text/plain": [
       "     Item_Identifier  Item_Weight Item_Fat_Content  Item_Visibility  \\\n",
       "0              FDW58       20.750          Low Fat         0.007565   \n",
       "1              FDW14        8.300              reg         0.038428   \n",
       "2              NCN55       14.600          Low Fat         0.099575   \n",
       "3              FDQ58        7.315          Low Fat         0.015388   \n",
       "4              FDY38          NaN          Regular         0.118599   \n",
       "...              ...          ...              ...              ...   \n",
       "5676           FDB58       10.500          Regular         0.013496   \n",
       "5677           FDD47        7.600          Regular         0.142991   \n",
       "5678           NCO17       10.000          Low Fat         0.073529   \n",
       "5679           FDJ26       15.300          Regular         0.000000   \n",
       "5680           FDU37        9.500          Regular         0.104720   \n",
       "\n",
       "               Item_Type  Item_MRP Outlet_Identifier  \\\n",
       "0            Snack Foods  107.8622            OUT049   \n",
       "1                  Dairy   87.3198            OUT017   \n",
       "2                 Others  241.7538            OUT010   \n",
       "3            Snack Foods  155.0340            OUT017   \n",
       "4                  Dairy  234.2300            OUT027   \n",
       "...                  ...       ...               ...   \n",
       "5676         Snack Foods  141.3154            OUT046   \n",
       "5677       Starchy Foods  169.1448            OUT018   \n",
       "5678  Health and Hygiene  118.7440            OUT045   \n",
       "5679              Canned  214.6218            OUT017   \n",
       "5680              Canned   79.7960            OUT045   \n",
       "\n",
       "      Outlet_Establishment_Year Outlet_Size Outlet_Location_Type  \\\n",
       "0                          1999      Medium               Tier 1   \n",
       "1                          2007         NaN               Tier 2   \n",
       "2                          1998         NaN               Tier 3   \n",
       "3                          2007         NaN               Tier 2   \n",
       "4                          1985      Medium               Tier 3   \n",
       "...                         ...         ...                  ...   \n",
       "5676                       1997       Small               Tier 1   \n",
       "5677                       2009      Medium               Tier 3   \n",
       "5678                       2002         NaN               Tier 2   \n",
       "5679                       2007         NaN               Tier 2   \n",
       "5680                       2002         NaN               Tier 2   \n",
       "\n",
       "            Outlet_Type  \n",
       "0     Supermarket Type1  \n",
       "1     Supermarket Type1  \n",
       "2         Grocery Store  \n",
       "3     Supermarket Type1  \n",
       "4     Supermarket Type3  \n",
       "...                 ...  \n",
       "5676  Supermarket Type1  \n",
       "5677  Supermarket Type2  \n",
       "5678  Supermarket Type1  \n",
       "5679  Supermarket Type1  \n",
       "5680  Supermarket Type1  \n",
       "\n",
       "[5681 rows x 11 columns]"
      ]
     },
     "execution_count": 246,
     "metadata": {},
     "output_type": "execute_result"
    }
   ],
   "source": [
    "#load the test data\n",
    "df_test=pd.read_csv(\"test_AbJTz2l.csv\")\n",
    "df_test"
   ]
  },
  {
   "cell_type": "code",
   "execution_count": 247,
   "metadata": {},
   "outputs": [
    {
     "name": "stdout",
     "output_type": "stream",
     "text": [
      "<class 'pandas.core.frame.DataFrame'>\n",
      "RangeIndex: 5681 entries, 0 to 5680\n",
      "Data columns (total 11 columns):\n",
      " #   Column                     Non-Null Count  Dtype  \n",
      "---  ------                     --------------  -----  \n",
      " 0   Item_Identifier            5681 non-null   object \n",
      " 1   Item_Weight                4705 non-null   float64\n",
      " 2   Item_Fat_Content           5681 non-null   object \n",
      " 3   Item_Visibility            5681 non-null   float64\n",
      " 4   Item_Type                  5681 non-null   object \n",
      " 5   Item_MRP                   5681 non-null   float64\n",
      " 6   Outlet_Identifier          5681 non-null   object \n",
      " 7   Outlet_Establishment_Year  5681 non-null   int64  \n",
      " 8   Outlet_Size                4075 non-null   object \n",
      " 9   Outlet_Location_Type       5681 non-null   object \n",
      " 10  Outlet_Type                5681 non-null   object \n",
      "dtypes: float64(3), int64(1), object(7)\n",
      "memory usage: 488.3+ KB\n"
     ]
    }
   ],
   "source": [
    "df_test.info()"
   ]
  },
  {
   "cell_type": "code",
   "execution_count": 248,
   "metadata": {},
   "outputs": [
    {
     "data": {
      "text/plain": [
       "Item_Identifier         1543\n",
       "Item_Fat_Content           5\n",
       "Item_Type                 16\n",
       "Outlet_Size                3\n",
       "Outlet_Location_Type       3\n",
       "Outlet_Type                4\n",
       "Item_Visibility         5277\n",
       "dtype: int64"
      ]
     },
     "execution_count": 248,
     "metadata": {},
     "output_type": "execute_result"
    }
   ],
   "source": [
    "df_test[['Item_Identifier','Item_Fat_Content', 'Item_Type', 'Outlet_Size','Outlet_Location_Type','Outlet_Type', \"Item_Visibility\"]].nunique()"
   ]
  },
  {
   "cell_type": "code",
   "execution_count": 249,
   "metadata": {
    "scrolled": false
   },
   "outputs": [],
   "source": [
    "#Checking for \"NaN\" in \"Item_Weight\" column\n",
    "#df_test[df_test['Item_Weight'].isna()]"
   ]
  },
  {
   "cell_type": "code",
   "execution_count": 250,
   "metadata": {},
   "outputs": [],
   "source": [
    "# replacing \"NaN\" of the following columns with suitable measures so that the model designing can be done smoothly\n",
    "# Item_Weight with \"Mean of all other available values\"\n",
    "# Outlet_Type with \"Median of all other available values\"\n",
    "df_test['Item_Weight']=df_test[\"Item_Weight\"].replace('nan',np.nan)"
   ]
  },
  {
   "cell_type": "code",
   "execution_count": 251,
   "metadata": {},
   "outputs": [],
   "source": [
    "df_test[\"Item_Weight\"]=df_test[\"Item_Weight\"].fillna(df_test[\"Item_Weight\"].mean())"
   ]
  },
  {
   "cell_type": "code",
   "execution_count": 252,
   "metadata": {},
   "outputs": [
    {
     "data": {
      "text/plain": [
       "12.695633368756402"
      ]
     },
     "execution_count": 252,
     "metadata": {},
     "output_type": "execute_result"
    }
   ],
   "source": [
    "df_test[\"Item_Weight\"].mean()"
   ]
  },
  {
   "cell_type": "code",
   "execution_count": 253,
   "metadata": {},
   "outputs": [
    {
     "data": {
      "text/plain": [
       "0"
      ]
     },
     "execution_count": 253,
     "metadata": {},
     "output_type": "execute_result"
    }
   ],
   "source": [
    "df_test[\"Item_Weight\"].isna().sum()"
   ]
  },
  {
   "cell_type": "code",
   "execution_count": 254,
   "metadata": {},
   "outputs": [],
   "source": [
    "#creating dummy variables out of \"Item_Identifier\" column\n",
    "df_dum_item_ident=pd.get_dummies(df_test[\"Item_Identifier\"])"
   ]
  },
  {
   "cell_type": "code",
   "execution_count": 255,
   "metadata": {},
   "outputs": [],
   "source": [
    "df_test=pd.concat([df_test,df_dum_item_ident], axis=1)"
   ]
  },
  {
   "cell_type": "code",
   "execution_count": 256,
   "metadata": {},
   "outputs": [],
   "source": [
    "df_test[\"Item_Fat_Content\"]=df_test[\"Item_Fat_Content\"].replace(\"Low_Fat\", \"low fat\")"
   ]
  },
  {
   "cell_type": "code",
   "execution_count": 257,
   "metadata": {},
   "outputs": [],
   "source": [
    "df_test[\"Item_Fat_Content\"]=df_test[\"Item_Fat_Content\"].replace(\"LF\", \"low fat\")"
   ]
  },
  {
   "cell_type": "code",
   "execution_count": 258,
   "metadata": {},
   "outputs": [],
   "source": [
    "df_test[\"Item_Fat_Content\"]=df_test[\"Item_Fat_Content\"].replace(\"reg\", \"Regular\")"
   ]
  },
  {
   "cell_type": "code",
   "execution_count": 259,
   "metadata": {},
   "outputs": [],
   "source": [
    "df_test[\"Item_Fat_Content\"]=df_test[\"Item_Fat_Content\"].replace(\"low fat\", \"Low Fat\")"
   ]
  },
  {
   "cell_type": "code",
   "execution_count": 260,
   "metadata": {},
   "outputs": [
    {
     "data": {
      "text/plain": [
       "Low Fat    3668\n",
       "Regular    2013\n",
       "Name: Item_Fat_Content, dtype: int64"
      ]
     },
     "execution_count": 260,
     "metadata": {},
     "output_type": "execute_result"
    }
   ],
   "source": [
    "#Finding out the unique values the column \"Item_Fat_Content\" contains\n",
    "#label encoding the \"Item_Fat_Content\" column\n",
    "df_test[\"Item_Fat_Content\"].value_counts()"
   ]
  },
  {
   "cell_type": "code",
   "execution_count": 261,
   "metadata": {},
   "outputs": [
    {
     "data": {
      "text/plain": [
       "0       0\n",
       "1       1\n",
       "2       0\n",
       "3       0\n",
       "4       1\n",
       "       ..\n",
       "5676    1\n",
       "5677    1\n",
       "5678    0\n",
       "5679    1\n",
       "5680    1\n",
       "Name: Item_Fat_Content, Length: 5681, dtype: int32"
      ]
     },
     "execution_count": 261,
     "metadata": {},
     "output_type": "execute_result"
    }
   ],
   "source": [
    "#label encoding \n",
    "le=LabelEncoder()\n",
    "le.fit(df_test[\"Item_Fat_Content\"])\n",
    "le.classes_\n",
    "df_test[\"Item_Fat_Content\"]=le.transform(df_test[\"Item_Fat_Content\"])\n",
    "df_test[\"Item_Fat_Content\"]"
   ]
  },
  {
   "cell_type": "code",
   "execution_count": 262,
   "metadata": {},
   "outputs": [
    {
     "data": {
      "text/html": [
       "<div>\n",
       "<style scoped>\n",
       "    .dataframe tbody tr th:only-of-type {\n",
       "        vertical-align: middle;\n",
       "    }\n",
       "\n",
       "    .dataframe tbody tr th {\n",
       "        vertical-align: top;\n",
       "    }\n",
       "\n",
       "    .dataframe thead th {\n",
       "        text-align: right;\n",
       "    }\n",
       "</style>\n",
       "<table border=\"1\" class=\"dataframe\">\n",
       "  <thead>\n",
       "    <tr style=\"text-align: right;\">\n",
       "      <th></th>\n",
       "      <th>Item_Type_Baking Goods</th>\n",
       "      <th>Item_Type_Breads</th>\n",
       "      <th>Item_Type_Breakfast</th>\n",
       "      <th>Item_Type_Canned</th>\n",
       "      <th>Item_Type_Dairy</th>\n",
       "      <th>Item_Type_Frozen Foods</th>\n",
       "      <th>Item_Type_Fruits and Vegetables</th>\n",
       "      <th>Item_Type_Hard Drinks</th>\n",
       "      <th>Item_Type_Health and Hygiene</th>\n",
       "      <th>Item_Type_Household</th>\n",
       "      <th>Item_Type_Meat</th>\n",
       "      <th>Item_Type_Others</th>\n",
       "      <th>Item_Type_Seafood</th>\n",
       "      <th>Item_Type_Snack Foods</th>\n",
       "      <th>Item_Type_Soft Drinks</th>\n",
       "      <th>Item_Type_Starchy Foods</th>\n",
       "    </tr>\n",
       "  </thead>\n",
       "  <tbody>\n",
       "    <tr>\n",
       "      <th>0</th>\n",
       "      <td>0</td>\n",
       "      <td>0</td>\n",
       "      <td>0</td>\n",
       "      <td>0</td>\n",
       "      <td>0</td>\n",
       "      <td>0</td>\n",
       "      <td>0</td>\n",
       "      <td>0</td>\n",
       "      <td>0</td>\n",
       "      <td>0</td>\n",
       "      <td>0</td>\n",
       "      <td>0</td>\n",
       "      <td>0</td>\n",
       "      <td>1</td>\n",
       "      <td>0</td>\n",
       "      <td>0</td>\n",
       "    </tr>\n",
       "    <tr>\n",
       "      <th>1</th>\n",
       "      <td>0</td>\n",
       "      <td>0</td>\n",
       "      <td>0</td>\n",
       "      <td>0</td>\n",
       "      <td>1</td>\n",
       "      <td>0</td>\n",
       "      <td>0</td>\n",
       "      <td>0</td>\n",
       "      <td>0</td>\n",
       "      <td>0</td>\n",
       "      <td>0</td>\n",
       "      <td>0</td>\n",
       "      <td>0</td>\n",
       "      <td>0</td>\n",
       "      <td>0</td>\n",
       "      <td>0</td>\n",
       "    </tr>\n",
       "    <tr>\n",
       "      <th>2</th>\n",
       "      <td>0</td>\n",
       "      <td>0</td>\n",
       "      <td>0</td>\n",
       "      <td>0</td>\n",
       "      <td>0</td>\n",
       "      <td>0</td>\n",
       "      <td>0</td>\n",
       "      <td>0</td>\n",
       "      <td>0</td>\n",
       "      <td>0</td>\n",
       "      <td>0</td>\n",
       "      <td>1</td>\n",
       "      <td>0</td>\n",
       "      <td>0</td>\n",
       "      <td>0</td>\n",
       "      <td>0</td>\n",
       "    </tr>\n",
       "    <tr>\n",
       "      <th>3</th>\n",
       "      <td>0</td>\n",
       "      <td>0</td>\n",
       "      <td>0</td>\n",
       "      <td>0</td>\n",
       "      <td>0</td>\n",
       "      <td>0</td>\n",
       "      <td>0</td>\n",
       "      <td>0</td>\n",
       "      <td>0</td>\n",
       "      <td>0</td>\n",
       "      <td>0</td>\n",
       "      <td>0</td>\n",
       "      <td>0</td>\n",
       "      <td>1</td>\n",
       "      <td>0</td>\n",
       "      <td>0</td>\n",
       "    </tr>\n",
       "    <tr>\n",
       "      <th>4</th>\n",
       "      <td>0</td>\n",
       "      <td>0</td>\n",
       "      <td>0</td>\n",
       "      <td>0</td>\n",
       "      <td>1</td>\n",
       "      <td>0</td>\n",
       "      <td>0</td>\n",
       "      <td>0</td>\n",
       "      <td>0</td>\n",
       "      <td>0</td>\n",
       "      <td>0</td>\n",
       "      <td>0</td>\n",
       "      <td>0</td>\n",
       "      <td>0</td>\n",
       "      <td>0</td>\n",
       "      <td>0</td>\n",
       "    </tr>\n",
       "    <tr>\n",
       "      <th>...</th>\n",
       "      <td>...</td>\n",
       "      <td>...</td>\n",
       "      <td>...</td>\n",
       "      <td>...</td>\n",
       "      <td>...</td>\n",
       "      <td>...</td>\n",
       "      <td>...</td>\n",
       "      <td>...</td>\n",
       "      <td>...</td>\n",
       "      <td>...</td>\n",
       "      <td>...</td>\n",
       "      <td>...</td>\n",
       "      <td>...</td>\n",
       "      <td>...</td>\n",
       "      <td>...</td>\n",
       "      <td>...</td>\n",
       "    </tr>\n",
       "    <tr>\n",
       "      <th>5676</th>\n",
       "      <td>0</td>\n",
       "      <td>0</td>\n",
       "      <td>0</td>\n",
       "      <td>0</td>\n",
       "      <td>0</td>\n",
       "      <td>0</td>\n",
       "      <td>0</td>\n",
       "      <td>0</td>\n",
       "      <td>0</td>\n",
       "      <td>0</td>\n",
       "      <td>0</td>\n",
       "      <td>0</td>\n",
       "      <td>0</td>\n",
       "      <td>1</td>\n",
       "      <td>0</td>\n",
       "      <td>0</td>\n",
       "    </tr>\n",
       "    <tr>\n",
       "      <th>5677</th>\n",
       "      <td>0</td>\n",
       "      <td>0</td>\n",
       "      <td>0</td>\n",
       "      <td>0</td>\n",
       "      <td>0</td>\n",
       "      <td>0</td>\n",
       "      <td>0</td>\n",
       "      <td>0</td>\n",
       "      <td>0</td>\n",
       "      <td>0</td>\n",
       "      <td>0</td>\n",
       "      <td>0</td>\n",
       "      <td>0</td>\n",
       "      <td>0</td>\n",
       "      <td>0</td>\n",
       "      <td>1</td>\n",
       "    </tr>\n",
       "    <tr>\n",
       "      <th>5678</th>\n",
       "      <td>0</td>\n",
       "      <td>0</td>\n",
       "      <td>0</td>\n",
       "      <td>0</td>\n",
       "      <td>0</td>\n",
       "      <td>0</td>\n",
       "      <td>0</td>\n",
       "      <td>0</td>\n",
       "      <td>1</td>\n",
       "      <td>0</td>\n",
       "      <td>0</td>\n",
       "      <td>0</td>\n",
       "      <td>0</td>\n",
       "      <td>0</td>\n",
       "      <td>0</td>\n",
       "      <td>0</td>\n",
       "    </tr>\n",
       "    <tr>\n",
       "      <th>5679</th>\n",
       "      <td>0</td>\n",
       "      <td>0</td>\n",
       "      <td>0</td>\n",
       "      <td>1</td>\n",
       "      <td>0</td>\n",
       "      <td>0</td>\n",
       "      <td>0</td>\n",
       "      <td>0</td>\n",
       "      <td>0</td>\n",
       "      <td>0</td>\n",
       "      <td>0</td>\n",
       "      <td>0</td>\n",
       "      <td>0</td>\n",
       "      <td>0</td>\n",
       "      <td>0</td>\n",
       "      <td>0</td>\n",
       "    </tr>\n",
       "    <tr>\n",
       "      <th>5680</th>\n",
       "      <td>0</td>\n",
       "      <td>0</td>\n",
       "      <td>0</td>\n",
       "      <td>1</td>\n",
       "      <td>0</td>\n",
       "      <td>0</td>\n",
       "      <td>0</td>\n",
       "      <td>0</td>\n",
       "      <td>0</td>\n",
       "      <td>0</td>\n",
       "      <td>0</td>\n",
       "      <td>0</td>\n",
       "      <td>0</td>\n",
       "      <td>0</td>\n",
       "      <td>0</td>\n",
       "      <td>0</td>\n",
       "    </tr>\n",
       "  </tbody>\n",
       "</table>\n",
       "<p>5681 rows × 16 columns</p>\n",
       "</div>"
      ],
      "text/plain": [
       "      Item_Type_Baking Goods  Item_Type_Breads  Item_Type_Breakfast  \\\n",
       "0                          0                 0                    0   \n",
       "1                          0                 0                    0   \n",
       "2                          0                 0                    0   \n",
       "3                          0                 0                    0   \n",
       "4                          0                 0                    0   \n",
       "...                      ...               ...                  ...   \n",
       "5676                       0                 0                    0   \n",
       "5677                       0                 0                    0   \n",
       "5678                       0                 0                    0   \n",
       "5679                       0                 0                    0   \n",
       "5680                       0                 0                    0   \n",
       "\n",
       "      Item_Type_Canned  Item_Type_Dairy  Item_Type_Frozen Foods  \\\n",
       "0                    0                0                       0   \n",
       "1                    0                1                       0   \n",
       "2                    0                0                       0   \n",
       "3                    0                0                       0   \n",
       "4                    0                1                       0   \n",
       "...                ...              ...                     ...   \n",
       "5676                 0                0                       0   \n",
       "5677                 0                0                       0   \n",
       "5678                 0                0                       0   \n",
       "5679                 1                0                       0   \n",
       "5680                 1                0                       0   \n",
       "\n",
       "      Item_Type_Fruits and Vegetables  Item_Type_Hard Drinks  \\\n",
       "0                                   0                      0   \n",
       "1                                   0                      0   \n",
       "2                                   0                      0   \n",
       "3                                   0                      0   \n",
       "4                                   0                      0   \n",
       "...                               ...                    ...   \n",
       "5676                                0                      0   \n",
       "5677                                0                      0   \n",
       "5678                                0                      0   \n",
       "5679                                0                      0   \n",
       "5680                                0                      0   \n",
       "\n",
       "      Item_Type_Health and Hygiene  Item_Type_Household  Item_Type_Meat  \\\n",
       "0                                0                    0               0   \n",
       "1                                0                    0               0   \n",
       "2                                0                    0               0   \n",
       "3                                0                    0               0   \n",
       "4                                0                    0               0   \n",
       "...                            ...                  ...             ...   \n",
       "5676                             0                    0               0   \n",
       "5677                             0                    0               0   \n",
       "5678                             1                    0               0   \n",
       "5679                             0                    0               0   \n",
       "5680                             0                    0               0   \n",
       "\n",
       "      Item_Type_Others  Item_Type_Seafood  Item_Type_Snack Foods  \\\n",
       "0                    0                  0                      1   \n",
       "1                    0                  0                      0   \n",
       "2                    1                  0                      0   \n",
       "3                    0                  0                      1   \n",
       "4                    0                  0                      0   \n",
       "...                ...                ...                    ...   \n",
       "5676                 0                  0                      1   \n",
       "5677                 0                  0                      0   \n",
       "5678                 0                  0                      0   \n",
       "5679                 0                  0                      0   \n",
       "5680                 0                  0                      0   \n",
       "\n",
       "      Item_Type_Soft Drinks  Item_Type_Starchy Foods  \n",
       "0                         0                        0  \n",
       "1                         0                        0  \n",
       "2                         0                        0  \n",
       "3                         0                        0  \n",
       "4                         0                        0  \n",
       "...                     ...                      ...  \n",
       "5676                      0                        0  \n",
       "5677                      0                        1  \n",
       "5678                      0                        0  \n",
       "5679                      0                        0  \n",
       "5680                      0                        0  \n",
       "\n",
       "[5681 rows x 16 columns]"
      ]
     },
     "execution_count": 262,
     "metadata": {},
     "output_type": "execute_result"
    }
   ],
   "source": [
    "# creating dummy variables for the values present in the column \"Item_Type\"\n",
    "df_dum_test=pd.get_dummies(df_test[\"Item_Type\"],prefix=\"Item_Type\")\n",
    "df_dum_test"
   ]
  },
  {
   "cell_type": "code",
   "execution_count": 263,
   "metadata": {},
   "outputs": [],
   "source": [
    "# withConcatenating the original dataframe \"df_test\" and dummy dataframe \"df_dum_test\"\n",
    "df_test=pd.concat([df_test,df_dum_test], axis=1)"
   ]
  },
  {
   "cell_type": "code",
   "execution_count": 264,
   "metadata": {},
   "outputs": [
    {
     "data": {
      "text/html": [
       "<div>\n",
       "<style scoped>\n",
       "    .dataframe tbody tr th:only-of-type {\n",
       "        vertical-align: middle;\n",
       "    }\n",
       "\n",
       "    .dataframe tbody tr th {\n",
       "        vertical-align: top;\n",
       "    }\n",
       "\n",
       "    .dataframe thead th {\n",
       "        text-align: right;\n",
       "    }\n",
       "</style>\n",
       "<table border=\"1\" class=\"dataframe\">\n",
       "  <thead>\n",
       "    <tr style=\"text-align: right;\">\n",
       "      <th></th>\n",
       "      <th>Item_Identifier</th>\n",
       "      <th>Item_Weight</th>\n",
       "      <th>Item_Fat_Content</th>\n",
       "      <th>Item_Visibility</th>\n",
       "      <th>Item_Type</th>\n",
       "      <th>Item_MRP</th>\n",
       "      <th>Outlet_Identifier</th>\n",
       "      <th>Outlet_Establishment_Year</th>\n",
       "      <th>Outlet_Size</th>\n",
       "      <th>Outlet_Location_Type</th>\n",
       "      <th>...</th>\n",
       "      <th>Item_Type_Fruits and Vegetables</th>\n",
       "      <th>Item_Type_Hard Drinks</th>\n",
       "      <th>Item_Type_Health and Hygiene</th>\n",
       "      <th>Item_Type_Household</th>\n",
       "      <th>Item_Type_Meat</th>\n",
       "      <th>Item_Type_Others</th>\n",
       "      <th>Item_Type_Seafood</th>\n",
       "      <th>Item_Type_Snack Foods</th>\n",
       "      <th>Item_Type_Soft Drinks</th>\n",
       "      <th>Item_Type_Starchy Foods</th>\n",
       "    </tr>\n",
       "  </thead>\n",
       "  <tbody>\n",
       "    <tr>\n",
       "      <th>0</th>\n",
       "      <td>FDW58</td>\n",
       "      <td>20.750000</td>\n",
       "      <td>0</td>\n",
       "      <td>0.007565</td>\n",
       "      <td>Snack Foods</td>\n",
       "      <td>107.8622</td>\n",
       "      <td>OUT049</td>\n",
       "      <td>1999</td>\n",
       "      <td>Medium</td>\n",
       "      <td>Tier 1</td>\n",
       "      <td>...</td>\n",
       "      <td>0</td>\n",
       "      <td>0</td>\n",
       "      <td>0</td>\n",
       "      <td>0</td>\n",
       "      <td>0</td>\n",
       "      <td>0</td>\n",
       "      <td>0</td>\n",
       "      <td>1</td>\n",
       "      <td>0</td>\n",
       "      <td>0</td>\n",
       "    </tr>\n",
       "    <tr>\n",
       "      <th>1</th>\n",
       "      <td>FDW14</td>\n",
       "      <td>8.300000</td>\n",
       "      <td>1</td>\n",
       "      <td>0.038428</td>\n",
       "      <td>Dairy</td>\n",
       "      <td>87.3198</td>\n",
       "      <td>OUT017</td>\n",
       "      <td>2007</td>\n",
       "      <td>NaN</td>\n",
       "      <td>Tier 2</td>\n",
       "      <td>...</td>\n",
       "      <td>0</td>\n",
       "      <td>0</td>\n",
       "      <td>0</td>\n",
       "      <td>0</td>\n",
       "      <td>0</td>\n",
       "      <td>0</td>\n",
       "      <td>0</td>\n",
       "      <td>0</td>\n",
       "      <td>0</td>\n",
       "      <td>0</td>\n",
       "    </tr>\n",
       "    <tr>\n",
       "      <th>2</th>\n",
       "      <td>NCN55</td>\n",
       "      <td>14.600000</td>\n",
       "      <td>0</td>\n",
       "      <td>0.099575</td>\n",
       "      <td>Others</td>\n",
       "      <td>241.7538</td>\n",
       "      <td>OUT010</td>\n",
       "      <td>1998</td>\n",
       "      <td>NaN</td>\n",
       "      <td>Tier 3</td>\n",
       "      <td>...</td>\n",
       "      <td>0</td>\n",
       "      <td>0</td>\n",
       "      <td>0</td>\n",
       "      <td>0</td>\n",
       "      <td>0</td>\n",
       "      <td>1</td>\n",
       "      <td>0</td>\n",
       "      <td>0</td>\n",
       "      <td>0</td>\n",
       "      <td>0</td>\n",
       "    </tr>\n",
       "    <tr>\n",
       "      <th>3</th>\n",
       "      <td>FDQ58</td>\n",
       "      <td>7.315000</td>\n",
       "      <td>0</td>\n",
       "      <td>0.015388</td>\n",
       "      <td>Snack Foods</td>\n",
       "      <td>155.0340</td>\n",
       "      <td>OUT017</td>\n",
       "      <td>2007</td>\n",
       "      <td>NaN</td>\n",
       "      <td>Tier 2</td>\n",
       "      <td>...</td>\n",
       "      <td>0</td>\n",
       "      <td>0</td>\n",
       "      <td>0</td>\n",
       "      <td>0</td>\n",
       "      <td>0</td>\n",
       "      <td>0</td>\n",
       "      <td>0</td>\n",
       "      <td>1</td>\n",
       "      <td>0</td>\n",
       "      <td>0</td>\n",
       "    </tr>\n",
       "    <tr>\n",
       "      <th>4</th>\n",
       "      <td>FDY38</td>\n",
       "      <td>12.695633</td>\n",
       "      <td>1</td>\n",
       "      <td>0.118599</td>\n",
       "      <td>Dairy</td>\n",
       "      <td>234.2300</td>\n",
       "      <td>OUT027</td>\n",
       "      <td>1985</td>\n",
       "      <td>Medium</td>\n",
       "      <td>Tier 3</td>\n",
       "      <td>...</td>\n",
       "      <td>0</td>\n",
       "      <td>0</td>\n",
       "      <td>0</td>\n",
       "      <td>0</td>\n",
       "      <td>0</td>\n",
       "      <td>0</td>\n",
       "      <td>0</td>\n",
       "      <td>0</td>\n",
       "      <td>0</td>\n",
       "      <td>0</td>\n",
       "    </tr>\n",
       "  </tbody>\n",
       "</table>\n",
       "<p>5 rows × 1570 columns</p>\n",
       "</div>"
      ],
      "text/plain": [
       "  Item_Identifier  Item_Weight  Item_Fat_Content  Item_Visibility  \\\n",
       "0           FDW58    20.750000                 0         0.007565   \n",
       "1           FDW14     8.300000                 1         0.038428   \n",
       "2           NCN55    14.600000                 0         0.099575   \n",
       "3           FDQ58     7.315000                 0         0.015388   \n",
       "4           FDY38    12.695633                 1         0.118599   \n",
       "\n",
       "     Item_Type  Item_MRP Outlet_Identifier  Outlet_Establishment_Year  \\\n",
       "0  Snack Foods  107.8622            OUT049                       1999   \n",
       "1        Dairy   87.3198            OUT017                       2007   \n",
       "2       Others  241.7538            OUT010                       1998   \n",
       "3  Snack Foods  155.0340            OUT017                       2007   \n",
       "4        Dairy  234.2300            OUT027                       1985   \n",
       "\n",
       "  Outlet_Size Outlet_Location_Type  ... Item_Type_Fruits and Vegetables  \\\n",
       "0      Medium               Tier 1  ...                               0   \n",
       "1         NaN               Tier 2  ...                               0   \n",
       "2         NaN               Tier 3  ...                               0   \n",
       "3         NaN               Tier 2  ...                               0   \n",
       "4      Medium               Tier 3  ...                               0   \n",
       "\n",
       "   Item_Type_Hard Drinks  Item_Type_Health and Hygiene  Item_Type_Household  \\\n",
       "0                      0                             0                    0   \n",
       "1                      0                             0                    0   \n",
       "2                      0                             0                    0   \n",
       "3                      0                             0                    0   \n",
       "4                      0                             0                    0   \n",
       "\n",
       "   Item_Type_Meat  Item_Type_Others  Item_Type_Seafood  Item_Type_Snack Foods  \\\n",
       "0               0                 0                  0                      1   \n",
       "1               0                 0                  0                      0   \n",
       "2               0                 1                  0                      0   \n",
       "3               0                 0                  0                      1   \n",
       "4               0                 0                  0                      0   \n",
       "\n",
       "   Item_Type_Soft Drinks  Item_Type_Starchy Foods  \n",
       "0                      0                        0  \n",
       "1                      0                        0  \n",
       "2                      0                        0  \n",
       "3                      0                        0  \n",
       "4                      0                        0  \n",
       "\n",
       "[5 rows x 1570 columns]"
      ]
     },
     "execution_count": 264,
     "metadata": {},
     "output_type": "execute_result"
    }
   ],
   "source": [
    "#Checing the test dataframe after cncatenatination\n",
    "df_test.head()"
   ]
  },
  {
   "cell_type": "code",
   "execution_count": 265,
   "metadata": {},
   "outputs": [],
   "source": [
    "#Creating dummy variables out of \"Outlet_Identifier\" column\n",
    "df_dum_outlet_ident=pd.get_dummies(df_test['Outlet_Identifier'], prefix=\"Outlet_Identity\")"
   ]
  },
  {
   "cell_type": "code",
   "execution_count": 266,
   "metadata": {},
   "outputs": [
    {
     "data": {
      "text/html": [
       "<div>\n",
       "<style scoped>\n",
       "    .dataframe tbody tr th:only-of-type {\n",
       "        vertical-align: middle;\n",
       "    }\n",
       "\n",
       "    .dataframe tbody tr th {\n",
       "        vertical-align: top;\n",
       "    }\n",
       "\n",
       "    .dataframe thead th {\n",
       "        text-align: right;\n",
       "    }\n",
       "</style>\n",
       "<table border=\"1\" class=\"dataframe\">\n",
       "  <thead>\n",
       "    <tr style=\"text-align: right;\">\n",
       "      <th></th>\n",
       "      <th>Item_Identifier</th>\n",
       "      <th>Item_Weight</th>\n",
       "      <th>Item_Fat_Content</th>\n",
       "      <th>Item_Visibility</th>\n",
       "      <th>Item_Type</th>\n",
       "      <th>Item_MRP</th>\n",
       "      <th>Outlet_Identifier</th>\n",
       "      <th>Outlet_Establishment_Year</th>\n",
       "      <th>Outlet_Size</th>\n",
       "      <th>Outlet_Location_Type</th>\n",
       "      <th>...</th>\n",
       "      <th>Outlet_Identity_OUT010</th>\n",
       "      <th>Outlet_Identity_OUT013</th>\n",
       "      <th>Outlet_Identity_OUT017</th>\n",
       "      <th>Outlet_Identity_OUT018</th>\n",
       "      <th>Outlet_Identity_OUT019</th>\n",
       "      <th>Outlet_Identity_OUT027</th>\n",
       "      <th>Outlet_Identity_OUT035</th>\n",
       "      <th>Outlet_Identity_OUT045</th>\n",
       "      <th>Outlet_Identity_OUT046</th>\n",
       "      <th>Outlet_Identity_OUT049</th>\n",
       "    </tr>\n",
       "  </thead>\n",
       "  <tbody>\n",
       "    <tr>\n",
       "      <th>0</th>\n",
       "      <td>FDW58</td>\n",
       "      <td>20.750000</td>\n",
       "      <td>0</td>\n",
       "      <td>0.007565</td>\n",
       "      <td>Snack Foods</td>\n",
       "      <td>107.8622</td>\n",
       "      <td>OUT049</td>\n",
       "      <td>1999</td>\n",
       "      <td>Medium</td>\n",
       "      <td>Tier 1</td>\n",
       "      <td>...</td>\n",
       "      <td>0</td>\n",
       "      <td>0</td>\n",
       "      <td>0</td>\n",
       "      <td>0</td>\n",
       "      <td>0</td>\n",
       "      <td>0</td>\n",
       "      <td>0</td>\n",
       "      <td>0</td>\n",
       "      <td>0</td>\n",
       "      <td>1</td>\n",
       "    </tr>\n",
       "    <tr>\n",
       "      <th>1</th>\n",
       "      <td>FDW14</td>\n",
       "      <td>8.300000</td>\n",
       "      <td>1</td>\n",
       "      <td>0.038428</td>\n",
       "      <td>Dairy</td>\n",
       "      <td>87.3198</td>\n",
       "      <td>OUT017</td>\n",
       "      <td>2007</td>\n",
       "      <td>NaN</td>\n",
       "      <td>Tier 2</td>\n",
       "      <td>...</td>\n",
       "      <td>0</td>\n",
       "      <td>0</td>\n",
       "      <td>1</td>\n",
       "      <td>0</td>\n",
       "      <td>0</td>\n",
       "      <td>0</td>\n",
       "      <td>0</td>\n",
       "      <td>0</td>\n",
       "      <td>0</td>\n",
       "      <td>0</td>\n",
       "    </tr>\n",
       "    <tr>\n",
       "      <th>2</th>\n",
       "      <td>NCN55</td>\n",
       "      <td>14.600000</td>\n",
       "      <td>0</td>\n",
       "      <td>0.099575</td>\n",
       "      <td>Others</td>\n",
       "      <td>241.7538</td>\n",
       "      <td>OUT010</td>\n",
       "      <td>1998</td>\n",
       "      <td>NaN</td>\n",
       "      <td>Tier 3</td>\n",
       "      <td>...</td>\n",
       "      <td>1</td>\n",
       "      <td>0</td>\n",
       "      <td>0</td>\n",
       "      <td>0</td>\n",
       "      <td>0</td>\n",
       "      <td>0</td>\n",
       "      <td>0</td>\n",
       "      <td>0</td>\n",
       "      <td>0</td>\n",
       "      <td>0</td>\n",
       "    </tr>\n",
       "    <tr>\n",
       "      <th>3</th>\n",
       "      <td>FDQ58</td>\n",
       "      <td>7.315000</td>\n",
       "      <td>0</td>\n",
       "      <td>0.015388</td>\n",
       "      <td>Snack Foods</td>\n",
       "      <td>155.0340</td>\n",
       "      <td>OUT017</td>\n",
       "      <td>2007</td>\n",
       "      <td>NaN</td>\n",
       "      <td>Tier 2</td>\n",
       "      <td>...</td>\n",
       "      <td>0</td>\n",
       "      <td>0</td>\n",
       "      <td>1</td>\n",
       "      <td>0</td>\n",
       "      <td>0</td>\n",
       "      <td>0</td>\n",
       "      <td>0</td>\n",
       "      <td>0</td>\n",
       "      <td>0</td>\n",
       "      <td>0</td>\n",
       "    </tr>\n",
       "    <tr>\n",
       "      <th>4</th>\n",
       "      <td>FDY38</td>\n",
       "      <td>12.695633</td>\n",
       "      <td>1</td>\n",
       "      <td>0.118599</td>\n",
       "      <td>Dairy</td>\n",
       "      <td>234.2300</td>\n",
       "      <td>OUT027</td>\n",
       "      <td>1985</td>\n",
       "      <td>Medium</td>\n",
       "      <td>Tier 3</td>\n",
       "      <td>...</td>\n",
       "      <td>0</td>\n",
       "      <td>0</td>\n",
       "      <td>0</td>\n",
       "      <td>0</td>\n",
       "      <td>0</td>\n",
       "      <td>1</td>\n",
       "      <td>0</td>\n",
       "      <td>0</td>\n",
       "      <td>0</td>\n",
       "      <td>0</td>\n",
       "    </tr>\n",
       "  </tbody>\n",
       "</table>\n",
       "<p>5 rows × 1580 columns</p>\n",
       "</div>"
      ],
      "text/plain": [
       "  Item_Identifier  Item_Weight  Item_Fat_Content  Item_Visibility  \\\n",
       "0           FDW58    20.750000                 0         0.007565   \n",
       "1           FDW14     8.300000                 1         0.038428   \n",
       "2           NCN55    14.600000                 0         0.099575   \n",
       "3           FDQ58     7.315000                 0         0.015388   \n",
       "4           FDY38    12.695633                 1         0.118599   \n",
       "\n",
       "     Item_Type  Item_MRP Outlet_Identifier  Outlet_Establishment_Year  \\\n",
       "0  Snack Foods  107.8622            OUT049                       1999   \n",
       "1        Dairy   87.3198            OUT017                       2007   \n",
       "2       Others  241.7538            OUT010                       1998   \n",
       "3  Snack Foods  155.0340            OUT017                       2007   \n",
       "4        Dairy  234.2300            OUT027                       1985   \n",
       "\n",
       "  Outlet_Size Outlet_Location_Type  ... Outlet_Identity_OUT010  \\\n",
       "0      Medium               Tier 1  ...                      0   \n",
       "1         NaN               Tier 2  ...                      0   \n",
       "2         NaN               Tier 3  ...                      1   \n",
       "3         NaN               Tier 2  ...                      0   \n",
       "4      Medium               Tier 3  ...                      0   \n",
       "\n",
       "   Outlet_Identity_OUT013  Outlet_Identity_OUT017  Outlet_Identity_OUT018  \\\n",
       "0                       0                       0                       0   \n",
       "1                       0                       1                       0   \n",
       "2                       0                       0                       0   \n",
       "3                       0                       1                       0   \n",
       "4                       0                       0                       0   \n",
       "\n",
       "   Outlet_Identity_OUT019  Outlet_Identity_OUT027  Outlet_Identity_OUT035  \\\n",
       "0                       0                       0                       0   \n",
       "1                       0                       0                       0   \n",
       "2                       0                       0                       0   \n",
       "3                       0                       0                       0   \n",
       "4                       0                       1                       0   \n",
       "\n",
       "   Outlet_Identity_OUT045  Outlet_Identity_OUT046  Outlet_Identity_OUT049  \n",
       "0                       0                       0                       1  \n",
       "1                       0                       0                       0  \n",
       "2                       0                       0                       0  \n",
       "3                       0                       0                       0  \n",
       "4                       0                       0                       0  \n",
       "\n",
       "[5 rows x 1580 columns]"
      ]
     },
     "execution_count": 266,
     "metadata": {},
     "output_type": "execute_result"
    }
   ],
   "source": [
    "# with Concatenating the original dataframe \"df_test\" and dummy dataframe \"df_dum_outlet_ident\"\n",
    "df_test=pd.concat([df_test,df_dum_outlet_ident], axis=1)\n",
    "df_test.head()"
   ]
  },
  {
   "cell_type": "code",
   "execution_count": 267,
   "metadata": {},
   "outputs": [],
   "source": [
    "#Replacing the string \"nan\" with np.nan values\n",
    "df_test[\"Outlet_Size\"]=df_test['Outlet_Size'].replace(\"nan\", np.nan)"
   ]
  },
  {
   "cell_type": "code",
   "execution_count": 268,
   "metadata": {},
   "outputs": [],
   "source": [
    "#Replacing the missing values \n",
    "df_test[\"Outlet_Size\"]=df_test[\"Outlet_Size\"].fillna(df_test[\"Outlet_Size\"].mode().iat[0])"
   ]
  },
  {
   "cell_type": "code",
   "execution_count": 269,
   "metadata": {},
   "outputs": [
    {
     "data": {
      "text/plain": [
       "0       1\n",
       "1       1\n",
       "2       1\n",
       "3       1\n",
       "4       1\n",
       "       ..\n",
       "5676    2\n",
       "5677    1\n",
       "5678    1\n",
       "5679    1\n",
       "5680    1\n",
       "Name: Outlet_Size, Length: 5681, dtype: int32"
      ]
     },
     "execution_count": 269,
     "metadata": {},
     "output_type": "execute_result"
    }
   ],
   "source": [
    "#Label encoding the column \"Outlet_Size\"\n",
    "le_outletsize=LabelEncoder()\n",
    "le_outletsize.fit(df_test[\"Outlet_Size\"])\n",
    "le_outletsize.classes_\n",
    "df_test[\"Outlet_Size\"]=le_outletsize.transform(df_test[\"Outlet_Size\"])\n",
    "df_test[\"Outlet_Size\"]"
   ]
  },
  {
   "cell_type": "code",
   "execution_count": 270,
   "metadata": {},
   "outputs": [
    {
     "data": {
      "text/plain": [
       "0       0\n",
       "1       1\n",
       "2       2\n",
       "3       1\n",
       "4       2\n",
       "       ..\n",
       "5676    0\n",
       "5677    2\n",
       "5678    1\n",
       "5679    1\n",
       "5680    1\n",
       "Name: Outlet_Location_Type, Length: 5681, dtype: int32"
      ]
     },
     "execution_count": 270,
     "metadata": {},
     "output_type": "execute_result"
    }
   ],
   "source": [
    "#Label encoding the column \"Outlet_Location_Type\"\n",
    "le_location_type=LabelEncoder()\n",
    "le_location_type.fit(df_test[\"Outlet_Location_Type\"])\n",
    "le_location_type.classes_\n",
    "df_test[\"Outlet_Location_Type\"]=le_location_type.transform(df_test[\"Outlet_Location_Type\"])\n",
    "df_test[\"Outlet_Location_Type\"]"
   ]
  },
  {
   "cell_type": "code",
   "execution_count": 271,
   "metadata": {},
   "outputs": [
    {
     "data": {
      "text/plain": [
       "0       1\n",
       "1       1\n",
       "2       0\n",
       "3       1\n",
       "4       3\n",
       "       ..\n",
       "5676    1\n",
       "5677    2\n",
       "5678    1\n",
       "5679    1\n",
       "5680    1\n",
       "Name: Outlet_Type, Length: 5681, dtype: int32"
      ]
     },
     "execution_count": 271,
     "metadata": {},
     "output_type": "execute_result"
    }
   ],
   "source": [
    "#label Encoding the column \"Outlet_Type\"\n",
    "le_outlet_type=LabelEncoder()\n",
    "df_test[\"Outlet_Type\"]=le_outlet_type.fit_transform(df_test[\"Outlet_Type\"])\n",
    "#le3.classes_\n",
    "#df_train[\"Outlet_Type\"]=le3.transform(df_train[\"Outlet_Type\"])\n",
    "df_test['Outlet_Type']"
   ]
  },
  {
   "cell_type": "code",
   "execution_count": 272,
   "metadata": {},
   "outputs": [],
   "source": [
    "#dropping the rendundant columns as these columns have already been converted using either label encoding or onehot encoding\n",
    "df_test.drop([\"Item_Type\",\"Outlet_Identifier\", \"Item_Identifier\"], axis=1, inplace=True)"
   ]
  },
  {
   "cell_type": "code",
   "execution_count": 273,
   "metadata": {},
   "outputs": [
    {
     "data": {
      "text/html": [
       "<div>\n",
       "<style scoped>\n",
       "    .dataframe tbody tr th:only-of-type {\n",
       "        vertical-align: middle;\n",
       "    }\n",
       "\n",
       "    .dataframe tbody tr th {\n",
       "        vertical-align: top;\n",
       "    }\n",
       "\n",
       "    .dataframe thead th {\n",
       "        text-align: right;\n",
       "    }\n",
       "</style>\n",
       "<table border=\"1\" class=\"dataframe\">\n",
       "  <thead>\n",
       "    <tr style=\"text-align: right;\">\n",
       "      <th></th>\n",
       "      <th>Item_Weight</th>\n",
       "      <th>Item_Fat_Content</th>\n",
       "      <th>Item_Visibility</th>\n",
       "      <th>Item_MRP</th>\n",
       "      <th>Outlet_Establishment_Year</th>\n",
       "      <th>Outlet_Size</th>\n",
       "      <th>Outlet_Location_Type</th>\n",
       "      <th>Outlet_Type</th>\n",
       "      <th>DRA12</th>\n",
       "      <th>DRA24</th>\n",
       "      <th>...</th>\n",
       "      <th>Outlet_Identity_OUT010</th>\n",
       "      <th>Outlet_Identity_OUT013</th>\n",
       "      <th>Outlet_Identity_OUT017</th>\n",
       "      <th>Outlet_Identity_OUT018</th>\n",
       "      <th>Outlet_Identity_OUT019</th>\n",
       "      <th>Outlet_Identity_OUT027</th>\n",
       "      <th>Outlet_Identity_OUT035</th>\n",
       "      <th>Outlet_Identity_OUT045</th>\n",
       "      <th>Outlet_Identity_OUT046</th>\n",
       "      <th>Outlet_Identity_OUT049</th>\n",
       "    </tr>\n",
       "  </thead>\n",
       "  <tbody>\n",
       "    <tr>\n",
       "      <th>0</th>\n",
       "      <td>20.750000</td>\n",
       "      <td>0</td>\n",
       "      <td>0.007565</td>\n",
       "      <td>107.8622</td>\n",
       "      <td>1999</td>\n",
       "      <td>1</td>\n",
       "      <td>0</td>\n",
       "      <td>1</td>\n",
       "      <td>0</td>\n",
       "      <td>0</td>\n",
       "      <td>...</td>\n",
       "      <td>0</td>\n",
       "      <td>0</td>\n",
       "      <td>0</td>\n",
       "      <td>0</td>\n",
       "      <td>0</td>\n",
       "      <td>0</td>\n",
       "      <td>0</td>\n",
       "      <td>0</td>\n",
       "      <td>0</td>\n",
       "      <td>1</td>\n",
       "    </tr>\n",
       "    <tr>\n",
       "      <th>1</th>\n",
       "      <td>8.300000</td>\n",
       "      <td>1</td>\n",
       "      <td>0.038428</td>\n",
       "      <td>87.3198</td>\n",
       "      <td>2007</td>\n",
       "      <td>1</td>\n",
       "      <td>1</td>\n",
       "      <td>1</td>\n",
       "      <td>0</td>\n",
       "      <td>0</td>\n",
       "      <td>...</td>\n",
       "      <td>0</td>\n",
       "      <td>0</td>\n",
       "      <td>1</td>\n",
       "      <td>0</td>\n",
       "      <td>0</td>\n",
       "      <td>0</td>\n",
       "      <td>0</td>\n",
       "      <td>0</td>\n",
       "      <td>0</td>\n",
       "      <td>0</td>\n",
       "    </tr>\n",
       "    <tr>\n",
       "      <th>2</th>\n",
       "      <td>14.600000</td>\n",
       "      <td>0</td>\n",
       "      <td>0.099575</td>\n",
       "      <td>241.7538</td>\n",
       "      <td>1998</td>\n",
       "      <td>1</td>\n",
       "      <td>2</td>\n",
       "      <td>0</td>\n",
       "      <td>0</td>\n",
       "      <td>0</td>\n",
       "      <td>...</td>\n",
       "      <td>1</td>\n",
       "      <td>0</td>\n",
       "      <td>0</td>\n",
       "      <td>0</td>\n",
       "      <td>0</td>\n",
       "      <td>0</td>\n",
       "      <td>0</td>\n",
       "      <td>0</td>\n",
       "      <td>0</td>\n",
       "      <td>0</td>\n",
       "    </tr>\n",
       "    <tr>\n",
       "      <th>3</th>\n",
       "      <td>7.315000</td>\n",
       "      <td>0</td>\n",
       "      <td>0.015388</td>\n",
       "      <td>155.0340</td>\n",
       "      <td>2007</td>\n",
       "      <td>1</td>\n",
       "      <td>1</td>\n",
       "      <td>1</td>\n",
       "      <td>0</td>\n",
       "      <td>0</td>\n",
       "      <td>...</td>\n",
       "      <td>0</td>\n",
       "      <td>0</td>\n",
       "      <td>1</td>\n",
       "      <td>0</td>\n",
       "      <td>0</td>\n",
       "      <td>0</td>\n",
       "      <td>0</td>\n",
       "      <td>0</td>\n",
       "      <td>0</td>\n",
       "      <td>0</td>\n",
       "    </tr>\n",
       "    <tr>\n",
       "      <th>4</th>\n",
       "      <td>12.695633</td>\n",
       "      <td>1</td>\n",
       "      <td>0.118599</td>\n",
       "      <td>234.2300</td>\n",
       "      <td>1985</td>\n",
       "      <td>1</td>\n",
       "      <td>2</td>\n",
       "      <td>3</td>\n",
       "      <td>0</td>\n",
       "      <td>0</td>\n",
       "      <td>...</td>\n",
       "      <td>0</td>\n",
       "      <td>0</td>\n",
       "      <td>0</td>\n",
       "      <td>0</td>\n",
       "      <td>0</td>\n",
       "      <td>1</td>\n",
       "      <td>0</td>\n",
       "      <td>0</td>\n",
       "      <td>0</td>\n",
       "      <td>0</td>\n",
       "    </tr>\n",
       "  </tbody>\n",
       "</table>\n",
       "<p>5 rows × 1577 columns</p>\n",
       "</div>"
      ],
      "text/plain": [
       "   Item_Weight  Item_Fat_Content  Item_Visibility  Item_MRP  \\\n",
       "0    20.750000                 0         0.007565  107.8622   \n",
       "1     8.300000                 1         0.038428   87.3198   \n",
       "2    14.600000                 0         0.099575  241.7538   \n",
       "3     7.315000                 0         0.015388  155.0340   \n",
       "4    12.695633                 1         0.118599  234.2300   \n",
       "\n",
       "   Outlet_Establishment_Year  Outlet_Size  Outlet_Location_Type  Outlet_Type  \\\n",
       "0                       1999            1                     0            1   \n",
       "1                       2007            1                     1            1   \n",
       "2                       1998            1                     2            0   \n",
       "3                       2007            1                     1            1   \n",
       "4                       1985            1                     2            3   \n",
       "\n",
       "   DRA12  DRA24  ...  Outlet_Identity_OUT010  Outlet_Identity_OUT013  \\\n",
       "0      0      0  ...                       0                       0   \n",
       "1      0      0  ...                       0                       0   \n",
       "2      0      0  ...                       1                       0   \n",
       "3      0      0  ...                       0                       0   \n",
       "4      0      0  ...                       0                       0   \n",
       "\n",
       "   Outlet_Identity_OUT017  Outlet_Identity_OUT018  Outlet_Identity_OUT019  \\\n",
       "0                       0                       0                       0   \n",
       "1                       1                       0                       0   \n",
       "2                       0                       0                       0   \n",
       "3                       1                       0                       0   \n",
       "4                       0                       0                       0   \n",
       "\n",
       "   Outlet_Identity_OUT027  Outlet_Identity_OUT035  Outlet_Identity_OUT045  \\\n",
       "0                       0                       0                       0   \n",
       "1                       0                       0                       0   \n",
       "2                       0                       0                       0   \n",
       "3                       0                       0                       0   \n",
       "4                       1                       0                       0   \n",
       "\n",
       "   Outlet_Identity_OUT046  Outlet_Identity_OUT049  \n",
       "0                       0                       1  \n",
       "1                       0                       0  \n",
       "2                       0                       0  \n",
       "3                       0                       0  \n",
       "4                       0                       0  \n",
       "\n",
       "[5 rows x 1577 columns]"
      ]
     },
     "execution_count": 273,
     "metadata": {},
     "output_type": "execute_result"
    }
   ],
   "source": [
    "df_test.head()"
   ]
  },
  {
   "cell_type": "code",
   "execution_count": 274,
   "metadata": {},
   "outputs": [
    {
     "data": {
      "text/plain": [
       "0       1990\n",
       "1       2000\n",
       "2       1990\n",
       "3       2000\n",
       "4       1980\n",
       "        ... \n",
       "5676    1990\n",
       "5677    2000\n",
       "5678    2000\n",
       "5679    2000\n",
       "5680    2000\n",
       "Name: Outlet_Establishment_Year, Length: 5681, dtype: category\n",
       "Categories (4, object): ['1980' < '1990' < '2000' < '2010']"
      ]
     },
     "execution_count": 274,
     "metadata": {},
     "output_type": "execute_result"
    }
   ],
   "source": [
    "#Binning the column \"Outlet_Establishment_Year\" into interval of 10 years\n",
    "df_test['Outlet_Establishment_Year']=pd.cut(df_test.Outlet_Establishment_Year, [1980,1990,2000,2010,2020], labels=['1980','1990','2000','2010'])\n",
    "df_test['Outlet_Establishment_Year']"
   ]
  },
  {
   "cell_type": "code",
   "execution_count": 275,
   "metadata": {},
   "outputs": [
    {
     "data": {
      "text/plain": [
       "0       1\n",
       "1       2\n",
       "2       1\n",
       "3       2\n",
       "4       0\n",
       "       ..\n",
       "5676    1\n",
       "5677    2\n",
       "5678    2\n",
       "5679    2\n",
       "5680    2\n",
       "Name: Outlet_Establishment_Year, Length: 5681, dtype: int32"
      ]
     },
     "execution_count": 275,
     "metadata": {},
     "output_type": "execute_result"
    }
   ],
   "source": [
    "#lebel encoding the updated \"Outlet_Establishment_Year\"\n",
    "le_year=LabelEncoder()\n",
    "df_test['Outlet_Establishment_Year']=le_year.fit_transform(df_test[\"Outlet_Establishment_Year\"])\n",
    "#le4.classes_\n",
    "#df_train[\"Outlet_Establishment_Year\"]=le4.transform(df_train[\"Outlet_Establishment_Year\"])\n",
    "df_test['Outlet_Establishment_Year']"
   ]
  },
  {
   "cell_type": "code",
   "execution_count": 276,
   "metadata": {},
   "outputs": [
    {
     "name": "stdout",
     "output_type": "stream",
     "text": [
      "<class 'pandas.core.frame.DataFrame'>\n",
      "RangeIndex: 5681 entries, 0 to 5680\n",
      "Columns: 1577 entries, Item_Weight to Outlet_Identity_OUT049\n",
      "dtypes: float64(3), int32(5), uint8(1569)\n",
      "memory usage: 8.7 MB\n"
     ]
    }
   ],
   "source": [
    "df_test.info()"
   ]
  },
  {
   "cell_type": "code",
   "execution_count": 277,
   "metadata": {},
   "outputs": [],
   "source": [
    "scaler=StandardScaler()\n",
    "scaler.fit(df_test)\n",
    "#Apply transform test set\n",
    "X_test1= scaler.transform(df_test)"
   ]
  },
  {
   "cell_type": "code",
   "execution_count": 243,
   "metadata": {},
   "outputs": [
    {
     "ename": "ValueError",
     "evalue": "operands could not be broadcast together with shapes (5681,1577) (1593,) ",
     "output_type": "error",
     "traceback": [
      "\u001b[1;31m---------------------------------------------------------------------------\u001b[0m",
      "\u001b[1;31mValueError\u001b[0m                                Traceback (most recent call last)",
      "\u001b[1;32m<ipython-input-243-d1cfee12bee8>\u001b[0m in \u001b[0;36m<module>\u001b[1;34m\u001b[0m\n\u001b[0;32m      1\u001b[0m \u001b[1;31m#applying the the mapping(transform) to testing set\u001b[0m\u001b[1;33m\u001b[0m\u001b[1;33m\u001b[0m\u001b[1;33m\u001b[0m\u001b[0m\n\u001b[1;32m----> 2\u001b[1;33m \u001b[0mX_test1\u001b[0m\u001b[1;33m=\u001b[0m\u001b[0mpca\u001b[0m\u001b[1;33m.\u001b[0m\u001b[0mtransform\u001b[0m\u001b[1;33m(\u001b[0m\u001b[0mX_test1\u001b[0m\u001b[1;33m)\u001b[0m\u001b[1;33m\u001b[0m\u001b[1;33m\u001b[0m\u001b[0m\n\u001b[0m",
      "\u001b[1;32m~\\anaconda3\\lib\\site-packages\\sklearn\\decomposition\\_base.py\u001b[0m in \u001b[0;36mtransform\u001b[1;34m(self, X)\u001b[0m\n\u001b[0;32m    127\u001b[0m         \u001b[0mX\u001b[0m \u001b[1;33m=\u001b[0m \u001b[0mcheck_array\u001b[0m\u001b[1;33m(\u001b[0m\u001b[0mX\u001b[0m\u001b[1;33m)\u001b[0m\u001b[1;33m\u001b[0m\u001b[1;33m\u001b[0m\u001b[0m\n\u001b[0;32m    128\u001b[0m         \u001b[1;32mif\u001b[0m \u001b[0mself\u001b[0m\u001b[1;33m.\u001b[0m\u001b[0mmean_\u001b[0m \u001b[1;32mis\u001b[0m \u001b[1;32mnot\u001b[0m \u001b[1;32mNone\u001b[0m\u001b[1;33m:\u001b[0m\u001b[1;33m\u001b[0m\u001b[1;33m\u001b[0m\u001b[0m\n\u001b[1;32m--> 129\u001b[1;33m             \u001b[0mX\u001b[0m \u001b[1;33m=\u001b[0m \u001b[0mX\u001b[0m \u001b[1;33m-\u001b[0m \u001b[0mself\u001b[0m\u001b[1;33m.\u001b[0m\u001b[0mmean_\u001b[0m\u001b[1;33m\u001b[0m\u001b[1;33m\u001b[0m\u001b[0m\n\u001b[0m\u001b[0;32m    130\u001b[0m         \u001b[0mX_transformed\u001b[0m \u001b[1;33m=\u001b[0m \u001b[0mnp\u001b[0m\u001b[1;33m.\u001b[0m\u001b[0mdot\u001b[0m\u001b[1;33m(\u001b[0m\u001b[0mX\u001b[0m\u001b[1;33m,\u001b[0m \u001b[0mself\u001b[0m\u001b[1;33m.\u001b[0m\u001b[0mcomponents_\u001b[0m\u001b[1;33m.\u001b[0m\u001b[0mT\u001b[0m\u001b[1;33m)\u001b[0m\u001b[1;33m\u001b[0m\u001b[1;33m\u001b[0m\u001b[0m\n\u001b[0;32m    131\u001b[0m         \u001b[1;32mif\u001b[0m \u001b[0mself\u001b[0m\u001b[1;33m.\u001b[0m\u001b[0mwhiten\u001b[0m\u001b[1;33m:\u001b[0m\u001b[1;33m\u001b[0m\u001b[1;33m\u001b[0m\u001b[0m\n",
      "\u001b[1;31mValueError\u001b[0m: operands could not be broadcast together with shapes (5681,1577) (1593,) "
     ]
    }
   ],
   "source": [
    "#applying the the mapping(transform) to testing set \n",
    "X_test1=pca.transform(X_test1)"
   ]
  },
  {
   "cell_type": "code",
   "execution_count": null,
   "metadata": {},
   "outputs": [],
   "source": []
  }
 ],
 "metadata": {
  "kernelspec": {
   "display_name": "Python 3",
   "language": "python",
   "name": "python3"
  },
  "language_info": {
   "codemirror_mode": {
    "name": "ipython",
    "version": 3
   },
   "file_extension": ".py",
   "mimetype": "text/x-python",
   "name": "python",
   "nbconvert_exporter": "python",
   "pygments_lexer": "ipython3",
   "version": "3.7.6"
  }
 },
 "nbformat": 4,
 "nbformat_minor": 4
}
